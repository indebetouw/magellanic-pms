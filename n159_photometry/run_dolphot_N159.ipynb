{
 "cells": [
  {
   "cell_type": "code",
   "execution_count": 7,
   "id": "40e5fda5",
   "metadata": {},
   "outputs": [],
   "source": [
    "import os,shutil\n",
    "from glob import glob"
   ]
  },
  {
   "cell_type": "code",
   "execution_count": 14,
   "id": "1bb4c087",
   "metadata": {},
   "outputs": [],
   "source": [
    "region=\"off\"\n",
    "filt=\"f555w\"\n",
    "\n",
    "# autoset catalog path based on user\n",
    "if os.environ['USER'] =='remy':\n",
    "    workdir=\"/Users/remy/cv/magellanic/n159/\"\n",
    "    dolbin=\"/Users/remy/cv/magellanic/dolphot/dolphot2.0/bin/\"\n",
    "    \n",
    "os.chdir(workdir+region+\"/\"+filt+\"/\")\n",
    "\n",
    "if filt==\"f125w\" or filt==\"f160w\":\n",
    "    kind=\"flt\"  \n",
    "    camera=\"wfc3\"\n",
    "else:\n",
    "    # this is of course particular to this project that we did UVO with ACS and IR with WFC3\n",
    "    kind=\"flc\"\n",
    "    camera=\"acs\"\n",
    "    "
   ]
  },
  {
   "cell_type": "code",
   "execution_count": 19,
   "id": "39c40c61",
   "metadata": {},
   "outputs": [
    {
     "name": "stdout",
     "output_type": "stream",
     "text": [
      "['jcbn05a4q_flc.fits', 'jcbna5abq_flc.fits', 'jcbn05a8q_flc.fits', 'jcbna5apq_flc.fits']\n",
      "jcbn05a4q_flc.gaiareg.fits exists\n",
      "jcbn05a4q_flc.chip2.sky.fits exists\n",
      "jcbn05a4q_flc.chip1.sky.fits exists\n",
      "jcbna5abq_flc.gaiareg.fits exists\n",
      "jcbna5abq_flc.chip1.sky.fits exists\n",
      "jcbna5abq_flc.chip2.sky.fits exists\n",
      "jcbn05a8q_flc.gaiareg.fits exists\n",
      "jcbn05a8q_flc.chip1.sky.fits exists\n",
      "jcbn05a8q_flc.chip2.sky.fits exists\n",
      "jcbna5apq_flc.gaiareg.fits exists\n",
      "jcbna5apq_flc.chip1.sky.fits exists\n",
      "jcbna5apq_flc.chip2.sky.fits exists\n"
     ]
    }
   ],
   "source": [
    "rawfiles=glob(\"*\"+kind+\".fits\")\n",
    "print(rawfiles)\n",
    "\n",
    "# save a copy of the output from align_drizzle, because wfc3mask is going to overwrite the flc files\n",
    "for f in rawfiles:\n",
    "    f0=f[:-5]+\".gaiareg.fits\"\n",
    "    if not os.path.exists(f0):\n",
    "        shutil.copy(f,f0)\n",
    "        print(camera+\"mask \"+f)\n",
    "        os.system(dolbin+camera+\"mask \"+f)\n",
    "    else:\n",
    "        print(f0+\" exists\")\n",
    "        \n",
    "    chipims=glob(f[:-5]+\".chip?.fits\")\n",
    "    if len(chipims)<1:\n",
    "        print(\"splitgroups \"+f)\n",
    "        os.system(dolbin+\"splitgroups \"+f)\n",
    "        chipims=glob(f[:-5]+\".chip?.fits\")\n",
    "   \n",
    "    for fc in chipims:\n",
    "        fsky=fc[:-5]+\".sky.fits\"\n",
    "        if os.path.exists(fsky):\n",
    "            print(fsky+\" exists\")\n",
    "        else:\n",
    "            print(\"calcsky \"+fc[:-5])\n",
    "            if camera==\"wfc3\":\n",
    "                os.system(dolbin+\"calcsky \"+fc[:-5]+\" 10 25 -64 2.25 2\")  # wfc3IR recommended settings\n",
    "            else:\n",
    "                os.system(dolbin+\"calcsky \"+fc[:-5]+\" 15 35 -128 2.25 2\")  # \n",
    "    \n",
    "\n",
    "# I use a single-HDU drz file - we can use \"splitgroups\" to remove the bintable\n",
    "    "
   ]
  },
  {
   "cell_type": "code",
   "execution_count": 27,
   "id": "175c1349",
   "metadata": {},
   "outputs": [
    {
     "name": "stdout",
     "output_type": "stream",
     "text": [
      "dolparms_f555w.txt exists\n"
     ]
    }
   ],
   "source": [
    "dpfile=\"dolparms_\"+filt+\".txt\"\n",
    "if os.path.exists(dpfile):\n",
    "    print(dpfile+\" exists\")\n",
    "else:\n",
    "    f=open(dpfile,'w')\n",
    "    pp=[\n",
    "        \"PSFPhot = 1\",\n",
    "        \"PSFPhotIt = 2\",\n",
    "        \"Force1 = 0\",\n",
    "        \"FitSky = 2\",\n",
    "        \"img_RAper = 2\",\n",
    "        \"img_RChi = 1.5\",\n",
    "        \"img_RPSF = 15\",\n",
    "        \"SkySig = 2.25\",\n",
    "        \"SecondPass = 5\",\n",
    "        \"SigFindMult = 0.85\",\n",
    "        \"MaxIT = 25\",\n",
    "        \"NoiseMult = 0.10\",\n",
    "        \"FSat = 0.999\",\n",
    "        \"ApCor = 1\",\n",
    "        \"RCentroid = 2\",\n",
    "        \"PosStep = 0.25\",\n",
    "        \"RCombine = 1.5\",\n",
    "        \"SigPSF = 5.0\",\n",
    "        \"PSFres = 1\",\n",
    "        \"img_shift = 0 0\",\n",
    "        \"img_xform = 1 0 0\",\n",
    "        \"UseWCS = 1\",\n",
    "    ]\n",
    "    for p in pp:\n",
    "        f.write(p+\"\\n\")\n",
    "    if camera==\"acs\":\n",
    "        pp=[\n",
    "            \"img_RSky2 = 4 10\",\n",
    "            \"img_RSky = 15 35\",\n",
    "            \"img_apsky = 15 25\",\n",
    "            \"SkipSky = 2\",\n",
    "            \"ACSpsfType = 1\",\n",
    "            \"ACSuseCTE = 0\",\n",
    "            \"Align = 2\"\n",
    "        ]\n",
    "    else: # WFCIR\n",
    "        pp=[    \n",
    "            \"img_RSky2 = 3 10\",\n",
    "            \"img_RSky = 8 20\",\n",
    "            \"img_apsky = 8 20\",\n",
    "            \"SkipSky = 1\",\n",
    "            \"WFC3IRpsfType = 1\",\n",
    "            \"Align = 1\"\n",
    "        ]\n",
    "    for p in pp:\n",
    "        f.write(p+\"\\n\")\n",
    "    f.close()\n",
    "\n",
    "\n",
    "dpfile=\"dolparms_\"+filt+\".multi.txt\"\n",
    "if os.path.exists(dpfile):\n",
    "    print(dpfile+\" exists\")\n",
    "else:\n",
    "    f=open(dpfile,'w')\n",
    "    chipims=sorted(glob(\"*\"+kind+\".chip?.fits\"))\n",
    "    f.write(\"Nimg = %i\\n\"%len(chipims))\n",
    "    if camera==\"acs\":\n",
    "        # this would use its own drz image as reference:\n",
    "        # f.write(\"img_file = \"+filt+\"_drc_sci\\n\") \n",
    "        # this uses 814 for UVIS - it needs to have just the image split off as \"_hdu\"\n",
    "        f.write(\"img_file = ../f814w/f814w_drc_sci_hdu\\n\")\n",
    "    else:\n",
    "        # this would use its own drz image as reference:\n",
    "        # f.write(\"img_file = \"+filt+\"_drz_sci\\n\") \n",
    "        # this uses 160 for IR - it needs to have just the image split off as \"_hdu\"\n",
    "        f.write(\"img_file = ../f160w/f160w_drz_sci_hdu\\n\")\n",
    "    for i,fc in enumerate(chipims):\n",
    "        f.write((\"img%i_file = \"%(i+1))+fc[:-5]+\"\\n\")\n",
    "    f.close()\n",
    "    "
   ]
  },
  {
   "cell_type": "code",
   "execution_count": null,
   "id": "e5cca6f6",
   "metadata": {},
   "outputs": [
    {
     "name": "stdout",
     "output_type": "stream",
     "text": [
      "/Users/remy/cv/magellanic/dolphot/dolphot2.0/bin/dolphot off_f555w_f814ref -pdolparms_f555w.txt -pdolparms_f555w.multi.txt > off_f555w_f814ref.log\n"
     ]
    }
   ],
   "source": [
    "outroot = region+\"_\"+filt+\"_f814ref\"\n",
    "if not os.path.exists(outroot):\n",
    "    cmd=dolbin+\"dolphot \"+outroot+\" -pdolparms_\"+filt+\".txt \"+\"-pdolparms_\"+filt+\".multi.txt > \"+outroot+\".log\"\n",
    "    print(cmd)\n",
    "    os.system(cmd)"
   ]
  },
  {
   "cell_type": "code",
   "execution_count": null,
   "id": "03ea3f00",
   "metadata": {},
   "outputs": [],
   "source": []
  }
 ],
 "metadata": {
  "kernelspec": {
   "display_name": "Python 3",
   "language": "python",
   "name": "python3"
  },
  "language_info": {
   "codemirror_mode": {
    "name": "ipython",
    "version": 3
   },
   "file_extension": ".py",
   "mimetype": "text/x-python",
   "name": "python",
   "nbconvert_exporter": "python",
   "pygments_lexer": "ipython3",
   "version": "3.7.10"
  }
 },
 "nbformat": 4,
 "nbformat_minor": 5
}
