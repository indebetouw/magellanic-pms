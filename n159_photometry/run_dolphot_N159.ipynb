{
 "cells": [
  {
   "cell_type": "code",
   "execution_count": 1,
   "id": "a5355c01",
   "metadata": {
    "pycharm": {
     "name": "#%%\n"
    }
   },
   "outputs": [],
   "source": [
    "import os,shutil\n",
    "from glob import glob"
   ]
  },
  {
   "cell_type": "code",
   "execution_count": 10,
   "id": "93d2b67f",
   "metadata": {
    "pycharm": {
     "name": "#%%\n"
    }
   },
   "outputs": [],
   "source": [
    "region=\"off\"\n",
    "filt=\"f160w\"\n",
    "\n",
    "# autoset catalog path based on user\n",
    "if os.environ['USER'] =='remy':\n",
    "    workdir=\"/Users/remy/cv/magellanic/n159/\"\n",
    "    dolbin=\"/Users/remy/cv/magellanic/dolphot/dolphot2.0/bin/\"\n",
    "    \n",
    "os.chdir(workdir+region+\"/\"+filt+\"/\")\n",
    "\n",
    "if filt==\"f125w\" or filt==\"f160w\":\n",
    "    kind=\"flt\"  \n",
    "    camera=\"wfc3\"\n",
    "else:\n",
    "    # this is of course particular to this project that we did UVO with ACS and IR with WFC3\n",
    "    kind=\"flc\"\n",
    "    camera=\"acs\"\n",
    "    "
   ]
  },
  {
   "cell_type": "code",
   "execution_count": 11,
   "id": "2528f604",
   "metadata": {
    "pycharm": {
     "name": "#%%\n"
    }
   },
   "outputs": [
    {
     "name": "stdout",
     "output_type": "stream",
     "text": [
      "['icbna6jqq_flt.fits', 'icbna6jaq_flt.fits', 'icbna6jjq_flt.fits', 'icbna6jgq_flt.fits']\n",
      "wfc3mask icbna6jqq_flt.fits\n",
      "splitgroups icbna6jqq_flt.fits\n",
      "calcsky icbna6jqq_flt.chip1\n",
      "wfc3mask icbna6jaq_flt.fits\n",
      "splitgroups icbna6jaq_flt.fits\n",
      "calcsky icbna6jaq_flt.chip1\n",
      "wfc3mask icbna6jjq_flt.fits\n",
      "splitgroups icbna6jjq_flt.fits\n",
      "calcsky icbna6jjq_flt.chip1\n",
      "wfc3mask icbna6jgq_flt.fits\n",
      "splitgroups icbna6jgq_flt.fits\n",
      "calcsky icbna6jgq_flt.chip1\n"
     ]
    }
   ],
   "source": [
    "rawfiles=glob(\"*\"+kind+\".fits\")\n",
    "print(rawfiles)\n",
    "\n",
    "# save a copy of the output from align_drizzle, because wfc3mask is going to overwrite the flc files\n",
    "for f in rawfiles:\n",
    "    f0=f[:-5]+\".gaiareg.fits\"\n",
    "    if not os.path.exists(f0):\n",
    "        shutil.copy(f,f0)\n",
    "        print(camera+\"mask \"+f)\n",
    "        os.system(dolbin+camera+\"mask \"+f)\n",
    "    else:\n",
    "        print(f0+\" exists\")\n",
    "        \n",
    "    chipims=glob(f[:-5]+\".chip?.fits\")\n",
    "    if len(chipims)<1:\n",
    "        print(\"splitgroups \"+f)\n",
    "        os.system(dolbin+\"splitgroups \"+f)\n",
    "        chipims=glob(f[:-5]+\".chip?.fits\")\n",
    "   \n",
    "    for fc in chipims:\n",
    "        fsky=fc[:-5]+\".sky.fits\"\n",
    "        if os.path.exists(fsky):\n",
    "            print(fsky+\" exists\")\n",
    "        else:\n",
    "            print(\"calcsky \"+fc[:-5])\n",
    "            if camera==\"wfc3\":\n",
    "                os.system(dolbin+\"calcsky \"+fc[:-5]+\" 10 25 -64 2.25 2\")  # wfc3IR recommended settings\n",
    "            else:\n",
    "                os.system(dolbin+\"calcsky \"+fc[:-5]+\" 15 35 -128 2.25 2\")  # \n",
    "    \n",
    "\n",
    "# I use a single-HDU drz file - we can use \"splitgroups\" to remove the bintable\n",
    "    "
   ]
  },
  {
   "cell_type": "code",
   "execution_count": 12,
   "id": "3736266d",
   "metadata": {
    "pycharm": {
     "name": "#%%\n"
    }
   },
   "outputs": [],
   "source": [
    "dpfile=\"dolparms_\"+filt+\".txt\"\n",
    "if os.path.exists(dpfile):\n",
    "    print(dpfile+\" exists\")\n",
    "else:\n",
    "    f=open(dpfile,'w')\n",
    "    pp=[\n",
    "        \"PSFPhot = 1\",\n",
    "        \"PSFPhotIt = 2\",\n",
    "        \"Force1 = 0\",\n",
    "        \"FitSky = 2\",\n",
    "        \"img_RAper = 2\",\n",
    "        \"img_RChi = 1.5\",\n",
    "        \"img_RPSF = 15\",\n",
    "        \"SkySig = 2.25\",\n",
    "        \"SecondPass = 5\",\n",
    "        \"SigFindMult = 0.85\",\n",
    "        \"MaxIT = 25\",\n",
    "        \"NoiseMult = 0.10\",\n",
    "        \"FSat = 0.999\",\n",
    "        \"ApCor = 1\",\n",
    "        \"RCentroid = 2\",\n",
    "        \"PosStep = 0.25\",\n",
    "        \"RCombine = 1.5\",\n",
    "        \"SigPSF = 5.0\",\n",
    "        \"PSFres = 1\",\n",
    "        \"img_shift = 0 0\",\n",
    "        \"img_xform = 1 0 0\",\n",
    "        \"UseWCS = 1\",\n",
    "    ]\n",
    "    for p in pp:\n",
    "        f.write(p+\"\\n\")\n",
    "    if camera==\"acs\":\n",
    "        pp=[\n",
    "            \"img_RSky2 = 4 10\",\n",
    "            \"img_RSky = 15 35\",\n",
    "            \"img_apsky = 15 25\",\n",
    "            \"SkipSky = 2\",\n",
    "            \"ACSpsfType = 1\",\n",
    "            \"ACSuseCTE = 0\",\n",
    "            \"Align = 2\"\n",
    "        ]\n",
    "    else: # WFCIR\n",
    "        pp=[    \n",
    "            \"img_RSky2 = 3 10\",\n",
    "            \"img_RSky = 8 20\",\n",
    "            \"img_apsky = 8 20\",\n",
    "            \"SkipSky = 1\",\n",
    "            \"WFC3IRpsfType = 1\",\n",
    "            \"Align = 1\"\n",
    "        ]\n",
    "    for p in pp:\n",
    "        f.write(p+\"\\n\")\n",
    "    f.close()\n",
    "\n",
    "\n",
    "dpfile=\"dolparms_\"+filt+\".multi.txt\"\n",
    "if os.path.exists(dpfile):\n",
    "    print(dpfile+\" exists\")\n",
    "else:\n",
    "    f=open(dpfile,'w')\n",
    "    chipims=sorted(glob(\"*\"+kind+\".chip?.fits\"))\n",
    "    f.write(\"Nimg = %i\\n\"%len(chipims))\n",
    "    if camera==\"acs\":\n",
    "        # this would use its own drz image as reference:\n",
    "        # f.write(\"img_file = \"+filt+\"_drc_sci\\n\") \n",
    "        # this uses 814 for UVIS - it needs to have just the image split off as \"_hdu\"\n",
    "        f.write(\"img_file = ../f814w/f814w_drc_sci_hdu\\n\")\n",
    "    else:\n",
    "        # this would use its own drz image as reference:\n",
    "        # f.write(\"img_file = \"+filt+\"_drz_sci\\n\") \n",
    "        # this uses 160 for IR - it needs to have just the image split off as \"_hdu\"\n",
    "        f.write(\"img_file = ../f160w/f160w_drz_sci_hdu\\n\")\n",
    "    for i,fc in enumerate(chipims):\n",
    "        f.write((\"img%i_file = \"%(i+1))+fc[:-5]+\"\\n\")\n",
    "    f.close()\n",
    "    "
   ]
  },
  {
   "cell_type": "code",
   "execution_count": 13,
   "id": "5e31ea1e",
   "metadata": {
    "pycharm": {
     "name": "#%%\n"
    }
   },
   "outputs": [
    {
     "name": "stdout",
     "output_type": "stream",
     "text": [
      "/Users/remy/cv/magellanic/dolphot/dolphot2.0/bin/dolphot off_f160w_f160ref -pdolparms_f160w.txt -pdolparms_f160w.multi.txt > off_f160w_f160ref.log\n"
     ]
    }
   ],
   "source": [
    "if camera==\"acs\":\n",
    "    outroot = region+\"_\"+filt+\"_f814ref\"\n",
    "else:\n",
    "    outroot = region+\"_\"+filt+\"_f160ref\"\n",
    "if not os.path.exists(outroot):\n",
    "    cmd=dolbin+\"dolphot \"+outroot+\" -pdolparms_\"+filt+\".txt \"+\"-pdolparms_\"+filt+\".multi.txt > \"+outroot+\".log\"\n",
    "    print(cmd)\n",
    "    os.system(cmd)"
   ]
  },
  {
   "cell_type": "code",
   "execution_count": null,
   "id": "155b548f",
   "metadata": {
    "pycharm": {
     "name": "#%%\n"
    }
   },
   "outputs": [],
   "source": []
  }
 ],
 "metadata": {
  "kernelspec": {
   "display_name": "Python 3",
   "language": "python",
   "name": "python3"
  },
  "language_info": {
   "codemirror_mode": {
    "name": "ipython",
    "version": 3
   },
   "file_extension": ".py",
   "mimetype": "text/x-python",
   "name": "python",
   "nbconvert_exporter": "python",
   "pygments_lexer": "ipython3",
   "version": "3.7.10"
  }
 },
 "nbformat": 4,
 "nbformat_minor": 5
}