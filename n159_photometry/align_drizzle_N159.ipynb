{
 "cells": [
  {
   "cell_type": "markdown",
   "id": "5c725c6f",
   "metadata": {
    "pycharm": {
     "name": "#%% md\n"
    }
   },
   "source": [
    "These are the pre-photometry steps required to align to Gaia, drizzle together and update the original image DQ extension for CR found during drizzling.\n",
    "\n",
    "reference notebook:\n",
    "https://spacetelescope.github.io/notebooks/notebooks/DrizzlePac/align_to_catalogs/align_to_catalogs.html\n",
    "\n",
    "requirements: astroconda::drizzlepac"
   ]
  },
  {
   "cell_type": "code",
   "execution_count": 1,
   "id": "1e0ddb77",
   "metadata": {
    "pycharm": {
     "name": "#%%\n"
    }
   },
   "outputs": [
    {
     "name": "stdout",
     "output_type": "stream",
     "text": [
      "Created TAP+ (v20200428.1) - Connection:\n",
      "\tHost: gea.esac.esa.int\n",
      "\tUse HTTPS: True\n",
      "\tPort: 443\n",
      "\tSSL Port: 443\n",
      "Created TAP+ (v20200428.1) - Connection:\n",
      "\tHost: gea.esac.esa.int\n",
      "\tUse HTTPS: True\n",
      "\tPort: 443\n",
      "\tSSL Port: 443\n",
      "\n",
      "\n",
      "The following task in the stsci.skypac package can be run with TEAL:\n",
      "                                    skymatch                                    \n",
      "The following tasks in the drizzlepac package can be run with TEAL:\n",
      "    astrodrizzle       config_testbed      imagefindpars           mapreg       \n",
      "       photeq            pixreplace           pixtopix            pixtosky      \n",
      "  refimagefindpars       resetbits          runastrodriz          skytopix      \n",
      "     tweakback            tweakreg           updatenpol\n"
     ]
    }
   ],
   "source": [
    "# imports\n",
    "import astropy.units as u\n",
    "import glob\n",
    "import numpy as np\n",
    "import matplotlib.pyplot as plt\n",
    "import os,shutil\n",
    "\n",
    "from astropy.io import fits\n",
    "from astropy.table import Table\n",
    "from astropy.units import Quantity\n",
    "from astropy.coordinates import SkyCoord\n",
    "from astroquery.gaia import Gaia\n",
    "# from astroquery.mast import Observations\n",
    "# from astroquery.sdss import SDSS\n",
    "\n",
    "from ccdproc import ImageFileCollection\n",
    "from IPython.display import Image\n",
    "\n",
    "from drizzlepac import tweakreg\n",
    "from drizzlepac import astrodrizzle"
   ]
  },
  {
   "cell_type": "code",
   "execution_count": 2,
   "id": "bf7c7921",
   "metadata": {
    "pycharm": {
     "name": "#%%\n"
    }
   },
   "outputs": [],
   "source": [
    "# control what to work on\n",
    "\n",
    "region=\"off\"\n",
    "filt=\"f160w\"\n",
    "\n",
    "# autoset catalog path based on user\n",
    "if os.environ['USER'] =='remy':\n",
    "    workdir=\"/Users/remy/cv/magellanic/n159/\"\n",
    "    \n",
    "    \n",
    "os.chdir(workdir+region+\"/\"+filt+\"/\")\n",
    "\n",
    "if filt==\"f125w\" or filt==\"f160w\":\n",
    "    kind=\"flt\"\n",
    "    camera=\"IR\"\n",
    "else:\n",
    "    kind=\"flc\"\n",
    "    camera=\"UVO\""
   ]
  },
  {
   "cell_type": "code",
   "execution_count": 3,
   "id": "7fc229c7",
   "metadata": {
    "pycharm": {
     "name": "#%%\n"
    }
   },
   "outputs": [
    {
     "data": {
      "text/html": [
       "<i>Table masked=True length=4</i>\n",
       "<table id=\"table4871502608\" class=\"table-striped table-bordered table-condensed\">\n",
       "<thead><tr><th>file</th><th>targname</th><th>ra_targ</th><th>dec_targ</th><th>filter</th><th>exptime</th><th>postarg1</th><th>postarg2</th></tr></thead>\n",
       "<thead><tr><th>str18</th><th>str9</th><th>float64</th><th>float64</th><th>str5</th><th>float64</th><th>float64</th><th>float64</th></tr></thead>\n",
       "<tr><td>icbna6jaq_flt.fits</td><td>OFF-POINT</td><td>85.2508983</td><td>-69.8056833</td><td>F160W</td><td>399.2</td><td>5.55</td><td>2.47</td></tr>\n",
       "<tr><td>icbna6jgq_flt.fits</td><td>OFF-POINT</td><td>85.2508983</td><td>-69.8056833</td><td>F160W</td><td>399.2</td><td>5.55</td><td>2.47</td></tr>\n",
       "<tr><td>icbna6jjq_flt.fits</td><td>OFF-POINT</td><td>85.2508983</td><td>-69.8056833</td><td>F160W</td><td>399.2</td><td>5.71</td><td>1.94</td></tr>\n",
       "<tr><td>icbna6jqq_flt.fits</td><td>OFF-POINT</td><td>85.2508983</td><td>-69.8056833</td><td>F160W</td><td>299.2</td><td>5.74</td><td>3.00</td></tr>\n",
       "</table>"
      ],
      "text/plain": [
       "<Table masked=True length=4>\n",
       "       file         targname  ra_targ   ... exptime postarg1 postarg2\n",
       "      str18           str9    float64   ... float64 float64  float64 \n",
       "------------------ --------- ---------- ... ------- -------- --------\n",
       "icbna6jaq_flt.fits OFF-POINT 85.2508983 ...   399.2     5.55     2.47\n",
       "icbna6jgq_flt.fits OFF-POINT 85.2508983 ...   399.2     5.55     2.47\n",
       "icbna6jjq_flt.fits OFF-POINT 85.2508983 ...   399.2     5.71     1.94\n",
       "icbna6jqq_flt.fits OFF-POINT 85.2508983 ...   299.2     5.74     3.00"
      ]
     },
     "execution_count": 3,
     "metadata": {},
     "output_type": "execute_result"
    }
   ],
   "source": [
    "collec = ImageFileCollection(\"./\", glob_include=\"*\"+kind+\".fits\", ext=0,\n",
    "                             keywords=[\"targname\", \"ra_targ\", \"dec_targ\", \"filter\", \"exptime\", \"postarg1\", \"postarg2\"])\n",
    "\n",
    "table = collec.summary\n",
    "table['exptime'].format = '7.1f'\n",
    "table['ra_targ'].format = '7.7f'\n",
    "table['dec_targ'].format = '7.7f'\n",
    "table['postarg1'].format = '7.2f'\n",
    "table['postarg2'].format = '7.2f'\n",
    "table"
   ]
  },
  {
   "cell_type": "code",
   "execution_count": 4,
   "id": "9ac9328c",
   "metadata": {
    "pycharm": {
     "name": "#%%\n"
    }
   },
   "outputs": [
    {
     "name": "stderr",
     "output_type": "stream",
     "text": [
      "INFO:astroquery:Query finished.\n"
     ]
    },
    {
     "name": "stdout",
     "output_type": "stream",
     "text": [
      "INFO: Query finished. [astroquery.utils.tap.core]\n"
     ]
    }
   ],
   "source": [
    "# Gaia query\n",
    "RA = table['ra_targ'][0]\n",
    "Dec = table['dec_targ'][0]\n",
    "\n",
    "coord = SkyCoord(ra=RA, dec=Dec, unit=(u.deg, u.deg))\n",
    "radius = Quantity(3., u.arcmin)\n",
    "\n",
    "gaia_query = Gaia.query_object_async(coordinate=coord, radius=radius)\n",
    "reduced_query = gaia_query['ra', 'dec', 'phot_g_mean_mag']\n",
    "reduced_query\n",
    "reduced_query.write('gaia.cat', format='ascii.commented_header')"
   ]
  },
  {
   "cell_type": "code",
   "execution_count": 5,
   "id": "c2543de4",
   "metadata": {
    "pycharm": {
     "name": "#%%\n"
    }
   },
   "outputs": [
    {
     "name": "stdout",
     "output_type": "stream",
     "text": [
      "IR 2.5\n"
     ]
    },
    {
     "name": "stderr",
     "output_type": "stream",
     "text": [
      "INFO:drizzlepac.util:Setting up logfile :  tweakreg.log\n"
     ]
    },
    {
     "name": "stdout",
     "output_type": "stream",
     "text": [
      "Setting up logfile :  tweakreg.log\n"
     ]
    },
    {
     "name": "stderr",
     "output_type": "stream",
     "text": [
      "INFO:drizzlepac.tweakreg:TweakReg Version 1.4.7(18-April-2018) started at: 13:53:29.728 (17/06/2021) \n"
     ]
    },
    {
     "name": "stdout",
     "output_type": "stream",
     "text": [
      "TweakReg Version 1.4.7(18-April-2018) started at: 13:53:29.728 (17/06/2021) \n"
     ]
    },
    {
     "name": "stderr",
     "output_type": "stream",
     "text": [
      "INFO:drizzlepac.tweakreg:\n"
     ]
    },
    {
     "name": "stdout",
     "output_type": "stream",
     "text": [
      "\n"
     ]
    },
    {
     "name": "stderr",
     "output_type": "stream",
     "text": [
      "INFO:drizzlepac.util:Version Information\n"
     ]
    },
    {
     "name": "stdout",
     "output_type": "stream",
     "text": [
      "Version Information\n"
     ]
    },
    {
     "name": "stderr",
     "output_type": "stream",
     "text": [
      "INFO:drizzlepac.util:--------------------\n"
     ]
    },
    {
     "name": "stdout",
     "output_type": "stream",
     "text": [
      "--------------------\n"
     ]
    },
    {
     "name": "stderr",
     "output_type": "stream",
     "text": [
      "INFO:drizzlepac.util:Python Version [Clang 10.0.0 ]\n"
     ]
    },
    {
     "name": "stdout",
     "output_type": "stream",
     "text": [
      "Python Version [Clang 10.0.0 ]\n"
     ]
    },
    {
     "name": "stderr",
     "output_type": "stream",
     "text": [
      "INFO:drizzlepac.util:3.7.10 (default, Feb 26 2021, 10:16:00) \n"
     ]
    },
    {
     "name": "stdout",
     "output_type": "stream",
     "text": [
      "3.7.10 (default, Feb 26 2021, 10:16:00) \n"
     ]
    },
    {
     "name": "stderr",
     "output_type": "stream",
     "text": [
      "INFO:drizzlepac.util:numpy Version -> 1.20.2 \n"
     ]
    },
    {
     "name": "stdout",
     "output_type": "stream",
     "text": [
      "numpy Version -> 1.20.2 \n"
     ]
    },
    {
     "name": "stderr",
     "output_type": "stream",
     "text": [
      "INFO:drizzlepac.util:astropy Version -> 4.2.1 \n"
     ]
    },
    {
     "name": "stdout",
     "output_type": "stream",
     "text": [
      "astropy Version -> 4.2.1 \n"
     ]
    },
    {
     "name": "stderr",
     "output_type": "stream",
     "text": [
      "INFO:drizzlepac.util:stwcs Version -> 1.6.1 \n"
     ]
    },
    {
     "name": "stdout",
     "output_type": "stream",
     "text": [
      "stwcs Version -> 1.6.1 \n"
     ]
    },
    {
     "name": "stderr",
     "output_type": "stream",
     "text": [
      "INFO:drizzlepac.tweakreg:\n",
      "INFO:drizzlepac.tweakreg:USER INPUT PARAMETERS common to all Processing Steps:\n",
      "INFO:drizzlepac.tweakreg:\tclean :\tFalse\n",
      "INFO:drizzlepac.tweakreg:\tenforce_user_order :\tTrue\n",
      "INFO:drizzlepac.tweakreg:\texclusions :\t\n",
      "INFO:drizzlepac.tweakreg:\texpand_refcat :\tFalse\n",
      "INFO:drizzlepac.tweakreg:\tinput :\t*flt.fits\n",
      "INFO:drizzlepac.tweakreg:\tinteractive :\tFalse\n",
      "INFO:drizzlepac.tweakreg:\trefimage :\t\n",
      "INFO:drizzlepac.tweakreg:\trunfile :\ttweakreg.log\n",
      "INFO:drizzlepac.tweakreg:\tupdatewcs :\tFalse\n",
      "INFO:drizzlepac.tweakreg:\tverbose :\tFalse\n",
      "INFO:drizzlepac.tweakreg:\twritecat :\tTrue\n",
      "INFO:drizzlepac.tweakreg:\n"
     ]
    },
    {
     "name": "stdout",
     "output_type": "stream",
     "text": [
      "\n"
     ]
    },
    {
     "name": "stderr",
     "output_type": "stream",
     "text": [
      "INFO:drizzlepac.tweakreg:Finding shifts for: \n"
     ]
    },
    {
     "name": "stdout",
     "output_type": "stream",
     "text": [
      "Finding shifts for: \n"
     ]
    },
    {
     "name": "stderr",
     "output_type": "stream",
     "text": [
      "INFO:drizzlepac.tweakreg:    icbna6jqq_flt.fits\n"
     ]
    },
    {
     "name": "stdout",
     "output_type": "stream",
     "text": [
      "    icbna6jqq_flt.fits\n"
     ]
    },
    {
     "name": "stderr",
     "output_type": "stream",
     "text": [
      "INFO:drizzlepac.tweakreg:    icbna6jaq_flt.fits\n"
     ]
    },
    {
     "name": "stdout",
     "output_type": "stream",
     "text": [
      "    icbna6jaq_flt.fits\n"
     ]
    },
    {
     "name": "stderr",
     "output_type": "stream",
     "text": [
      "INFO:drizzlepac.tweakreg:    icbna6jjq_flt.fits\n"
     ]
    },
    {
     "name": "stdout",
     "output_type": "stream",
     "text": [
      "    icbna6jjq_flt.fits\n"
     ]
    },
    {
     "name": "stderr",
     "output_type": "stream",
     "text": [
      "INFO:drizzlepac.tweakreg:    icbna6jgq_flt.fits\n"
     ]
    },
    {
     "name": "stdout",
     "output_type": "stream",
     "text": [
      "    icbna6jgq_flt.fits\n"
     ]
    },
    {
     "name": "stderr",
     "output_type": "stream",
     "text": [
      "INFO:drizzlepac.tweakreg:\n"
     ]
    },
    {
     "name": "stdout",
     "output_type": "stream",
     "text": [
      "\n"
     ]
    },
    {
     "name": "stderr",
     "output_type": "stream",
     "text": [
      "INFO:drizzlepac.tweakreg:USER INPUT PARAMETERS for finding sources for each input image:\n",
      "INFO:drizzlepac.tweakreg:\tclean :\tFalse\n",
      "INFO:drizzlepac.tweakreg:\tcomputesig :\tTrue\n",
      "INFO:drizzlepac.tweakreg:\tconv_width :\t2.5\n",
      "INFO:drizzlepac.tweakreg:\tdqbits :\t\n",
      "INFO:drizzlepac.tweakreg:\tenforce_user_order :\tTrue\n",
      "INFO:drizzlepac.tweakreg:\texpand_refcat :\tFalse\n",
      "INFO:drizzlepac.tweakreg:\tfluxmax :\tNone\n",
      "INFO:drizzlepac.tweakreg:\tfluxmin :\tNone\n",
      "INFO:drizzlepac.tweakreg:\tinput :\t*flt.fits\n",
      "INFO:drizzlepac.tweakreg:\tinteractive :\tFalse\n",
      "INFO:drizzlepac.tweakreg:\tnsigma :\t1.5\n",
      "INFO:drizzlepac.tweakreg:\tpeakmax :\tNone\n",
      "INFO:drizzlepac.tweakreg:\tpeakmin :\tNone\n",
      "INFO:drizzlepac.tweakreg:\tratio :\t1.0\n",
      "INFO:drizzlepac.tweakreg:\trefimage :\t\n",
      "INFO:drizzlepac.tweakreg:\troundhi :\t1.0\n",
      "INFO:drizzlepac.tweakreg:\troundlo :\t-1.0\n",
      "INFO:drizzlepac.tweakreg:\trunfile :\ttweakreg.log\n",
      "INFO:drizzlepac.tweakreg:\tsharphi :\t1.0\n",
      "INFO:drizzlepac.tweakreg:\tsharplo :\t0.2\n",
      "INFO:drizzlepac.tweakreg:\tskysigma :\t0.0\n",
      "INFO:drizzlepac.tweakreg:\ttheta :\t0.0\n",
      "INFO:drizzlepac.tweakreg:\tthreshold :\t100.0\n",
      "INFO:drizzlepac.tweakreg:\tupdatehdr :\tTrue\n",
      "INFO:drizzlepac.tweakreg:\tupdatewcs :\tFalse\n",
      "INFO:drizzlepac.tweakreg:\tuse_sharp_round :\tFalse\n",
      "INFO:drizzlepac.tweakreg:\tverbose :\tFalse\n",
      "INFO:drizzlepac.tweakreg:\twritecat :\tTrue\n",
      "INFO:drizzlepac.tweakreg:\txyunits :\tpixels\n",
      "INFO:drizzlepac.tweakreg:\n",
      "INFO:drizzlepac.imgclasses:===  Source finding for image 'icbna6jqq_flt.fits':\n"
     ]
    },
    {
     "name": "stdout",
     "output_type": "stream",
     "text": [
      "===  Source finding for image 'icbna6jqq_flt.fits':\n"
     ]
    },
    {
     "name": "stderr",
     "output_type": "stream",
     "text": [
      "INFO:drizzlepac.catalogs:  #  Source finding for 'icbna6jqq_flt.fits', EXT=('SCI', 1) started at: 13:53:30.054 (17/06/2021)\n"
     ]
    },
    {
     "name": "stdout",
     "output_type": "stream",
     "text": [
      "  #  Source finding for 'icbna6jqq_flt.fits', EXT=('SCI', 1) started at: 13:53:30.054 (17/06/2021)\n"
     ]
    },
    {
     "name": "stderr",
     "output_type": "stream",
     "text": [
      "INFO:drizzlepac.catalogs:   Finding sources using sky sigma = 1.241824\n",
      "INFO:drizzlepac.catalogs:###Source finding finished at: 13:53:30.189 (17/06/2021)\n",
      "INFO:drizzlepac.catalogs:     Found 330 objects.\n"
     ]
    },
    {
     "name": "stdout",
     "output_type": "stream",
     "text": [
      "     Found 330 objects.\n"
     ]
    },
    {
     "name": "stderr",
     "output_type": "stream",
     "text": [
      "INFO:drizzlepac.imgclasses:===  FINAL number of objects in image 'icbna6jqq_flt.fits': 330\n"
     ]
    },
    {
     "name": "stdout",
     "output_type": "stream",
     "text": [
      "===  FINAL number of objects in image 'icbna6jqq_flt.fits': 330\n"
     ]
    },
    {
     "name": "stderr",
     "output_type": "stream",
     "text": [
      "INFO:drizzlepac.imgclasses:\n"
     ]
    },
    {
     "name": "stdout",
     "output_type": "stream",
     "text": [
      "\n"
     ]
    },
    {
     "name": "stderr",
     "output_type": "stream",
     "text": [
      "INFO:drizzlepac.imgclasses:===  Source finding for image 'icbna6jaq_flt.fits':\n"
     ]
    },
    {
     "name": "stdout",
     "output_type": "stream",
     "text": [
      "===  Source finding for image 'icbna6jaq_flt.fits':\n"
     ]
    },
    {
     "name": "stderr",
     "output_type": "stream",
     "text": [
      "INFO:drizzlepac.catalogs:  #  Source finding for 'icbna6jaq_flt.fits', EXT=('SCI', 1) started at: 13:53:30.309 (17/06/2021)\n"
     ]
    },
    {
     "name": "stdout",
     "output_type": "stream",
     "text": [
      "  #  Source finding for 'icbna6jaq_flt.fits', EXT=('SCI', 1) started at: 13:53:30.309 (17/06/2021)\n"
     ]
    },
    {
     "name": "stderr",
     "output_type": "stream",
     "text": [
      "INFO:drizzlepac.catalogs:   Finding sources using sky sigma = 1.182476\n",
      "INFO:drizzlepac.catalogs:###Source finding finished at: 13:53:30.432 (17/06/2021)\n",
      "INFO:drizzlepac.catalogs:     Found 328 objects.\n"
     ]
    },
    {
     "name": "stdout",
     "output_type": "stream",
     "text": [
      "     Found 328 objects.\n"
     ]
    },
    {
     "name": "stderr",
     "output_type": "stream",
     "text": [
      "INFO:drizzlepac.imgclasses:===  FINAL number of objects in image 'icbna6jaq_flt.fits': 328\n"
     ]
    },
    {
     "name": "stdout",
     "output_type": "stream",
     "text": [
      "===  FINAL number of objects in image 'icbna6jaq_flt.fits': 328\n"
     ]
    },
    {
     "name": "stderr",
     "output_type": "stream",
     "text": [
      "INFO:drizzlepac.imgclasses:\n"
     ]
    },
    {
     "name": "stdout",
     "output_type": "stream",
     "text": [
      "\n"
     ]
    },
    {
     "name": "stderr",
     "output_type": "stream",
     "text": [
      "INFO:drizzlepac.imgclasses:===  Source finding for image 'icbna6jjq_flt.fits':\n"
     ]
    },
    {
     "name": "stdout",
     "output_type": "stream",
     "text": [
      "===  Source finding for image 'icbna6jjq_flt.fits':\n"
     ]
    },
    {
     "name": "stderr",
     "output_type": "stream",
     "text": [
      "INFO:drizzlepac.catalogs:  #  Source finding for 'icbna6jjq_flt.fits', EXT=('SCI', 1) started at: 13:53:30.550 (17/06/2021)\n"
     ]
    },
    {
     "name": "stdout",
     "output_type": "stream",
     "text": [
      "  #  Source finding for 'icbna6jjq_flt.fits', EXT=('SCI', 1) started at: 13:53:30.550 (17/06/2021)\n"
     ]
    },
    {
     "name": "stderr",
     "output_type": "stream",
     "text": [
      "INFO:drizzlepac.catalogs:   Finding sources using sky sigma = 1.209775\n",
      "INFO:drizzlepac.catalogs:###Source finding finished at: 13:53:30.695 (17/06/2021)\n",
      "INFO:drizzlepac.catalogs:     Found 329 objects.\n"
     ]
    },
    {
     "name": "stdout",
     "output_type": "stream",
     "text": [
      "     Found 329 objects.\n"
     ]
    },
    {
     "name": "stderr",
     "output_type": "stream",
     "text": [
      "INFO:drizzlepac.imgclasses:===  FINAL number of objects in image 'icbna6jjq_flt.fits': 329\n"
     ]
    },
    {
     "name": "stdout",
     "output_type": "stream",
     "text": [
      "===  FINAL number of objects in image 'icbna6jjq_flt.fits': 329\n"
     ]
    },
    {
     "name": "stderr",
     "output_type": "stream",
     "text": [
      "INFO:drizzlepac.imgclasses:\n"
     ]
    },
    {
     "name": "stdout",
     "output_type": "stream",
     "text": [
      "\n"
     ]
    },
    {
     "name": "stderr",
     "output_type": "stream",
     "text": [
      "INFO:drizzlepac.imgclasses:===  Source finding for image 'icbna6jgq_flt.fits':\n"
     ]
    },
    {
     "name": "stdout",
     "output_type": "stream",
     "text": [
      "===  Source finding for image 'icbna6jgq_flt.fits':\n"
     ]
    },
    {
     "name": "stderr",
     "output_type": "stream",
     "text": [
      "INFO:drizzlepac.catalogs:  #  Source finding for 'icbna6jgq_flt.fits', EXT=('SCI', 1) started at: 13:53:30.839 (17/06/2021)\n"
     ]
    },
    {
     "name": "stdout",
     "output_type": "stream",
     "text": [
      "  #  Source finding for 'icbna6jgq_flt.fits', EXT=('SCI', 1) started at: 13:53:30.839 (17/06/2021)\n"
     ]
    },
    {
     "name": "stderr",
     "output_type": "stream",
     "text": [
      "INFO:drizzlepac.catalogs:   Finding sources using sky sigma = 1.192737\n",
      "INFO:drizzlepac.catalogs:###Source finding finished at: 13:53:30.96 (17/06/2021)\n",
      "INFO:drizzlepac.catalogs:     Found 328 objects.\n"
     ]
    },
    {
     "name": "stdout",
     "output_type": "stream",
     "text": [
      "     Found 328 objects.\n"
     ]
    },
    {
     "name": "stderr",
     "output_type": "stream",
     "text": [
      "INFO:drizzlepac.imgclasses:===  FINAL number of objects in image 'icbna6jgq_flt.fits': 328\n"
     ]
    },
    {
     "name": "stdout",
     "output_type": "stream",
     "text": [
      "===  FINAL number of objects in image 'icbna6jgq_flt.fits': 328\n"
     ]
    },
    {
     "name": "stderr",
     "output_type": "stream",
     "text": [
      "INFO:drizzlepac.imgclasses:\n"
     ]
    },
    {
     "name": "stdout",
     "output_type": "stream",
     "text": [
      "\n"
     ]
    },
    {
     "name": "stderr",
     "output_type": "stream",
     "text": [
      "INFO:drizzlepac.tweakreg:\n",
      "INFO:drizzlepac.tweakreg:USER INPUT PARAMETERS for finding sources for the reference image (not used):\n",
      "INFO:drizzlepac.tweakreg:\tclean :\tFalse\n",
      "INFO:drizzlepac.tweakreg:\tcomputesig :\tTrue\n",
      "INFO:drizzlepac.tweakreg:\tconv_width :\t3.5\n",
      "INFO:drizzlepac.tweakreg:\tdqbits :\t\n",
      "INFO:drizzlepac.tweakreg:\tenforce_user_order :\tTrue\n",
      "INFO:drizzlepac.tweakreg:\texpand_refcat :\tFalse\n",
      "INFO:drizzlepac.tweakreg:\tfluxmax :\tNone\n",
      "INFO:drizzlepac.tweakreg:\tfluxmin :\tNone\n",
      "INFO:drizzlepac.tweakreg:\tinput :\t*flt.fits\n",
      "INFO:drizzlepac.tweakreg:\tinteractive :\tFalse\n",
      "INFO:drizzlepac.tweakreg:\tnsigma :\t1.5\n",
      "INFO:drizzlepac.tweakreg:\tpeakmax :\tNone\n",
      "INFO:drizzlepac.tweakreg:\tpeakmin :\tNone\n",
      "INFO:drizzlepac.tweakreg:\tratio :\t1.0\n",
      "INFO:drizzlepac.tweakreg:\trefimage :\t\n",
      "INFO:drizzlepac.tweakreg:\troundhi :\t1.0\n",
      "INFO:drizzlepac.tweakreg:\troundlo :\t-1.0\n",
      "INFO:drizzlepac.tweakreg:\trunfile :\ttweakreg.log\n",
      "INFO:drizzlepac.tweakreg:\tsharphi :\t1.0\n",
      "INFO:drizzlepac.tweakreg:\tsharplo :\t0.2\n",
      "INFO:drizzlepac.tweakreg:\tskysigma :\t0.0\n",
      "INFO:drizzlepac.tweakreg:\ttheta :\t0.0\n",
      "INFO:drizzlepac.tweakreg:\tthreshold :\t4.0\n",
      "INFO:drizzlepac.tweakreg:\tupdatehdr :\tFalse\n",
      "INFO:drizzlepac.tweakreg:\tupdatewcs :\tFalse\n",
      "INFO:drizzlepac.tweakreg:\tuse_sharp_round :\tFalse\n",
      "INFO:drizzlepac.tweakreg:\tverbose :\tFalse\n",
      "INFO:drizzlepac.tweakreg:\twritecat :\tTrue\n",
      "INFO:drizzlepac.tweakreg:\txyunits :\tpixels\n",
      "INFO:drizzlepac.imgclasses:Converting RA/Dec positions of reference sources from \"icbna6jqq_flt.fits\" to X,Y positions in reference WCS...\n",
      "INFO:drizzlepac.tweakreg:\n"
     ]
    },
    {
     "name": "stdout",
     "output_type": "stream",
     "text": [
      "\n"
     ]
    },
    {
     "name": "stderr",
     "output_type": "stream",
     "text": [
      "INFO:drizzlepac.tweakreg:===============================================================\n"
     ]
    },
    {
     "name": "stdout",
     "output_type": "stream",
     "text": [
      "===============================================================\n"
     ]
    },
    {
     "name": "stderr",
     "output_type": "stream",
     "text": [
      "INFO:drizzlepac.tweakreg:Performing alignment in the projection plane defined by the WCS\n"
     ]
    },
    {
     "name": "stdout",
     "output_type": "stream",
     "text": [
      "Performing alignment in the projection plane defined by the WCS\n"
     ]
    },
    {
     "name": "stderr",
     "output_type": "stream",
     "text": [
      "INFO:drizzlepac.tweakreg:derived from 'icbna6jqq_flt.fits'\n"
     ]
    },
    {
     "name": "stdout",
     "output_type": "stream",
     "text": [
      "derived from 'icbna6jqq_flt.fits'\n"
     ]
    },
    {
     "name": "stderr",
     "output_type": "stream",
     "text": [
      "INFO:drizzlepac.tweakreg:===============================================================\n"
     ]
    },
    {
     "name": "stdout",
     "output_type": "stream",
     "text": [
      "===============================================================\n"
     ]
    },
    {
     "name": "stderr",
     "output_type": "stream",
     "text": [
      "INFO:drizzlepac.tweakreg:\n"
     ]
    },
    {
     "name": "stdout",
     "output_type": "stream",
     "text": [
      "\n"
     ]
    },
    {
     "name": "stderr",
     "output_type": "stream",
     "text": [
      "INFO:drizzlepac.tweakreg:USER INPUT PARAMETERS for matching sources:\n",
      "INFO:drizzlepac.tweakreg:\tminobj :\t15\n",
      "INFO:drizzlepac.tweakreg:\tresidplot :\tboth\n",
      "INFO:drizzlepac.tweakreg:\tsearchrad :\t1.0\n",
      "INFO:drizzlepac.tweakreg:\tsearchunits :\tarcseconds\n",
      "INFO:drizzlepac.tweakreg:\tsee2dplot :\tFalse\n",
      "INFO:drizzlepac.tweakreg:\tseparation :\t0.5\n",
      "INFO:drizzlepac.tweakreg:\ttolerance :\t1.0\n",
      "INFO:drizzlepac.tweakreg:\tuse2dhist :\tTrue\n",
      "INFO:drizzlepac.tweakreg:\txoffset :\t0.0\n",
      "INFO:drizzlepac.tweakreg:\tyoffset :\t0.0\n",
      "INFO:drizzlepac.tweakreg:\n",
      "INFO:drizzlepac.tweakreg:USER INPUT PARAMETERS for fitting source lists:\n",
      "INFO:drizzlepac.tweakreg:\tfitgeometry :\tgeneral\n",
      "INFO:drizzlepac.tweakreg:\tlabelsize :\t8\n",
      "INFO:drizzlepac.tweakreg:\tminobj :\t15\n",
      "INFO:drizzlepac.tweakreg:\tnclip :\t3\n",
      "INFO:drizzlepac.tweakreg:\tresidplot :\tboth\n",
      "INFO:drizzlepac.tweakreg:\tsigma :\t2.3\n",
      "INFO:drizzlepac.tweakreg:\tylimit :\t0.2\n",
      "INFO:drizzlepac.tweakreg:\n",
      "INFO:drizzlepac.tweakreg:USER INPUT PARAMETERS for creating a shiftfile:\n",
      "INFO:drizzlepac.tweakreg:\toutshifts :\tGaia_shifts.txt\n",
      "INFO:drizzlepac.tweakreg:\toutwcs :\tshifts_wcs.fits\n",
      "INFO:drizzlepac.tweakreg:\tshiftfile :\tTrue\n",
      "INFO:drizzlepac.tweakreg:\n"
     ]
    },
    {
     "name": "stdout",
     "output_type": "stream",
     "text": [
      "\n"
     ]
    },
    {
     "name": "stderr",
     "output_type": "stream",
     "text": [
      "INFO:drizzlepac.tweakreg:====================\n"
     ]
    },
    {
     "name": "stdout",
     "output_type": "stream",
     "text": [
      "====================\n"
     ]
    },
    {
     "name": "stderr",
     "output_type": "stream",
     "text": [
      "INFO:drizzlepac.tweakreg:Performing fit for: icbna6jqq_flt.fits\n"
     ]
    },
    {
     "name": "stdout",
     "output_type": "stream",
     "text": [
      "Performing fit for: icbna6jqq_flt.fits\n"
     ]
    },
    {
     "name": "stderr",
     "output_type": "stream",
     "text": [
      "INFO:drizzlepac.tweakreg:\n"
     ]
    },
    {
     "name": "stdout",
     "output_type": "stream",
     "text": [
      "\n"
     ]
    },
    {
     "name": "stderr",
     "output_type": "stream",
     "text": [
      "INFO:drizzlepac.imgclasses:Matching sources from 'icbna6jqq_flt.fits' with sources from reference catalog 'gaia.cat'\n"
     ]
    },
    {
     "name": "stdout",
     "output_type": "stream",
     "text": [
      "Matching sources from 'icbna6jqq_flt.fits' with sources from reference catalog 'gaia.cat'\n"
     ]
    },
    {
     "name": "stderr",
     "output_type": "stream",
     "text": [
      "INFO:drizzlepac.imgclasses:Computing initial guess for X and Y shifts...\n"
     ]
    },
    {
     "name": "stdout",
     "output_type": "stream",
     "text": [
      "Computing initial guess for X and Y shifts...\n"
     ]
    },
    {
     "name": "stderr",
     "output_type": "stream",
     "text": [
      "INFO:drizzlepac.imgclasses:Found initial X and Y shifts of 0.1527, 0.2027 with significance of 19 and 20 matches\n"
     ]
    },
    {
     "name": "stdout",
     "output_type": "stream",
     "text": [
      "Found initial X and Y shifts of 0.1527, 0.2027 with significance of 19 and 20 matches\n"
     ]
    },
    {
     "name": "stderr",
     "output_type": "stream",
     "text": [
      "INFO:drizzlepac.imgclasses:Found 20 matches for icbna6jqq_flt.fits...\n"
     ]
    },
    {
     "name": "stdout",
     "output_type": "stream",
     "text": [
      "Found 20 matches for icbna6jqq_flt.fits...\n"
     ]
    },
    {
     "name": "stderr",
     "output_type": "stream",
     "text": [
      "INFO:drizzlepac.linearfit:Performing \"general\" fit\n",
      "INFO:drizzlepac.linearfit:Performing \"general\" fit\n",
      "INFO:drizzlepac.linearfit:Performing \"general\" fit\n",
      "INFO:drizzlepac.linearfit:Performing \"general\" fit\n",
      "INFO:drizzlepac.imgclasses:Computed  general  fit for  icbna6jqq_flt.fits : \n"
     ]
    },
    {
     "name": "stdout",
     "output_type": "stream",
     "text": [
      "Computed  general  fit for  icbna6jqq_flt.fits : \n"
     ]
    },
    {
     "name": "stderr",
     "output_type": "stream",
     "text": [
      "INFO:drizzlepac.imgclasses:XSH: 0.0557  YSH: 0.1465    PROPER ROT: 0.002313160311    \n"
     ]
    },
    {
     "name": "stdout",
     "output_type": "stream",
     "text": [
      "XSH: 0.0557  YSH: 0.1465    PROPER ROT: 0.002313160311    \n"
     ]
    },
    {
     "name": "stderr",
     "output_type": "stream",
     "text": [
      "INFO:drizzlepac.imgclasses:<ROT>: 180.0023132  SKEW: -359.9773081    ROT_X: 359.9909672  ROT_Y: 0.0136591257\n"
     ]
    },
    {
     "name": "stdout",
     "output_type": "stream",
     "text": [
      "<ROT>: 180.0023132  SKEW: -359.9773081    ROT_X: 359.9909672  ROT_Y: 0.0136591257\n"
     ]
    },
    {
     "name": "stderr",
     "output_type": "stream",
     "text": [
      "INFO:drizzlepac.imgclasses:<SCALE>: 0.9999440101  SCALE_X: 0.9998943497  SCALE_Y: 0.9999937515\n"
     ]
    },
    {
     "name": "stdout",
     "output_type": "stream",
     "text": [
      "<SCALE>: 0.9999440101  SCALE_X: 0.9998943497  SCALE_Y: 0.9999937515\n"
     ]
    },
    {
     "name": "stderr",
     "output_type": "stream",
     "text": [
      "INFO:drizzlepac.imgclasses:FIT XRMS: 0.039      FIT YRMS: 0.028  \n"
     ]
    },
    {
     "name": "stdout",
     "output_type": "stream",
     "text": [
      "FIT XRMS: 0.039      FIT YRMS: 0.028  \n"
     ]
    },
    {
     "name": "stderr",
     "output_type": "stream",
     "text": [
      "INFO:drizzlepac.imgclasses:FIT RMSE: 0.048      FIT MAE: 0.044  \n"
     ]
    },
    {
     "name": "stdout",
     "output_type": "stream",
     "text": [
      "FIT RMSE: 0.048      FIT MAE: 0.044  \n"
     ]
    },
    {
     "name": "stderr",
     "output_type": "stream",
     "text": [
      "INFO:drizzlepac.imgclasses:\n"
     ]
    },
    {
     "name": "stdout",
     "output_type": "stream",
     "text": [
      "\n"
     ]
    },
    {
     "name": "stderr",
     "output_type": "stream",
     "text": [
      "INFO:drizzlepac.imgclasses:RMS_RA: 4.7e-06 (deg)   RMS_DEC: 5.5e-07 (deg)\n"
     ]
    },
    {
     "name": "stdout",
     "output_type": "stream",
     "text": [
      "RMS_RA: 4.7e-06 (deg)   RMS_DEC: 5.5e-07 (deg)\n"
     ]
    },
    {
     "name": "stderr",
     "output_type": "stream",
     "text": [
      "INFO:drizzlepac.imgclasses:\n"
     ]
    },
    {
     "name": "stdout",
     "output_type": "stream",
     "text": [
      "\n"
     ]
    },
    {
     "name": "stderr",
     "output_type": "stream",
     "text": [
      "INFO:drizzlepac.imgclasses:Final solution based on  19  objects.\n"
     ]
    },
    {
     "name": "stdout",
     "output_type": "stream",
     "text": [
      "Final solution based on  19  objects.\n"
     ]
    },
    {
     "name": "stderr",
     "output_type": "stream",
     "text": [
      "INFO:drizzlepac.imgclasses:Creating catalog for the fit: icbna6jqq_flt_catalog_fit.match\n",
      "INFO:drizzlepac.tweakutils:wrote XY data to:  icbna6jqq_flt_catalog_fit.match\n"
     ]
    },
    {
     "name": "stdout",
     "output_type": "stream",
     "text": [
      "wrote XY data to:  icbna6jqq_flt_catalog_fit.match\n"
     ]
    },
    {
     "name": "stderr",
     "output_type": "stream",
     "text": [
      "INFO:drizzlepac.tweakutils:Total # points: 19\n"
     ]
    },
    {
     "name": "stdout",
     "output_type": "stream",
     "text": [
      "Total # points: 19\n"
     ]
    },
    {
     "name": "stderr",
     "output_type": "stream",
     "text": [
      "INFO:drizzlepac.tweakutils:# of points after clipping: 19\n"
     ]
    },
    {
     "name": "stdout",
     "output_type": "stream",
     "text": [
      "# of points after clipping: 19\n"
     ]
    },
    {
     "name": "stderr",
     "output_type": "stream",
     "text": [
      "INFO:drizzlepac.tweakutils:Total # points: 19\n"
     ]
    },
    {
     "name": "stdout",
     "output_type": "stream",
     "text": [
      "Total # points: 19\n"
     ]
    },
    {
     "name": "stderr",
     "output_type": "stream",
     "text": [
      "INFO:drizzlepac.tweakutils:# of points after clipping: 19\n"
     ]
    },
    {
     "name": "stdout",
     "output_type": "stream",
     "text": [
      "# of points after clipping: 19\n"
     ]
    },
    {
     "name": "stderr",
     "output_type": "stream",
     "text": [
      "INFO:drizzlepac.updatehdr:\n"
     ]
    },
    {
     "name": "stdout",
     "output_type": "stream",
     "text": [
      "\n"
     ]
    },
    {
     "name": "stderr",
     "output_type": "stream",
     "text": [
      "INFO:drizzlepac.updatehdr:....Updating header for icbna6jqq_flt.fits...\n"
     ]
    },
    {
     "name": "stdout",
     "output_type": "stream",
     "text": [
      "....Updating header for icbna6jqq_flt.fits...\n"
     ]
    },
    {
     "name": "stderr",
     "output_type": "stream",
     "text": [
      "INFO:drizzlepac.updatehdr:\n"
     ]
    },
    {
     "name": "stdout",
     "output_type": "stream",
     "text": [
      "\n"
     ]
    },
    {
     "name": "stderr",
     "output_type": "stream",
     "text": [
      "WARNING:py.warnings:/Users/remy/opt/miniconda3/envs/astroconda/lib/python3.7/site-packages/drizzlepac/updatehdr.py:244: AstropyDeprecationWarning: The archiveWCS function is deprecated and may be removed in a future version.\n",
      "        Use archive_wcs instead.\n",
      "  wcsutil.altwcs.archiveWCS(fimg, extlist, reusekey=True)\n",
      "\n",
      "INFO:drizzlepac.updatehdr:\n"
     ]
    },
    {
     "name": "stdout",
     "output_type": "stream",
     "text": [
      "\n"
     ]
    },
    {
     "name": "stderr",
     "output_type": "stream",
     "text": [
      "INFO:drizzlepac.updatehdr:Processing icbna6jqq_flt.fits['SCI',1]\n"
     ]
    },
    {
     "name": "stdout",
     "output_type": "stream",
     "text": [
      "Processing icbna6jqq_flt.fits['SCI',1]\n"
     ]
    },
    {
     "name": "stderr",
     "output_type": "stream",
     "text": [
      "INFO:drizzlepac.updatehdr:\n"
     ]
    },
    {
     "name": "stdout",
     "output_type": "stream",
     "text": [
      "\n"
     ]
    },
    {
     "name": "stderr",
     "output_type": "stream",
     "text": [
      "INFO:drizzlepac.updatehdr:Updating header for icbna6jqq_flt.fits[1]\n"
     ]
    },
    {
     "name": "stdout",
     "output_type": "stream",
     "text": [
      "Updating header for icbna6jqq_flt.fits[1]\n"
     ]
    },
    {
     "name": "stderr",
     "output_type": "stream",
     "text": [
      "INFO:drizzlepac.updatehdr:    with WCS of\n",
      "INFO:stwcs.wcsutil.hstwcs:WCS Keywords\n"
     ]
    },
    {
     "name": "stdout",
     "output_type": "stream",
     "text": [
      "WCS Keywords\n"
     ]
    },
    {
     "name": "stderr",
     "output_type": "stream",
     "text": [
      "INFO:stwcs.wcsutil.hstwcs:\n"
     ]
    },
    {
     "name": "stdout",
     "output_type": "stream",
     "text": [
      "\n"
     ]
    },
    {
     "name": "stderr",
     "output_type": "stream",
     "text": [
      "INFO:stwcs.wcsutil.hstwcs:CD_11  CD_12: -2.147492622852041e-05 -2.7643828675199294e-05\n"
     ]
    },
    {
     "name": "stdout",
     "output_type": "stream",
     "text": [
      "CD_11  CD_12: -2.147492622852041e-05 -2.7643828675199294e-05\n"
     ]
    },
    {
     "name": "stderr",
     "output_type": "stream",
     "text": [
      "INFO:stwcs.wcsutil.hstwcs:CD_21  CD_22: -3.0890022682893965e-05 1.9098194850200345e-05\n"
     ]
    },
    {
     "name": "stdout",
     "output_type": "stream",
     "text": [
      "CD_21  CD_22: -3.0890022682893965e-05 1.9098194850200345e-05\n"
     ]
    },
    {
     "name": "stderr",
     "output_type": "stream",
     "text": [
      "INFO:stwcs.wcsutil.hstwcs:CRVAL    : 85.26271859123753 -69.80427691225576\n"
     ]
    },
    {
     "name": "stdout",
     "output_type": "stream",
     "text": [
      "CRVAL    : 85.26271859123753 -69.80427691225576\n"
     ]
    },
    {
     "name": "stderr",
     "output_type": "stream",
     "text": [
      "INFO:stwcs.wcsutil.hstwcs:CRPIX    : 507.0 507.0\n"
     ]
    },
    {
     "name": "stdout",
     "output_type": "stream",
     "text": [
      "CRPIX    : 507.0 507.0\n"
     ]
    },
    {
     "name": "stderr",
     "output_type": "stream",
     "text": [
      "INFO:stwcs.wcsutil.hstwcs:NAXIS    : 1014 1014\n"
     ]
    },
    {
     "name": "stdout",
     "output_type": "stream",
     "text": [
      "NAXIS    : 1014 1014\n"
     ]
    },
    {
     "name": "stderr",
     "output_type": "stream",
     "text": [
      "INFO:stwcs.wcsutil.hstwcs:Plate Scale : 0.13542238140751423\n"
     ]
    },
    {
     "name": "stdout",
     "output_type": "stream",
     "text": [
      "Plate Scale : 0.13542238140751423\n"
     ]
    },
    {
     "name": "stderr",
     "output_type": "stream",
     "text": [
      "INFO:stwcs.wcsutil.hstwcs:ORIENTAT : -55.36070474944076\n"
     ]
    },
    {
     "name": "stdout",
     "output_type": "stream",
     "text": [
      "ORIENTAT : -55.36070474944076\n"
     ]
    },
    {
     "name": "stderr",
     "output_type": "stream",
     "text": [
      "INFO:drizzlepac.updatehdr:WCSNAME  :  Gaia\n"
     ]
    },
    {
     "name": "stdout",
     "output_type": "stream",
     "text": [
      "WCSNAME  :  Gaia\n"
     ]
    },
    {
     "name": "stderr",
     "output_type": "stream",
     "text": [
      "WARNING:py.warnings:/Users/remy/opt/miniconda3/envs/astroconda/lib/python3.7/site-packages/drizzlepac/updatehdr.py:502: AstropyDeprecationWarning: The archiveWCS function is deprecated and may be removed in a future version.\n",
      "        Use archive_wcs instead.\n",
      "  wcskey=wkey, reusekey=reusename)\n",
      "\n",
      "INFO:drizzlepac.imgclasses:    Writing out new WCS to alternate WCS: \" \"\n",
      "INFO:drizzlepac.imgclasses:Updating WCSCORR table with new WCS solution \"Gaia\"\n",
      "INFO:drizzlepac.tweakreg:\n"
     ]
    },
    {
     "name": "stdout",
     "output_type": "stream",
     "text": [
      "\n"
     ]
    },
    {
     "name": "stderr",
     "output_type": "stream",
     "text": [
      "INFO:drizzlepac.tweakreg:====================\n"
     ]
    },
    {
     "name": "stdout",
     "output_type": "stream",
     "text": [
      "====================\n"
     ]
    },
    {
     "name": "stderr",
     "output_type": "stream",
     "text": [
      "INFO:drizzlepac.tweakreg:Performing fit for: icbna6jaq_flt.fits\n"
     ]
    },
    {
     "name": "stdout",
     "output_type": "stream",
     "text": [
      "Performing fit for: icbna6jaq_flt.fits\n"
     ]
    },
    {
     "name": "stderr",
     "output_type": "stream",
     "text": [
      "INFO:drizzlepac.tweakreg:\n"
     ]
    },
    {
     "name": "stdout",
     "output_type": "stream",
     "text": [
      "\n"
     ]
    },
    {
     "name": "stderr",
     "output_type": "stream",
     "text": [
      "INFO:drizzlepac.imgclasses:Matching sources from 'icbna6jaq_flt.fits' with sources from reference catalog 'gaia.cat'\n"
     ]
    },
    {
     "name": "stdout",
     "output_type": "stream",
     "text": [
      "Matching sources from 'icbna6jaq_flt.fits' with sources from reference catalog 'gaia.cat'\n"
     ]
    },
    {
     "name": "stderr",
     "output_type": "stream",
     "text": [
      "INFO:drizzlepac.imgclasses:Computing initial guess for X and Y shifts...\n"
     ]
    },
    {
     "name": "stdout",
     "output_type": "stream",
     "text": [
      "Computing initial guess for X and Y shifts...\n"
     ]
    },
    {
     "name": "stderr",
     "output_type": "stream",
     "text": [
      "INFO:drizzlepac.imgclasses:Found initial X and Y shifts of 0.1551, 0.2027 with significance of 20 and 21 matches\n"
     ]
    },
    {
     "name": "stdout",
     "output_type": "stream",
     "text": [
      "Found initial X and Y shifts of 0.1551, 0.2027 with significance of 20 and 21 matches\n"
     ]
    },
    {
     "name": "stderr",
     "output_type": "stream",
     "text": [
      "INFO:drizzlepac.imgclasses:Found 21 matches for icbna6jaq_flt.fits...\n"
     ]
    },
    {
     "name": "stdout",
     "output_type": "stream",
     "text": [
      "Found 21 matches for icbna6jaq_flt.fits...\n"
     ]
    },
    {
     "name": "stderr",
     "output_type": "stream",
     "text": [
      "INFO:drizzlepac.linearfit:Performing \"general\" fit\n",
      "INFO:drizzlepac.linearfit:Performing \"general\" fit\n",
      "INFO:drizzlepac.linearfit:Performing \"general\" fit\n",
      "INFO:drizzlepac.linearfit:Performing \"general\" fit\n",
      "INFO:drizzlepac.imgclasses:Computed  general  fit for  icbna6jaq_flt.fits : \n"
     ]
    },
    {
     "name": "stdout",
     "output_type": "stream",
     "text": [
      "Computed  general  fit for  icbna6jaq_flt.fits : \n"
     ]
    },
    {
     "name": "stderr",
     "output_type": "stream",
     "text": [
      "INFO:drizzlepac.imgclasses:XSH: 0.0843  YSH: 0.1359    PROPER ROT: 359.9927107    \n"
     ]
    },
    {
     "name": "stdout",
     "output_type": "stream",
     "text": [
      "XSH: 0.0843  YSH: 0.1359    PROPER ROT: 359.9927107    \n"
     ]
    },
    {
     "name": "stderr",
     "output_type": "stream",
     "text": [
      "INFO:drizzlepac.imgclasses:<ROT>: 359.9927107  SKEW: 0.005487606889    ROT_X: 359.9899669  ROT_Y: 359.9954545\n"
     ]
    },
    {
     "name": "stdout",
     "output_type": "stream",
     "text": [
      "<ROT>: 359.9927107  SKEW: 0.005487606889    ROT_X: 359.9899669  ROT_Y: 359.9954545\n"
     ]
    },
    {
     "name": "stderr",
     "output_type": "stream",
     "text": [
      "INFO:drizzlepac.imgclasses:<SCALE>: 0.9999046843  SCALE_X: 0.9999901943  SCALE_Y: 0.9998191862\n"
     ]
    },
    {
     "name": "stdout",
     "output_type": "stream",
     "text": [
      "<SCALE>: 0.9999046843  SCALE_X: 0.9999901943  SCALE_Y: 0.9998191862\n"
     ]
    },
    {
     "name": "stderr",
     "output_type": "stream",
     "text": [
      "INFO:drizzlepac.imgclasses:FIT XRMS: 0.042      FIT YRMS: 0.038  \n"
     ]
    },
    {
     "name": "stdout",
     "output_type": "stream",
     "text": [
      "FIT XRMS: 0.042      FIT YRMS: 0.038  \n"
     ]
    },
    {
     "name": "stderr",
     "output_type": "stream",
     "text": [
      "INFO:drizzlepac.imgclasses:FIT RMSE: 0.056      FIT MAE: 0.049  \n"
     ]
    },
    {
     "name": "stdout",
     "output_type": "stream",
     "text": [
      "FIT RMSE: 0.056      FIT MAE: 0.049  \n"
     ]
    },
    {
     "name": "stderr",
     "output_type": "stream",
     "text": [
      "INFO:drizzlepac.imgclasses:\n"
     ]
    },
    {
     "name": "stdout",
     "output_type": "stream",
     "text": [
      "\n"
     ]
    },
    {
     "name": "stderr",
     "output_type": "stream",
     "text": [
      "INFO:drizzlepac.imgclasses:RMS_RA: 5.7e-06 (deg)   RMS_DEC: 4.6e-07 (deg)\n"
     ]
    },
    {
     "name": "stdout",
     "output_type": "stream",
     "text": [
      "RMS_RA: 5.7e-06 (deg)   RMS_DEC: 4.6e-07 (deg)\n"
     ]
    },
    {
     "name": "stderr",
     "output_type": "stream",
     "text": [
      "INFO:drizzlepac.imgclasses:\n"
     ]
    },
    {
     "name": "stdout",
     "output_type": "stream",
     "text": [
      "\n"
     ]
    },
    {
     "name": "stderr",
     "output_type": "stream",
     "text": [
      "INFO:drizzlepac.imgclasses:Final solution based on  19  objects.\n"
     ]
    },
    {
     "name": "stdout",
     "output_type": "stream",
     "text": [
      "Final solution based on  19  objects.\n"
     ]
    },
    {
     "name": "stderr",
     "output_type": "stream",
     "text": [
      "INFO:drizzlepac.imgclasses:Creating catalog for the fit: icbna6jaq_flt_catalog_fit.match\n",
      "INFO:drizzlepac.tweakutils:wrote XY data to:  icbna6jaq_flt_catalog_fit.match\n"
     ]
    },
    {
     "name": "stdout",
     "output_type": "stream",
     "text": [
      "wrote XY data to:  icbna6jaq_flt_catalog_fit.match\n"
     ]
    },
    {
     "name": "stderr",
     "output_type": "stream",
     "text": [
      "INFO:drizzlepac.tweakutils:Total # points: 19\n"
     ]
    },
    {
     "name": "stdout",
     "output_type": "stream",
     "text": [
      "Total # points: 19\n"
     ]
    },
    {
     "name": "stderr",
     "output_type": "stream",
     "text": [
      "INFO:drizzlepac.tweakutils:# of points after clipping: 19\n"
     ]
    },
    {
     "name": "stdout",
     "output_type": "stream",
     "text": [
      "# of points after clipping: 19\n"
     ]
    },
    {
     "name": "stderr",
     "output_type": "stream",
     "text": [
      "INFO:drizzlepac.tweakutils:Total # points: 19\n"
     ]
    },
    {
     "name": "stdout",
     "output_type": "stream",
     "text": [
      "Total # points: 19\n"
     ]
    },
    {
     "name": "stderr",
     "output_type": "stream",
     "text": [
      "INFO:drizzlepac.tweakutils:# of points after clipping: 19\n"
     ]
    },
    {
     "name": "stdout",
     "output_type": "stream",
     "text": [
      "# of points after clipping: 19\n"
     ]
    },
    {
     "name": "stderr",
     "output_type": "stream",
     "text": [
      "INFO:drizzlepac.updatehdr:\n"
     ]
    },
    {
     "name": "stdout",
     "output_type": "stream",
     "text": [
      "\n"
     ]
    },
    {
     "name": "stderr",
     "output_type": "stream",
     "text": [
      "INFO:drizzlepac.updatehdr:....Updating header for icbna6jaq_flt.fits...\n"
     ]
    },
    {
     "name": "stdout",
     "output_type": "stream",
     "text": [
      "....Updating header for icbna6jaq_flt.fits...\n"
     ]
    },
    {
     "name": "stderr",
     "output_type": "stream",
     "text": [
      "INFO:drizzlepac.updatehdr:\n"
     ]
    },
    {
     "name": "stdout",
     "output_type": "stream",
     "text": [
      "\n"
     ]
    },
    {
     "name": "stderr",
     "output_type": "stream",
     "text": [
      "WARNING:py.warnings:/Users/remy/opt/miniconda3/envs/astroconda/lib/python3.7/site-packages/drizzlepac/updatehdr.py:244: AstropyDeprecationWarning: The archiveWCS function is deprecated and may be removed in a future version.\n",
      "        Use archive_wcs instead.\n",
      "  wcsutil.altwcs.archiveWCS(fimg, extlist, reusekey=True)\n",
      "\n",
      "INFO:drizzlepac.updatehdr:\n"
     ]
    },
    {
     "name": "stdout",
     "output_type": "stream",
     "text": [
      "\n"
     ]
    },
    {
     "name": "stderr",
     "output_type": "stream",
     "text": [
      "INFO:drizzlepac.updatehdr:Processing icbna6jaq_flt.fits['SCI',1]\n"
     ]
    },
    {
     "name": "stdout",
     "output_type": "stream",
     "text": [
      "Processing icbna6jaq_flt.fits['SCI',1]\n"
     ]
    },
    {
     "name": "stderr",
     "output_type": "stream",
     "text": [
      "INFO:drizzlepac.updatehdr:\n"
     ]
    },
    {
     "name": "stdout",
     "output_type": "stream",
     "text": [
      "\n"
     ]
    },
    {
     "name": "stderr",
     "output_type": "stream",
     "text": [
      "INFO:drizzlepac.updatehdr:Updating header for icbna6jaq_flt.fits[1]\n"
     ]
    },
    {
     "name": "stdout",
     "output_type": "stream",
     "text": [
      "Updating header for icbna6jaq_flt.fits[1]\n"
     ]
    },
    {
     "name": "stderr",
     "output_type": "stream",
     "text": [
      "INFO:drizzlepac.updatehdr:    with WCS of\n",
      "INFO:stwcs.wcsutil.hstwcs:WCS Keywords\n"
     ]
    },
    {
     "name": "stdout",
     "output_type": "stream",
     "text": [
      "WCS Keywords\n"
     ]
    },
    {
     "name": "stderr",
     "output_type": "stream",
     "text": [
      "INFO:stwcs.wcsutil.hstwcs:\n"
     ]
    },
    {
     "name": "stdout",
     "output_type": "stream",
     "text": [
      "\n"
     ]
    },
    {
     "name": "stderr",
     "output_type": "stream",
     "text": [
      "INFO:stwcs.wcsutil.hstwcs:CD_11  CD_12: -2.1474127844640634e-05 -2.7651749910111364e-05\n"
     ]
    },
    {
     "name": "stdout",
     "output_type": "stream",
     "text": [
      "CD_11  CD_12: -2.1474127844640634e-05 -2.7651749910111364e-05\n"
     ]
    },
    {
     "name": "stderr",
     "output_type": "stream",
     "text": [
      "INFO:stwcs.wcsutil.hstwcs:CD_21  CD_22: -3.088450672558008e-05 1.9095009600515874e-05\n"
     ]
    },
    {
     "name": "stdout",
     "output_type": "stream",
     "text": [
      "CD_21  CD_22: -3.088450672558008e-05 1.9095009600515874e-05\n"
     ]
    },
    {
     "name": "stderr",
     "output_type": "stream",
     "text": [
      "INFO:stwcs.wcsutil.hstwcs:CRVAL    : 85.26223509915503 -69.80423771238192\n"
     ]
    },
    {
     "name": "stdout",
     "output_type": "stream",
     "text": [
      "CRVAL    : 85.26223509915503 -69.80423771238192\n"
     ]
    },
    {
     "name": "stderr",
     "output_type": "stream",
     "text": [
      "INFO:stwcs.wcsutil.hstwcs:CRPIX    : 507.0 507.0\n"
     ]
    },
    {
     "name": "stdout",
     "output_type": "stream",
     "text": [
      "CRPIX    : 507.0 507.0\n"
     ]
    },
    {
     "name": "stderr",
     "output_type": "stream",
     "text": [
      "INFO:stwcs.wcsutil.hstwcs:NAXIS    : 1014 1014\n"
     ]
    },
    {
     "name": "stdout",
     "output_type": "stream",
     "text": [
      "NAXIS    : 1014 1014\n"
     ]
    },
    {
     "name": "stderr",
     "output_type": "stream",
     "text": [
      "INFO:stwcs.wcsutil.hstwcs:Plate Scale : 0.13541754608741915\n"
     ]
    },
    {
     "name": "stdout",
     "output_type": "stream",
     "text": [
      "Plate Scale : 0.13541754608741915\n"
     ]
    },
    {
     "name": "stderr",
     "output_type": "stream",
     "text": [
      "INFO:stwcs.wcsutil.hstwcs:ORIENTAT : -55.37284986763897\n"
     ]
    },
    {
     "name": "stdout",
     "output_type": "stream",
     "text": [
      "ORIENTAT : -55.37284986763897\n"
     ]
    },
    {
     "name": "stderr",
     "output_type": "stream",
     "text": [
      "INFO:drizzlepac.updatehdr:WCSNAME  :  Gaia\n"
     ]
    },
    {
     "name": "stdout",
     "output_type": "stream",
     "text": [
      "WCSNAME  :  Gaia\n"
     ]
    },
    {
     "name": "stderr",
     "output_type": "stream",
     "text": [
      "WARNING:py.warnings:/Users/remy/opt/miniconda3/envs/astroconda/lib/python3.7/site-packages/drizzlepac/updatehdr.py:502: AstropyDeprecationWarning: The archiveWCS function is deprecated and may be removed in a future version.\n",
      "        Use archive_wcs instead.\n",
      "  wcskey=wkey, reusekey=reusename)\n",
      "\n",
      "INFO:drizzlepac.imgclasses:    Writing out new WCS to alternate WCS: \" \"\n",
      "INFO:drizzlepac.imgclasses:Updating WCSCORR table with new WCS solution \"Gaia\"\n",
      "INFO:drizzlepac.tweakreg:\n"
     ]
    },
    {
     "name": "stdout",
     "output_type": "stream",
     "text": [
      "\n"
     ]
    },
    {
     "name": "stderr",
     "output_type": "stream",
     "text": [
      "INFO:drizzlepac.tweakreg:====================\n"
     ]
    },
    {
     "name": "stdout",
     "output_type": "stream",
     "text": [
      "====================\n"
     ]
    },
    {
     "name": "stderr",
     "output_type": "stream",
     "text": [
      "INFO:drizzlepac.tweakreg:Performing fit for: icbna6jjq_flt.fits\n"
     ]
    },
    {
     "name": "stdout",
     "output_type": "stream",
     "text": [
      "Performing fit for: icbna6jjq_flt.fits\n"
     ]
    },
    {
     "name": "stderr",
     "output_type": "stream",
     "text": [
      "INFO:drizzlepac.tweakreg:\n"
     ]
    },
    {
     "name": "stdout",
     "output_type": "stream",
     "text": [
      "\n"
     ]
    },
    {
     "name": "stderr",
     "output_type": "stream",
     "text": [
      "INFO:drizzlepac.imgclasses:Matching sources from 'icbna6jjq_flt.fits' with sources from reference catalog 'gaia.cat'\n"
     ]
    },
    {
     "name": "stdout",
     "output_type": "stream",
     "text": [
      "Matching sources from 'icbna6jjq_flt.fits' with sources from reference catalog 'gaia.cat'\n"
     ]
    },
    {
     "name": "stderr",
     "output_type": "stream",
     "text": [
      "INFO:drizzlepac.imgclasses:Computing initial guess for X and Y shifts...\n"
     ]
    },
    {
     "name": "stdout",
     "output_type": "stream",
     "text": [
      "Computing initial guess for X and Y shifts...\n"
     ]
    },
    {
     "name": "stderr",
     "output_type": "stream",
     "text": [
      "INFO:drizzlepac.imgclasses:Found initial X and Y shifts of 0.1075, 0.2027 with significance of 15.51 and 21 matches\n"
     ]
    },
    {
     "name": "stdout",
     "output_type": "stream",
     "text": [
      "Found initial X and Y shifts of 0.1075, 0.2027 with significance of 15.51 and 21 matches\n"
     ]
    },
    {
     "name": "stderr",
     "output_type": "stream",
     "text": [
      "INFO:drizzlepac.imgclasses:Found 21 matches for icbna6jjq_flt.fits...\n"
     ]
    },
    {
     "name": "stdout",
     "output_type": "stream",
     "text": [
      "Found 21 matches for icbna6jjq_flt.fits...\n"
     ]
    },
    {
     "name": "stderr",
     "output_type": "stream",
     "text": [
      "INFO:drizzlepac.linearfit:Performing \"general\" fit\n",
      "INFO:drizzlepac.linearfit:Performing \"general\" fit\n",
      "INFO:drizzlepac.linearfit:Performing \"general\" fit\n",
      "INFO:drizzlepac.linearfit:Performing \"general\" fit\n",
      "INFO:drizzlepac.imgclasses:Computed  general  fit for  icbna6jjq_flt.fits : \n"
     ]
    },
    {
     "name": "stdout",
     "output_type": "stream",
     "text": [
      "Computed  general  fit for  icbna6jjq_flt.fits : \n"
     ]
    },
    {
     "name": "stderr",
     "output_type": "stream",
     "text": [
      "INFO:drizzlepac.imgclasses:XSH: 0.0054  YSH: 0.2165    PROPER ROT: 0.01720435243    \n"
     ]
    },
    {
     "name": "stdout",
     "output_type": "stream",
     "text": [
      "XSH: 0.0054  YSH: 0.2165    PROPER ROT: 0.01720435243    \n"
     ]
    },
    {
     "name": "stderr",
     "output_type": "stream",
     "text": [
      "INFO:drizzlepac.imgclasses:<ROT>: 0.01720435243  SKEW: 0.01185485077    ROT_X: 0.01127692704  ROT_Y: 0.02313177781\n"
     ]
    },
    {
     "name": "stdout",
     "output_type": "stream",
     "text": [
      "<ROT>: 0.01720435243  SKEW: 0.01185485077    ROT_X: 0.01127692704  ROT_Y: 0.02313177781\n"
     ]
    },
    {
     "name": "stderr",
     "output_type": "stream",
     "text": [
      "INFO:drizzlepac.imgclasses:<SCALE>: 1.000060332  SCALE_X: 1.000317892  SCALE_Y: 0.9998028607\n"
     ]
    },
    {
     "name": "stdout",
     "output_type": "stream",
     "text": [
      "<SCALE>: 1.000060332  SCALE_X: 1.000317892  SCALE_Y: 0.9998028607\n"
     ]
    },
    {
     "name": "stderr",
     "output_type": "stream",
     "text": [
      "INFO:drizzlepac.imgclasses:FIT XRMS: 0.04       FIT YRMS: 0.018  \n"
     ]
    },
    {
     "name": "stdout",
     "output_type": "stream",
     "text": [
      "FIT XRMS: 0.04       FIT YRMS: 0.018  \n"
     ]
    },
    {
     "name": "stderr",
     "output_type": "stream",
     "text": [
      "INFO:drizzlepac.imgclasses:FIT RMSE: 0.044      FIT MAE: 0.037  \n"
     ]
    },
    {
     "name": "stdout",
     "output_type": "stream",
     "text": [
      "FIT RMSE: 0.044      FIT MAE: 0.037  \n"
     ]
    },
    {
     "name": "stderr",
     "output_type": "stream",
     "text": [
      "INFO:drizzlepac.imgclasses:\n"
     ]
    },
    {
     "name": "stdout",
     "output_type": "stream",
     "text": [
      "\n"
     ]
    },
    {
     "name": "stderr",
     "output_type": "stream",
     "text": [
      "INFO:drizzlepac.imgclasses:RMS_RA: 3.9e-06 (deg)   RMS_DEC: 7.8e-07 (deg)\n"
     ]
    },
    {
     "name": "stdout",
     "output_type": "stream",
     "text": [
      "RMS_RA: 3.9e-06 (deg)   RMS_DEC: 7.8e-07 (deg)\n"
     ]
    },
    {
     "name": "stderr",
     "output_type": "stream",
     "text": [
      "INFO:drizzlepac.imgclasses:\n"
     ]
    },
    {
     "name": "stdout",
     "output_type": "stream",
     "text": [
      "\n"
     ]
    },
    {
     "name": "stderr",
     "output_type": "stream",
     "text": [
      "INFO:drizzlepac.imgclasses:Final solution based on  18  objects.\n"
     ]
    },
    {
     "name": "stdout",
     "output_type": "stream",
     "text": [
      "Final solution based on  18  objects.\n"
     ]
    },
    {
     "name": "stderr",
     "output_type": "stream",
     "text": [
      "INFO:drizzlepac.imgclasses:Creating catalog for the fit: icbna6jjq_flt_catalog_fit.match\n",
      "INFO:drizzlepac.tweakutils:wrote XY data to:  icbna6jjq_flt_catalog_fit.match\n"
     ]
    },
    {
     "name": "stdout",
     "output_type": "stream",
     "text": [
      "wrote XY data to:  icbna6jjq_flt_catalog_fit.match\n"
     ]
    },
    {
     "name": "stderr",
     "output_type": "stream",
     "text": [
      "INFO:drizzlepac.tweakutils:Total # points: 18\n"
     ]
    },
    {
     "name": "stdout",
     "output_type": "stream",
     "text": [
      "Total # points: 18\n"
     ]
    },
    {
     "name": "stderr",
     "output_type": "stream",
     "text": [
      "INFO:drizzlepac.tweakutils:# of points after clipping: 18\n"
     ]
    },
    {
     "name": "stdout",
     "output_type": "stream",
     "text": [
      "# of points after clipping: 18\n"
     ]
    },
    {
     "name": "stderr",
     "output_type": "stream",
     "text": [
      "INFO:drizzlepac.tweakutils:Total # points: 18\n"
     ]
    },
    {
     "name": "stdout",
     "output_type": "stream",
     "text": [
      "Total # points: 18\n"
     ]
    },
    {
     "name": "stderr",
     "output_type": "stream",
     "text": [
      "INFO:drizzlepac.tweakutils:# of points after clipping: 18\n"
     ]
    },
    {
     "name": "stdout",
     "output_type": "stream",
     "text": [
      "# of points after clipping: 18\n"
     ]
    },
    {
     "name": "stderr",
     "output_type": "stream",
     "text": [
      "INFO:drizzlepac.updatehdr:\n"
     ]
    },
    {
     "name": "stdout",
     "output_type": "stream",
     "text": [
      "\n"
     ]
    },
    {
     "name": "stderr",
     "output_type": "stream",
     "text": [
      "INFO:drizzlepac.updatehdr:....Updating header for icbna6jjq_flt.fits...\n"
     ]
    },
    {
     "name": "stdout",
     "output_type": "stream",
     "text": [
      "....Updating header for icbna6jjq_flt.fits...\n"
     ]
    },
    {
     "name": "stderr",
     "output_type": "stream",
     "text": [
      "INFO:drizzlepac.updatehdr:\n"
     ]
    },
    {
     "name": "stdout",
     "output_type": "stream",
     "text": [
      "\n"
     ]
    },
    {
     "name": "stderr",
     "output_type": "stream",
     "text": [
      "WARNING:py.warnings:/Users/remy/opt/miniconda3/envs/astroconda/lib/python3.7/site-packages/drizzlepac/updatehdr.py:244: AstropyDeprecationWarning: The archiveWCS function is deprecated and may be removed in a future version.\n",
      "        Use archive_wcs instead.\n",
      "  wcsutil.altwcs.archiveWCS(fimg, extlist, reusekey=True)\n",
      "\n",
      "INFO:drizzlepac.updatehdr:\n"
     ]
    },
    {
     "name": "stdout",
     "output_type": "stream",
     "text": [
      "\n"
     ]
    },
    {
     "name": "stderr",
     "output_type": "stream",
     "text": [
      "INFO:drizzlepac.updatehdr:Processing icbna6jjq_flt.fits['SCI',1]\n"
     ]
    },
    {
     "name": "stdout",
     "output_type": "stream",
     "text": [
      "Processing icbna6jjq_flt.fits['SCI',1]\n"
     ]
    },
    {
     "name": "stderr",
     "output_type": "stream",
     "text": [
      "INFO:drizzlepac.updatehdr:\n"
     ]
    },
    {
     "name": "stdout",
     "output_type": "stream",
     "text": [
      "\n"
     ]
    },
    {
     "name": "stderr",
     "output_type": "stream",
     "text": [
      "INFO:drizzlepac.updatehdr:Updating header for icbna6jjq_flt.fits[1]\n"
     ]
    },
    {
     "name": "stdout",
     "output_type": "stream",
     "text": [
      "Updating header for icbna6jjq_flt.fits[1]\n"
     ]
    },
    {
     "name": "stderr",
     "output_type": "stream",
     "text": [
      "INFO:drizzlepac.updatehdr:    with WCS of\n",
      "INFO:stwcs.wcsutil.hstwcs:WCS Keywords\n"
     ]
    },
    {
     "name": "stdout",
     "output_type": "stream",
     "text": [
      "WCS Keywords\n"
     ]
    },
    {
     "name": "stderr",
     "output_type": "stream",
     "text": [
      "INFO:stwcs.wcsutil.hstwcs:\n"
     ]
    },
    {
     "name": "stdout",
     "output_type": "stream",
     "text": [
      "\n"
     ]
    },
    {
     "name": "stderr",
     "output_type": "stream",
     "text": [
      "INFO:stwcs.wcsutil.hstwcs:CD_11  CD_12: -2.1479106547301413e-05 -2.764309222070811e-05\n"
     ]
    },
    {
     "name": "stdout",
     "output_type": "stream",
     "text": [
      "CD_11  CD_12: -2.1479106547301413e-05 -2.764309222070811e-05\n"
     ]
    },
    {
     "name": "stderr",
     "output_type": "stream",
     "text": [
      "INFO:stwcs.wcsutil.hstwcs:CD_21  CD_22: -3.086664309073889e-05 1.9109239623268594e-05\n"
     ]
    },
    {
     "name": "stdout",
     "output_type": "stream",
     "text": [
      "CD_21  CD_22: -3.086664309073889e-05 1.9109239623268594e-05\n"
     ]
    },
    {
     "name": "stderr",
     "output_type": "stream",
     "text": [
      "INFO:stwcs.wcsutil.hstwcs:CRVAL    : 85.2619872300265 -69.8041207124355\n"
     ]
    },
    {
     "name": "stdout",
     "output_type": "stream",
     "text": [
      "CRVAL    : 85.2619872300265 -69.8041207124355\n"
     ]
    },
    {
     "name": "stderr",
     "output_type": "stream",
     "text": [
      "INFO:stwcs.wcsutil.hstwcs:CRPIX    : 507.0 507.0\n"
     ]
    },
    {
     "name": "stdout",
     "output_type": "stream",
     "text": [
      "CRPIX    : 507.0 507.0\n"
     ]
    },
    {
     "name": "stderr",
     "output_type": "stream",
     "text": [
      "INFO:stwcs.wcsutil.hstwcs:NAXIS    : 1014 1014\n"
     ]
    },
    {
     "name": "stdout",
     "output_type": "stream",
     "text": [
      "NAXIS    : 1014 1014\n"
     ]
    },
    {
     "name": "stderr",
     "output_type": "stream",
     "text": [
      "INFO:stwcs.wcsutil.hstwcs:Plate Scale : 0.13541931420679423\n"
     ]
    },
    {
     "name": "stdout",
     "output_type": "stream",
     "text": [
      "Plate Scale : 0.13541931420679423\n"
     ]
    },
    {
     "name": "stderr",
     "output_type": "stream",
     "text": [
      "INFO:stwcs.wcsutil.hstwcs:ORIENTAT : -55.344497868054006\n"
     ]
    },
    {
     "name": "stdout",
     "output_type": "stream",
     "text": [
      "ORIENTAT : -55.344497868054006\n"
     ]
    },
    {
     "name": "stderr",
     "output_type": "stream",
     "text": [
      "INFO:drizzlepac.updatehdr:WCSNAME  :  Gaia\n"
     ]
    },
    {
     "name": "stdout",
     "output_type": "stream",
     "text": [
      "WCSNAME  :  Gaia\n"
     ]
    },
    {
     "name": "stderr",
     "output_type": "stream",
     "text": [
      "WARNING:py.warnings:/Users/remy/opt/miniconda3/envs/astroconda/lib/python3.7/site-packages/drizzlepac/updatehdr.py:502: AstropyDeprecationWarning: The archiveWCS function is deprecated and may be removed in a future version.\n",
      "        Use archive_wcs instead.\n",
      "  wcskey=wkey, reusekey=reusename)\n",
      "\n",
      "INFO:drizzlepac.imgclasses:    Writing out new WCS to alternate WCS: \" \"\n",
      "INFO:drizzlepac.imgclasses:Updating WCSCORR table with new WCS solution \"Gaia\"\n",
      "INFO:drizzlepac.tweakreg:\n"
     ]
    },
    {
     "name": "stdout",
     "output_type": "stream",
     "text": [
      "\n"
     ]
    },
    {
     "name": "stderr",
     "output_type": "stream",
     "text": [
      "INFO:drizzlepac.tweakreg:====================\n"
     ]
    },
    {
     "name": "stdout",
     "output_type": "stream",
     "text": [
      "====================\n"
     ]
    },
    {
     "name": "stderr",
     "output_type": "stream",
     "text": [
      "INFO:drizzlepac.tweakreg:Performing fit for: icbna6jgq_flt.fits\n"
     ]
    },
    {
     "name": "stdout",
     "output_type": "stream",
     "text": [
      "Performing fit for: icbna6jgq_flt.fits\n"
     ]
    },
    {
     "name": "stderr",
     "output_type": "stream",
     "text": [
      "INFO:drizzlepac.tweakreg:\n"
     ]
    },
    {
     "name": "stdout",
     "output_type": "stream",
     "text": [
      "\n"
     ]
    },
    {
     "name": "stderr",
     "output_type": "stream",
     "text": [
      "INFO:drizzlepac.imgclasses:Matching sources from 'icbna6jgq_flt.fits' with sources from reference catalog 'gaia.cat'\n"
     ]
    },
    {
     "name": "stdout",
     "output_type": "stream",
     "text": [
      "Matching sources from 'icbna6jgq_flt.fits' with sources from reference catalog 'gaia.cat'\n"
     ]
    },
    {
     "name": "stderr",
     "output_type": "stream",
     "text": [
      "INFO:drizzlepac.imgclasses:Computing initial guess for X and Y shifts...\n"
     ]
    },
    {
     "name": "stdout",
     "output_type": "stream",
     "text": [
      "Computing initial guess for X and Y shifts...\n"
     ]
    },
    {
     "name": "stderr",
     "output_type": "stream",
     "text": [
      "INFO:drizzlepac.imgclasses:Found initial X and Y shifts of 0.02091, 0.1573 with significance of 13.44 and 22 matches\n"
     ]
    },
    {
     "name": "stdout",
     "output_type": "stream",
     "text": [
      "Found initial X and Y shifts of 0.02091, 0.1573 with significance of 13.44 and 22 matches\n"
     ]
    },
    {
     "name": "stderr",
     "output_type": "stream",
     "text": [
      "INFO:drizzlepac.imgclasses:Found 22 matches for icbna6jgq_flt.fits...\n"
     ]
    },
    {
     "name": "stdout",
     "output_type": "stream",
     "text": [
      "Found 22 matches for icbna6jgq_flt.fits...\n"
     ]
    },
    {
     "name": "stderr",
     "output_type": "stream",
     "text": [
      "INFO:drizzlepac.linearfit:Performing \"general\" fit\n",
      "INFO:drizzlepac.linearfit:Performing \"general\" fit\n",
      "INFO:drizzlepac.linearfit:Performing \"general\" fit\n",
      "INFO:drizzlepac.linearfit:Performing \"general\" fit\n",
      "INFO:drizzlepac.imgclasses:Computed  general  fit for  icbna6jgq_flt.fits : \n"
     ]
    },
    {
     "name": "stdout",
     "output_type": "stream",
     "text": [
      "Computed  general  fit for  icbna6jgq_flt.fits : \n"
     ]
    },
    {
     "name": "stderr",
     "output_type": "stream",
     "text": [
      "INFO:drizzlepac.imgclasses:XSH: 0.0212  YSH: 0.1518    PROPER ROT: 359.9977883    \n"
     ]
    },
    {
     "name": "stdout",
     "output_type": "stream",
     "text": [
      "XSH: 0.0212  YSH: 0.1518    PROPER ROT: 359.9977883    \n"
     ]
    },
    {
     "name": "stderr",
     "output_type": "stream",
     "text": [
      "INFO:drizzlepac.imgclasses:<ROT>: 179.9977883  SKEW: 359.9897909    ROT_X: 0.00289280696  ROT_Y: 359.9926837\n"
     ]
    },
    {
     "name": "stdout",
     "output_type": "stream",
     "text": [
      "<ROT>: 179.9977883  SKEW: 359.9897909    ROT_X: 0.00289280696  ROT_Y: 359.9926837\n"
     ]
    },
    {
     "name": "stderr",
     "output_type": "stream",
     "text": [
      "INFO:drizzlepac.imgclasses:<SCALE>: 1.000020049  SCALE_X: 1.000258504  SCALE_Y: 0.9997816658\n"
     ]
    },
    {
     "name": "stdout",
     "output_type": "stream",
     "text": [
      "<SCALE>: 1.000020049  SCALE_X: 1.000258504  SCALE_Y: 0.9997816658\n"
     ]
    },
    {
     "name": "stderr",
     "output_type": "stream",
     "text": [
      "INFO:drizzlepac.imgclasses:FIT XRMS: 0.035      FIT YRMS: 0.033  \n"
     ]
    },
    {
     "name": "stdout",
     "output_type": "stream",
     "text": [
      "FIT XRMS: 0.035      FIT YRMS: 0.033  \n"
     ]
    },
    {
     "name": "stderr",
     "output_type": "stream",
     "text": [
      "INFO:drizzlepac.imgclasses:FIT RMSE: 0.048      FIT MAE: 0.043  \n"
     ]
    },
    {
     "name": "stdout",
     "output_type": "stream",
     "text": [
      "FIT RMSE: 0.048      FIT MAE: 0.043  \n"
     ]
    },
    {
     "name": "stderr",
     "output_type": "stream",
     "text": [
      "INFO:drizzlepac.imgclasses:\n"
     ]
    },
    {
     "name": "stdout",
     "output_type": "stream",
     "text": [
      "\n"
     ]
    },
    {
     "name": "stderr",
     "output_type": "stream",
     "text": [
      "INFO:drizzlepac.imgclasses:RMS_RA: 4.8e-06 (deg)   RMS_DEC: 3.3e-07 (deg)\n"
     ]
    },
    {
     "name": "stdout",
     "output_type": "stream",
     "text": [
      "RMS_RA: 4.8e-06 (deg)   RMS_DEC: 3.3e-07 (deg)\n"
     ]
    },
    {
     "name": "stderr",
     "output_type": "stream",
     "text": [
      "INFO:drizzlepac.imgclasses:\n"
     ]
    },
    {
     "name": "stdout",
     "output_type": "stream",
     "text": [
      "\n"
     ]
    },
    {
     "name": "stderr",
     "output_type": "stream",
     "text": [
      "INFO:drizzlepac.imgclasses:Final solution based on  20  objects.\n"
     ]
    },
    {
     "name": "stdout",
     "output_type": "stream",
     "text": [
      "Final solution based on  20  objects.\n"
     ]
    },
    {
     "name": "stderr",
     "output_type": "stream",
     "text": [
      "INFO:drizzlepac.imgclasses:Creating catalog for the fit: icbna6jgq_flt_catalog_fit.match\n",
      "INFO:drizzlepac.tweakutils:wrote XY data to:  icbna6jgq_flt_catalog_fit.match\n"
     ]
    },
    {
     "name": "stdout",
     "output_type": "stream",
     "text": [
      "wrote XY data to:  icbna6jgq_flt_catalog_fit.match\n"
     ]
    },
    {
     "name": "stderr",
     "output_type": "stream",
     "text": [
      "INFO:drizzlepac.tweakutils:Total # points: 20\n"
     ]
    },
    {
     "name": "stdout",
     "output_type": "stream",
     "text": [
      "Total # points: 20\n"
     ]
    },
    {
     "name": "stderr",
     "output_type": "stream",
     "text": [
      "INFO:drizzlepac.tweakutils:# of points after clipping: 20\n"
     ]
    },
    {
     "name": "stdout",
     "output_type": "stream",
     "text": [
      "# of points after clipping: 20\n"
     ]
    },
    {
     "name": "stderr",
     "output_type": "stream",
     "text": [
      "INFO:drizzlepac.tweakutils:Total # points: 20\n"
     ]
    },
    {
     "name": "stdout",
     "output_type": "stream",
     "text": [
      "Total # points: 20\n"
     ]
    },
    {
     "name": "stderr",
     "output_type": "stream",
     "text": [
      "INFO:drizzlepac.tweakutils:# of points after clipping: 20\n"
     ]
    },
    {
     "name": "stdout",
     "output_type": "stream",
     "text": [
      "# of points after clipping: 20\n"
     ]
    },
    {
     "name": "stderr",
     "output_type": "stream",
     "text": [
      "INFO:drizzlepac.updatehdr:\n"
     ]
    },
    {
     "name": "stdout",
     "output_type": "stream",
     "text": [
      "\n"
     ]
    },
    {
     "name": "stderr",
     "output_type": "stream",
     "text": [
      "INFO:drizzlepac.updatehdr:....Updating header for icbna6jgq_flt.fits...\n"
     ]
    },
    {
     "name": "stdout",
     "output_type": "stream",
     "text": [
      "....Updating header for icbna6jgq_flt.fits...\n"
     ]
    },
    {
     "name": "stderr",
     "output_type": "stream",
     "text": [
      "INFO:drizzlepac.updatehdr:\n"
     ]
    },
    {
     "name": "stdout",
     "output_type": "stream",
     "text": [
      "\n"
     ]
    },
    {
     "name": "stderr",
     "output_type": "stream",
     "text": [
      "WARNING:py.warnings:/Users/remy/opt/miniconda3/envs/astroconda/lib/python3.7/site-packages/drizzlepac/updatehdr.py:244: AstropyDeprecationWarning: The archiveWCS function is deprecated and may be removed in a future version.\n",
      "        Use archive_wcs instead.\n",
      "  wcsutil.altwcs.archiveWCS(fimg, extlist, reusekey=True)\n",
      "\n",
      "INFO:drizzlepac.updatehdr:\n"
     ]
    },
    {
     "name": "stdout",
     "output_type": "stream",
     "text": [
      "\n"
     ]
    },
    {
     "name": "stderr",
     "output_type": "stream",
     "text": [
      "INFO:drizzlepac.updatehdr:Processing icbna6jgq_flt.fits['SCI',1]\n"
     ]
    },
    {
     "name": "stdout",
     "output_type": "stream",
     "text": [
      "Processing icbna6jgq_flt.fits['SCI',1]\n"
     ]
    },
    {
     "name": "stderr",
     "output_type": "stream",
     "text": [
      "INFO:drizzlepac.updatehdr:\n"
     ]
    },
    {
     "name": "stdout",
     "output_type": "stream",
     "text": [
      "\n"
     ]
    },
    {
     "name": "stderr",
     "output_type": "stream",
     "text": [
      "INFO:drizzlepac.updatehdr:Updating header for icbna6jgq_flt.fits[1]\n"
     ]
    },
    {
     "name": "stdout",
     "output_type": "stream",
     "text": [
      "Updating header for icbna6jgq_flt.fits[1]\n"
     ]
    },
    {
     "name": "stderr",
     "output_type": "stream",
     "text": [
      "INFO:drizzlepac.updatehdr:    with WCS of\n",
      "INFO:stwcs.wcsutil.hstwcs:WCS Keywords\n"
     ]
    },
    {
     "name": "stdout",
     "output_type": "stream",
     "text": [
      "WCS Keywords\n"
     ]
    },
    {
     "name": "stderr",
     "output_type": "stream",
     "text": [
      "INFO:stwcs.wcsutil.hstwcs:\n"
     ]
    },
    {
     "name": "stdout",
     "output_type": "stream",
     "text": [
      "\n"
     ]
    },
    {
     "name": "stderr",
     "output_type": "stream",
     "text": [
      "INFO:stwcs.wcsutil.hstwcs:CD_11  CD_12: -2.1474462528487724e-05 -2.765485044346125e-05\n"
     ]
    },
    {
     "name": "stdout",
     "output_type": "stream",
     "text": [
      "CD_11  CD_12: -2.1474462528487724e-05 -2.765485044346125e-05\n"
     ]
    },
    {
     "name": "stderr",
     "output_type": "stream",
     "text": [
      "INFO:stwcs.wcsutil.hstwcs:CD_21  CD_22: -3.087244661094223e-05 1.9093501873203984e-05\n"
     ]
    },
    {
     "name": "stdout",
     "output_type": "stream",
     "text": [
      "CD_21  CD_22: -3.087244661094223e-05 1.9093501873203984e-05\n"
     ]
    },
    {
     "name": "stderr",
     "output_type": "stream",
     "text": [
      "INFO:stwcs.wcsutil.hstwcs:CRVAL    : 85.26226065486242 -69.8042402656134\n"
     ]
    },
    {
     "name": "stdout",
     "output_type": "stream",
     "text": [
      "CRVAL    : 85.26226065486242 -69.8042402656134\n"
     ]
    },
    {
     "name": "stderr",
     "output_type": "stream",
     "text": [
      "INFO:stwcs.wcsutil.hstwcs:CRPIX    : 507.0 507.0\n"
     ]
    },
    {
     "name": "stdout",
     "output_type": "stream",
     "text": [
      "CRPIX    : 507.0 507.0\n"
     ]
    },
    {
     "name": "stderr",
     "output_type": "stream",
     "text": [
      "INFO:stwcs.wcsutil.hstwcs:NAXIS    : 1014 1014\n"
     ]
    },
    {
     "name": "stdout",
     "output_type": "stream",
     "text": [
      "NAXIS    : 1014 1014\n"
     ]
    },
    {
     "name": "stderr",
     "output_type": "stream",
     "text": [
      "INFO:stwcs.wcsutil.hstwcs:Plate Scale : 0.13541902477682174\n"
     ]
    },
    {
     "name": "stdout",
     "output_type": "stream",
     "text": [
      "Plate Scale : 0.13541902477682174\n"
     ]
    },
    {
     "name": "stderr",
     "output_type": "stream",
     "text": [
      "INFO:stwcs.wcsutil.hstwcs:ORIENTAT : -55.37796891320014\n"
     ]
    },
    {
     "name": "stdout",
     "output_type": "stream",
     "text": [
      "ORIENTAT : -55.37796891320014\n"
     ]
    },
    {
     "name": "stderr",
     "output_type": "stream",
     "text": [
      "INFO:drizzlepac.updatehdr:WCSNAME  :  Gaia\n"
     ]
    },
    {
     "name": "stdout",
     "output_type": "stream",
     "text": [
      "WCSNAME  :  Gaia\n"
     ]
    },
    {
     "name": "stderr",
     "output_type": "stream",
     "text": [
      "WARNING:py.warnings:/Users/remy/opt/miniconda3/envs/astroconda/lib/python3.7/site-packages/drizzlepac/updatehdr.py:502: AstropyDeprecationWarning: The archiveWCS function is deprecated and may be removed in a future version.\n",
      "        Use archive_wcs instead.\n",
      "  wcskey=wkey, reusekey=reusename)\n",
      "\n",
      "INFO:drizzlepac.imgclasses:    Writing out new WCS to alternate WCS: \" \"\n",
      "INFO:drizzlepac.imgclasses:Updating WCSCORR table with new WCS solution \"Gaia\"\n",
      "INFO:drizzlepac.tweakutils:Writing out shiftfile : Gaia_shifts.txt\n"
     ]
    },
    {
     "name": "stdout",
     "output_type": "stream",
     "text": [
      "Writing out shiftfile : Gaia_shifts.txt\n"
     ]
    },
    {
     "name": "stderr",
     "output_type": "stream",
     "text": [
      "INFO:drizzlepac.util:Trailer file written to:  tweakreg.log\n"
     ]
    },
    {
     "name": "stdout",
     "output_type": "stream",
     "text": [
      "Trailer file written to:  tweakreg.log\n"
     ]
    },
    {
     "data": {
      "image/png": "[encoded data removed]",
      "text/plain": [
       "<Figure size 432x288 with 1 Axes>"
      ]
     },
     "metadata": {
      "needs_background": "light"
     },
     "output_type": "display_data"
    },
    {
     "data": {
      "image/png": "[encoded data removed]",
      "text/plain": [
       "<Figure size 432x288 with 4 Axes>"
      ]
     },
     "metadata": {
      "needs_background": "light"
     },
     "output_type": "display_data"
    }
   ],
   "source": [
    "refcat = 'gaia.cat'\n",
    "if camera==\"UVO\":\n",
    "    cw = 3.5  # Set to two times the FWHM of the PSF.\n",
    "    thresh=1000.\n",
    "else:\n",
    "    cw = 2.5\n",
    "    thresh=100.\n",
    "wcsname = 'Gaia'  # Specify the WCS name for this alignment\n",
    "print(camera,cw)\n",
    "\n",
    "for im in glob.glob(\"*\"+kind+\".fits\"):\n",
    "    if not os.path.exists(im[:-5]+\".orig.fits\"):\n",
    "        shutil.copy(im,im[:-5]+\".orig.fits\")\n",
    "    \n",
    "tweakreg.TweakReg('*'+kind+'.fits',  # Pass input images\n",
    "                  updatehdr=True,  # update header with new WCS solution\n",
    "                  imagefindcfg={'threshold':thresh,'conv_width':cw},  # Detection parameters, threshold varies for different data\n",
    "                  refcat=refcat,  # Use user supplied catalog (Gaia)\n",
    "                  interactive=False,\n",
    "                  see2dplot=False,\n",
    "                  shiftfile=True,  # Save out shift file (so we can look at shifts later)\n",
    "                  outshifts='Gaia_shifts.txt',  # name of the shift file\n",
    "                  wcsname=wcsname,  # Give our WCS a new name\n",
    "                  reusename=True,\n",
    "                  sigma=2.3,\n",
    "                  ylimit=0.2,\n",
    "                  fitgeometry='general')  # Use the 6 parameter fit\n",
    "\n"
   ]
  },
  {
   "cell_type": "code",
   "execution_count": 6,
   "id": "229765ab",
   "metadata": {
    "pycharm": {
     "name": "#%%\n"
    }
   },
   "outputs": [
    {
     "name": "stdout",
     "output_type": "stream",
     "text": [
      "# frame: output\n",
      "\n",
      "# refimage: shifts_wcs.fits[wcs]\n",
      "\n",
      "# form: delta\n",
      "\n",
      "# units: pixels\n",
      "\n",
      "icbna6jqq_flt.fits    0.055653  0.146460    0.002313     0.999944   0.038760  0.028384\n",
      "\n",
      "icbna6jaq_flt.fits    0.084297  0.135939    359.992711     0.999905   0.042001  0.037525\n",
      "\n",
      "icbna6jjq_flt.fits    0.005357  0.216487    0.017204     1.000060   0.039614  0.018404\n",
      "\n",
      "icbna6jgq_flt.fits    0.021173  0.151803    359.997788     1.000020   0.034592  0.033031\n",
      "\n"
     ]
    }
   ],
   "source": [
    "for line in open('Gaia_shifts.txt').readlines():\n",
    "    print(line)"
   ]
  },
  {
   "cell_type": "code",
   "execution_count": 7,
   "id": "1bcf7ba5",
   "metadata": {
    "pycharm": {
     "name": "#%%\n"
    }
   },
   "outputs": [
    {
     "name": "stderr",
     "output_type": "stream",
     "text": [
      "INFO:drizzlepac.util:Setting up logfile :  astrodrizzle.log\n"
     ]
    },
    {
     "name": "stdout",
     "output_type": "stream",
     "text": [
      "Setting up logfile :  astrodrizzle.log\n"
     ]
    },
    {
     "name": "stderr",
     "output_type": "stream",
     "text": [
      "INFO:drizzlepac.astrodrizzle:AstroDrizzle Version 3.1.6 (2020-02-19 16:16:30 -0500) started at: 13:53:36.63 (17/06/2021)\n"
     ]
    },
    {
     "name": "stdout",
     "output_type": "stream",
     "text": [
      "AstroDrizzle Version 3.1.6 (2020-02-19 16:16:30 -0500) started at: 13:53:36.63 (17/06/2021)\n"
     ]
    },
    {
     "name": "stderr",
     "output_type": "stream",
     "text": [
      "INFO:drizzlepac.astrodrizzle:\n"
     ]
    },
    {
     "name": "stdout",
     "output_type": "stream",
     "text": [
      "\n"
     ]
    },
    {
     "name": "stderr",
     "output_type": "stream",
     "text": [
      "INFO:drizzlepac.astrodrizzle:Version Information\n",
      "INFO:drizzlepac.astrodrizzle:--------------------\n",
      "INFO:drizzlepac.astrodrizzle:Python Version [Clang 10.0.0 ]\n",
      "INFO:drizzlepac.astrodrizzle:3.7.10 (default, Feb 26 2021, 10:16:00) \n",
      "INFO:drizzlepac.astrodrizzle:numpy Version -> 1.20.2 \n",
      "INFO:drizzlepac.astrodrizzle:astropy Version -> 4.2.1 \n",
      "INFO:drizzlepac.astrodrizzle:stwcs Version -> 1.6.1 \n",
      "INFO:drizzlepac.util:==== Processing Step  Initialization  started at  13:53:36.673 (17/06/2021)\n"
     ]
    },
    {
     "name": "stdout",
     "output_type": "stream",
     "text": [
      "==== Processing Step  Initialization  started at  13:53:36.673 (17/06/2021)\n"
     ]
    },
    {
     "name": "stderr",
     "output_type": "stream",
     "text": [
      "INFO:drizzlepac.util:\n"
     ]
    },
    {
     "name": "stdout",
     "output_type": "stream",
     "text": [
      "\n"
     ]
    },
    {
     "name": "stderr",
     "output_type": "stream",
     "text": [
      "INFO:drizzlepac.processInput:Executing serially\n",
      "INFO:drizzlepac.processInput:Setting up output name: f160w_drz.fits\n",
      "INFO:drizzlepac.processInput:-Creating imageObject List as input for processing steps.\n",
      "INFO:drizzlepac.imageObject:Reading in MDRIZSKY of 0.0\n",
      "INFO:drizzlepac.imageObject:Reading in MDRIZSKY of 0.0382167868850265\n",
      "INFO:drizzlepac.imageObject:Reading in MDRIZSKY of 0.05121742099581331\n",
      "INFO:drizzlepac.imageObject:Reading in MDRIZSKY of 0.08123638928624426\n",
      "INFO:drizzlepac.imageObject:No context image will be created for icbna6jaq_flt.fits\n",
      "INFO:drizzlepac.imageObject:No context image will be created for icbna6jgq_flt.fits\n",
      "INFO:drizzlepac.imageObject:No context image will be created for icbna6jjq_flt.fits\n",
      "INFO:drizzlepac.imageObject:No context image will be created for icbna6jqq_flt.fits\n",
      "INFO:drizzlepac.resetbits:Reset bit values of 4096 to a value of 0 in icbna6jaq_flt.fits[DQ,1]\n",
      "INFO:drizzlepac.resetbits:Reset bit values of 4096 to a value of 0 in icbna6jgq_flt.fits[DQ,1]\n",
      "INFO:drizzlepac.resetbits:Reset bit values of 4096 to a value of 0 in icbna6jjq_flt.fits[DQ,1]\n",
      "INFO:drizzlepac.resetbits:Reset bit values of 4096 to a value of 0 in icbna6jqq_flt.fits[DQ,1]\n",
      "INFO:drizzlepac.processInput:-Creating output WCS.\n",
      "INFO:drizzlepac.imageObject:No context image will be created for f160w_drz.fits\n",
      "INFO:astropy.wcs.wcs:WCS Keywords\n"
     ]
    },
    {
     "name": "stdout",
     "output_type": "stream",
     "text": [
      "WCS Keywords\n"
     ]
    },
    {
     "name": "stderr",
     "output_type": "stream",
     "text": [
      "INFO:astropy.wcs.wcs:\n"
     ]
    },
    {
     "name": "stdout",
     "output_type": "stream",
     "text": [
      "\n"
     ]
    },
    {
     "name": "stderr",
     "output_type": "stream",
     "text": [
      "INFO:astropy.wcs.wcs:Number of WCS axes: 2\n"
     ]
    },
    {
     "name": "stdout",
     "output_type": "stream",
     "text": [
      "Number of WCS axes: 2\n"
     ]
    },
    {
     "name": "stderr",
     "output_type": "stream",
     "text": [
      "INFO:astropy.wcs.wcs:CTYPE : 'RA---TAN'  'DEC--TAN'  \n"
     ]
    },
    {
     "name": "stdout",
     "output_type": "stream",
     "text": [
      "CTYPE : 'RA---TAN'  'DEC--TAN'  \n"
     ]
    },
    {
     "name": "stderr",
     "output_type": "stream",
     "text": [
      "INFO:astropy.wcs.wcs:CRVAL : 85.26144911427555  -69.80411782544348  \n"
     ]
    },
    {
     "name": "stdout",
     "output_type": "stream",
     "text": [
      "CRVAL : 85.26144911427555  -69.80411782544348  \n"
     ]
    },
    {
     "name": "stderr",
     "output_type": "stream",
     "text": [
      "INFO:astropy.wcs.wcs:CRPIX : 542.5  483.5  \n"
     ]
    },
    {
     "name": "stdout",
     "output_type": "stream",
     "text": [
      "CRPIX : 542.5  483.5  \n"
     ]
    },
    {
     "name": "stderr",
     "output_type": "stream",
     "text": [
      "INFO:astropy.wcs.wcs:CD1_1 CD1_2  : -2.0428236686851746e-05  -2.9186089623147128e-05  \n"
     ]
    },
    {
     "name": "stdout",
     "output_type": "stream",
     "text": [
      "CD1_1 CD1_2  : -2.0428236686851746e-05  -2.9186089623147128e-05  \n"
     ]
    },
    {
     "name": "stderr",
     "output_type": "stream",
     "text": [
      "INFO:astropy.wcs.wcs:CD2_1 CD2_2  : -2.9186089623147128e-05  2.0428236686851746e-05  \n"
     ]
    },
    {
     "name": "stdout",
     "output_type": "stream",
     "text": [
      "CD2_1 CD2_2  : -2.9186089623147128e-05  2.0428236686851746e-05  \n"
     ]
    },
    {
     "name": "stderr",
     "output_type": "stream",
     "text": [
      "INFO:astropy.wcs.wcs:NAXIS : 1085  967\n"
     ]
    },
    {
     "name": "stdout",
     "output_type": "stream",
     "text": [
      "NAXIS : 1085  967\n"
     ]
    },
    {
     "name": "stderr",
     "output_type": "stream",
     "text": [
      "INFO:drizzlepac.processInput:********************************************************************************\n"
     ]
    },
    {
     "name": "stdout",
     "output_type": "stream",
     "text": [
      "********************************************************************************\n"
     ]
    },
    {
     "name": "stderr",
     "output_type": "stream",
     "text": [
      "INFO:drizzlepac.processInput:*\n"
     ]
    },
    {
     "name": "stdout",
     "output_type": "stream",
     "text": [
      "*\n"
     ]
    },
    {
     "name": "stderr",
     "output_type": "stream",
     "text": [
      "INFO:drizzlepac.processInput:*  Estimated memory usage:  up to 79 Mb.\n"
     ]
    },
    {
     "name": "stdout",
     "output_type": "stream",
     "text": [
      "*  Estimated memory usage:  up to 79 Mb.\n"
     ]
    },
    {
     "name": "stderr",
     "output_type": "stream",
     "text": [
      "INFO:drizzlepac.processInput:*  Output image size:       1085 X 967 pixels. \n"
     ]
    },
    {
     "name": "stdout",
     "output_type": "stream",
     "text": [
      "*  Output image size:       1085 X 967 pixels. \n"
     ]
    },
    {
     "name": "stderr",
     "output_type": "stream",
     "text": [
      "INFO:drizzlepac.processInput:*  Output image file:       ~ 12 Mb. \n"
     ]
    },
    {
     "name": "stdout",
     "output_type": "stream",
     "text": [
      "*  Output image file:       ~ 12 Mb. \n"
     ]
    },
    {
     "name": "stderr",
     "output_type": "stream",
     "text": [
      "INFO:drizzlepac.processInput:*  Cores available:         4\n"
     ]
    },
    {
     "name": "stdout",
     "output_type": "stream",
     "text": [
      "*  Cores available:         4\n"
     ]
    },
    {
     "name": "stderr",
     "output_type": "stream",
     "text": [
      "INFO:drizzlepac.processInput:*\n"
     ]
    },
    {
     "name": "stdout",
     "output_type": "stream",
     "text": [
      "*\n"
     ]
    },
    {
     "name": "stderr",
     "output_type": "stream",
     "text": [
      "INFO:drizzlepac.processInput:********************************************************************************\n"
     ]
    },
    {
     "name": "stdout",
     "output_type": "stream",
     "text": [
      "********************************************************************************\n"
     ]
    },
    {
     "name": "stderr",
     "output_type": "stream",
     "text": [
      "INFO:drizzlepac.util:==== Processing Step Initialization finished at 13:53:37.840 (17/06/2021)\n"
     ]
    },
    {
     "name": "stdout",
     "output_type": "stream",
     "text": [
      "==== Processing Step Initialization finished at 13:53:37.840 (17/06/2021)\n"
     ]
    },
    {
     "name": "stderr",
     "output_type": "stream",
     "text": [
      "INFO:drizzlepac.astrodrizzle:USER INPUT PARAMETERS common to all Processing Steps:\n",
      "INFO:drizzlepac.astrodrizzle:\tbuild :\tFalse\n",
      "INFO:drizzlepac.astrodrizzle:\tcoeffs :\tTrue\n",
      "INFO:drizzlepac.astrodrizzle:\tcontext :\tFalse\n",
      "INFO:drizzlepac.astrodrizzle:\tcrbit :\t4096\n",
      "INFO:drizzlepac.astrodrizzle:\tgroup :\t\n",
      "INFO:drizzlepac.astrodrizzle:\tin_memory :\tFalse\n",
      "INFO:drizzlepac.astrodrizzle:\tinput :\t*flt.fits\n",
      "INFO:drizzlepac.astrodrizzle:\tmdriztab :\tFalse\n",
      "INFO:drizzlepac.astrodrizzle:\tnum_cores :\tNone\n",
      "INFO:drizzlepac.astrodrizzle:\toutput :\tf160w\n",
      "INFO:drizzlepac.astrodrizzle:\tproc_unit :\tnative\n",
      "INFO:drizzlepac.astrodrizzle:\tresetbits :\t4096\n",
      "INFO:drizzlepac.astrodrizzle:\trunfile :\tastrodrizzle.log\n",
      "INFO:drizzlepac.astrodrizzle:\tstepsize :\t10\n",
      "INFO:drizzlepac.astrodrizzle:\tupdatewcs :\tFalse\n",
      "INFO:drizzlepac.astrodrizzle:\twcskey :\t\n",
      "INFO:drizzlepac.util:==== Processing Step  Static Mask  started at  13:53:37.868 (17/06/2021)\n"
     ]
    },
    {
     "name": "stdout",
     "output_type": "stream",
     "text": [
      "==== Processing Step  Static Mask  started at  13:53:37.868 (17/06/2021)\n"
     ]
    },
    {
     "name": "stderr",
     "output_type": "stream",
     "text": [
      "INFO:drizzlepac.util:\n"
     ]
    },
    {
     "name": "stdout",
     "output_type": "stream",
     "text": [
      "\n"
     ]
    },
    {
     "name": "stderr",
     "output_type": "stream",
     "text": [
      "INFO:drizzlepac.staticMask:USER INPUT PARAMETERS for Static Mask Step:\n",
      "INFO:drizzlepac.staticMask:\tstatic :\tTrue\n",
      "INFO:drizzlepac.staticMask:\tstatic_sig :\t4.0\n",
      "INFO:drizzlepac.staticMask:Computing static mask:\n",
      "\n",
      "INFO:drizzlepac.staticMask:  mode =  0.666426;   rms = 0.582460;   static_sig = 4.00\n",
      "INFO:drizzlepac.staticMask:Computing static mask:\n",
      "\n",
      "INFO:drizzlepac.staticMask:  mode =  0.705488;   rms = 0.583780;   static_sig = 4.00\n",
      "INFO:drizzlepac.staticMask:Computing static mask:\n",
      "\n",
      "INFO:drizzlepac.staticMask:  mode =  0.726251;   rms = 0.578016;   static_sig = 4.00\n",
      "INFO:drizzlepac.staticMask:Computing static mask:\n",
      "\n",
      "INFO:drizzlepac.staticMask:  mode =  0.769182;   rms = 0.605507;   static_sig = 4.00\n",
      "INFO:drizzlepac.staticMask:Saving static mask to disk: ./WFC3IR_1014x1014_1_staticMask.fits\n",
      "INFO:drizzlepac.util:==== Processing Step Static Mask finished at 13:53:38.093 (17/06/2021)\n"
     ]
    },
    {
     "name": "stdout",
     "output_type": "stream",
     "text": [
      "==== Processing Step Static Mask finished at 13:53:38.093 (17/06/2021)\n"
     ]
    },
    {
     "name": "stderr",
     "output_type": "stream",
     "text": [
      "INFO:drizzlepac.util:==== Processing Step  Subtract Sky  started at  13:53:38.098 (17/06/2021)\n"
     ]
    },
    {
     "name": "stdout",
     "output_type": "stream",
     "text": [
      "==== Processing Step  Subtract Sky  started at  13:53:38.098 (17/06/2021)\n"
     ]
    },
    {
     "name": "stderr",
     "output_type": "stream",
     "text": [
      "INFO:drizzlepac.util:\n"
     ]
    },
    {
     "name": "stdout",
     "output_type": "stream",
     "text": [
      "\n"
     ]
    },
    {
     "name": "stderr",
     "output_type": "stream",
     "text": [
      "INFO:drizzlepac.sky:USER INPUT PARAMETERS for Sky Subtraction Step:\n",
      "INFO:drizzlepac.sky:\tsky_bits :\t0\n",
      "INFO:drizzlepac.sky:\tskyclip :\t5\n",
      "INFO:drizzlepac.sky:\tskyfile :\t\n",
      "INFO:drizzlepac.sky:\tskylower :\tNone\n",
      "INFO:drizzlepac.sky:\tskylsigma :\t4.0\n",
      "INFO:drizzlepac.sky:\tskymask_cat :\t\n",
      "INFO:drizzlepac.sky:\tskymethod :\tmatch\n",
      "INFO:drizzlepac.sky:\tskystat :\tmedian\n",
      "INFO:drizzlepac.sky:\tskysub :\tTrue\n",
      "INFO:drizzlepac.sky:\tskyupper :\tNone\n",
      "INFO:drizzlepac.sky:\tskyuser :\t\n",
      "INFO:drizzlepac.sky:\tskyusigma :\t4.0\n",
      "INFO:drizzlepac.sky:\tskywidth :\t0.1\n",
      "INFO:drizzlepac.sky:\tuse_static :\tTrue\n",
      "INFO:stsci.skypac.utils:***** skymatch started on 2021-06-17 13:53:38.267374\n"
     ]
    },
    {
     "name": "stdout",
     "output_type": "stream",
     "text": [
      "***** skymatch started on 2021-06-17 13:53:38.267374\n"
     ]
    },
    {
     "name": "stderr",
     "output_type": "stream",
     "text": [
      "INFO:stsci.skypac.utils:      Version 1.0.5\n"
     ]
    },
    {
     "name": "stdout",
     "output_type": "stream",
     "text": [
      "      Version 1.0.5\n"
     ]
    },
    {
     "name": "stderr",
     "output_type": "stream",
     "text": [
      "INFO:stsci.skypac.utils:\n"
     ]
    },
    {
     "name": "stdout",
     "output_type": "stream",
     "text": [
      "\n"
     ]
    },
    {
     "name": "stderr",
     "output_type": "stream",
     "text": [
      "INFO:stsci.skypac.utils:'skymatch' task will apply computed sky differences to input image file(s).\n"
     ]
    },
    {
     "name": "stdout",
     "output_type": "stream",
     "text": [
      "'skymatch' task will apply computed sky differences to input image file(s).\n"
     ]
    },
    {
     "name": "stderr",
     "output_type": "stream",
     "text": [
      "INFO:stsci.skypac.utils:\n"
     ]
    },
    {
     "name": "stdout",
     "output_type": "stream",
     "text": [
      "\n"
     ]
    },
    {
     "name": "stderr",
     "output_type": "stream",
     "text": [
      "INFO:stsci.skypac.utils:NOTE: Computed sky values WILL NOT be subtracted from image data ('subtractsky'=False).\n"
     ]
    },
    {
     "name": "stdout",
     "output_type": "stream",
     "text": [
      "NOTE: Computed sky values WILL NOT be subtracted from image data ('subtractsky'=False).\n"
     ]
    },
    {
     "name": "stderr",
     "output_type": "stream",
     "text": [
      "INFO:stsci.skypac.utils:'MDRIZSKY' header keyword will represent sky value *computed* from data.\n"
     ]
    },
    {
     "name": "stdout",
     "output_type": "stream",
     "text": [
      "'MDRIZSKY' header keyword will represent sky value *computed* from data.\n"
     ]
    },
    {
     "name": "stderr",
     "output_type": "stream",
     "text": [
      "INFO:stsci.skypac.utils:\n"
     ]
    },
    {
     "name": "stdout",
     "output_type": "stream",
     "text": [
      "\n"
     ]
    },
    {
     "name": "stderr",
     "output_type": "stream",
     "text": [
      "INFO:stsci.skypac.utils:-----  User specified keywords:  -----\n"
     ]
    },
    {
     "name": "stdout",
     "output_type": "stream",
     "text": [
      "-----  User specified keywords:  -----\n"
     ]
    },
    {
     "name": "stderr",
     "output_type": "stream",
     "text": [
      "INFO:stsci.skypac.utils:       Sky Value Keyword:  'MDRIZSKY'\n"
     ]
    },
    {
     "name": "stdout",
     "output_type": "stream",
     "text": [
      "       Sky Value Keyword:  'MDRIZSKY'\n"
     ]
    },
    {
     "name": "stderr",
     "output_type": "stream",
     "text": [
      "INFO:stsci.skypac.utils:       Data Units Keyword: 'BUNIT'\n"
     ]
    },
    {
     "name": "stdout",
     "output_type": "stream",
     "text": [
      "       Data Units Keyword: 'BUNIT'\n"
     ]
    },
    {
     "name": "stderr",
     "output_type": "stream",
     "text": [
      "INFO:stsci.skypac.utils:\n"
     ]
    },
    {
     "name": "stdout",
     "output_type": "stream",
     "text": [
      "\n"
     ]
    },
    {
     "name": "stderr",
     "output_type": "stream",
     "text": [
      "INFO:stsci.skypac.utils:\n"
     ]
    },
    {
     "name": "stdout",
     "output_type": "stream",
     "text": [
      "\n"
     ]
    },
    {
     "name": "stderr",
     "output_type": "stream",
     "text": [
      "INFO:stsci.skypac.utils:-----  Input file list:  -----\n"
     ]
    },
    {
     "name": "stdout",
     "output_type": "stream",
     "text": [
      "-----  Input file list:  -----\n"
     ]
    },
    {
     "name": "stderr",
     "output_type": "stream",
     "text": [
      "INFO:stsci.skypac.utils:\n"
     ]
    },
    {
     "name": "stdout",
     "output_type": "stream",
     "text": [
      "\n"
     ]
    },
    {
     "name": "stderr",
     "output_type": "stream",
     "text": [
      "INFO:stsci.skypac.utils:   **  Input image: 'icbna6jaq_flt.fits'\n"
     ]
    },
    {
     "name": "stdout",
     "output_type": "stream",
     "text": [
      "   **  Input image: 'icbna6jaq_flt.fits'\n"
     ]
    },
    {
     "name": "stderr",
     "output_type": "stream",
     "text": [
      "INFO:stsci.skypac.utils:       EXT: 'SCI',1;\tMASK: icbna6jaq_skymatch_mask_sci1.fits[0]\n"
     ]
    },
    {
     "name": "stdout",
     "output_type": "stream",
     "text": [
      "       EXT: 'SCI',1;\tMASK: icbna6jaq_skymatch_mask_sci1.fits[0]\n"
     ]
    },
    {
     "name": "stderr",
     "output_type": "stream",
     "text": [
      "INFO:stsci.skypac.utils:\n"
     ]
    },
    {
     "name": "stdout",
     "output_type": "stream",
     "text": [
      "\n"
     ]
    },
    {
     "name": "stderr",
     "output_type": "stream",
     "text": [
      "INFO:stsci.skypac.utils:   **  Input image: 'icbna6jgq_flt.fits'\n"
     ]
    },
    {
     "name": "stdout",
     "output_type": "stream",
     "text": [
      "   **  Input image: 'icbna6jgq_flt.fits'\n"
     ]
    },
    {
     "name": "stderr",
     "output_type": "stream",
     "text": [
      "INFO:stsci.skypac.utils:       EXT: 'SCI',1;\tMASK: icbna6jgq_skymatch_mask_sci1.fits[0]\n"
     ]
    },
    {
     "name": "stdout",
     "output_type": "stream",
     "text": [
      "       EXT: 'SCI',1;\tMASK: icbna6jgq_skymatch_mask_sci1.fits[0]\n"
     ]
    },
    {
     "name": "stderr",
     "output_type": "stream",
     "text": [
      "INFO:stsci.skypac.utils:\n"
     ]
    },
    {
     "name": "stdout",
     "output_type": "stream",
     "text": [
      "\n"
     ]
    },
    {
     "name": "stderr",
     "output_type": "stream",
     "text": [
      "INFO:stsci.skypac.utils:   **  Input image: 'icbna6jjq_flt.fits'\n"
     ]
    },
    {
     "name": "stdout",
     "output_type": "stream",
     "text": [
      "   **  Input image: 'icbna6jjq_flt.fits'\n"
     ]
    },
    {
     "name": "stderr",
     "output_type": "stream",
     "text": [
      "INFO:stsci.skypac.utils:       EXT: 'SCI',1;\tMASK: icbna6jjq_skymatch_mask_sci1.fits[0]\n"
     ]
    },
    {
     "name": "stdout",
     "output_type": "stream",
     "text": [
      "       EXT: 'SCI',1;\tMASK: icbna6jjq_skymatch_mask_sci1.fits[0]\n"
     ]
    },
    {
     "name": "stderr",
     "output_type": "stream",
     "text": [
      "INFO:stsci.skypac.utils:\n"
     ]
    },
    {
     "name": "stdout",
     "output_type": "stream",
     "text": [
      "\n"
     ]
    },
    {
     "name": "stderr",
     "output_type": "stream",
     "text": [
      "INFO:stsci.skypac.utils:   **  Input image: 'icbna6jqq_flt.fits'\n"
     ]
    },
    {
     "name": "stdout",
     "output_type": "stream",
     "text": [
      "   **  Input image: 'icbna6jqq_flt.fits'\n"
     ]
    },
    {
     "name": "stderr",
     "output_type": "stream",
     "text": [
      "INFO:stsci.skypac.utils:       EXT: 'SCI',1;\tMASK: icbna6jqq_skymatch_mask_sci1.fits[0]\n"
     ]
    },
    {
     "name": "stdout",
     "output_type": "stream",
     "text": [
      "       EXT: 'SCI',1;\tMASK: icbna6jqq_skymatch_mask_sci1.fits[0]\n"
     ]
    },
    {
     "name": "stderr",
     "output_type": "stream",
     "text": [
      "INFO:stsci.skypac.utils:\n"
     ]
    },
    {
     "name": "stdout",
     "output_type": "stream",
     "text": [
      "\n"
     ]
    },
    {
     "name": "stderr",
     "output_type": "stream",
     "text": [
      "INFO:stsci.skypac.utils:-----  Sky statistics parameters:  -----\n"
     ]
    },
    {
     "name": "stdout",
     "output_type": "stream",
     "text": [
      "-----  Sky statistics parameters:  -----\n"
     ]
    },
    {
     "name": "stderr",
     "output_type": "stream",
     "text": [
      "INFO:stsci.skypac.utils:       statistics function: 'median'\n"
     ]
    },
    {
     "name": "stdout",
     "output_type": "stream",
     "text": [
      "       statistics function: 'median'\n"
     ]
    },
    {
     "name": "stderr",
     "output_type": "stream",
     "text": [
      "INFO:stsci.skypac.utils:       lower = None\n"
     ]
    },
    {
     "name": "stdout",
     "output_type": "stream",
     "text": [
      "       lower = None\n"
     ]
    },
    {
     "name": "stderr",
     "output_type": "stream",
     "text": [
      "INFO:stsci.skypac.utils:       upper = None\n"
     ]
    },
    {
     "name": "stdout",
     "output_type": "stream",
     "text": [
      "       upper = None\n"
     ]
    },
    {
     "name": "stderr",
     "output_type": "stream",
     "text": [
      "INFO:stsci.skypac.utils:       nclip = 5\n"
     ]
    },
    {
     "name": "stdout",
     "output_type": "stream",
     "text": [
      "       nclip = 5\n"
     ]
    },
    {
     "name": "stderr",
     "output_type": "stream",
     "text": [
      "INFO:stsci.skypac.utils:       lsigma = 4.0\n"
     ]
    },
    {
     "name": "stdout",
     "output_type": "stream",
     "text": [
      "       lsigma = 4.0\n"
     ]
    },
    {
     "name": "stderr",
     "output_type": "stream",
     "text": [
      "INFO:stsci.skypac.utils:       usigma = 4.0\n"
     ]
    },
    {
     "name": "stdout",
     "output_type": "stream",
     "text": [
      "       usigma = 4.0\n"
     ]
    },
    {
     "name": "stderr",
     "output_type": "stream",
     "text": [
      "INFO:stsci.skypac.utils:       binwidth = 0.1\n"
     ]
    },
    {
     "name": "stdout",
     "output_type": "stream",
     "text": [
      "       binwidth = 0.1\n"
     ]
    },
    {
     "name": "stderr",
     "output_type": "stream",
     "text": [
      "INFO:stsci.skypac.utils:\n"
     ]
    },
    {
     "name": "stdout",
     "output_type": "stream",
     "text": [
      "\n"
     ]
    },
    {
     "name": "stderr",
     "output_type": "stream",
     "text": [
      "INFO:stsci.skypac.utils:-----  Data->Brightness conversion parameters for input files:  -----\n"
     ]
    },
    {
     "name": "stdout",
     "output_type": "stream",
     "text": [
      "-----  Data->Brightness conversion parameters for input files:  -----\n"
     ]
    },
    {
     "name": "stderr",
     "output_type": "stream",
     "text": [
      "INFO:stsci.skypac.utils:\n"
     ]
    },
    {
     "name": "stdout",
     "output_type": "stream",
     "text": [
      "\n"
     ]
    },
    {
     "name": "stderr",
     "output_type": "stream",
     "text": [
      "INFO:stsci.skypac.utils:   *   Image: icbna6jaq_flt.fits\n"
     ]
    },
    {
     "name": "stdout",
     "output_type": "stream",
     "text": [
      "   *   Image: icbna6jaq_flt.fits\n"
     ]
    },
    {
     "name": "stderr",
     "output_type": "stream",
     "text": [
      "INFO:stsci.skypac.utils:       EXT = 'SCI',1\n"
     ]
    },
    {
     "name": "stdout",
     "output_type": "stream",
     "text": [
      "       EXT = 'SCI',1\n"
     ]
    },
    {
     "name": "stderr",
     "output_type": "stream",
     "text": [
      "INFO:stsci.skypac.utils:             Data units type: COUNT-RATE\n"
     ]
    },
    {
     "name": "stdout",
     "output_type": "stream",
     "text": [
      "             Data units type: COUNT-RATE\n"
     ]
    },
    {
     "name": "stderr",
     "output_type": "stream",
     "text": [
      "INFO:stsci.skypac.utils:             Conversion factor (data->brightness):  60.797431635711504\n"
     ]
    },
    {
     "name": "stdout",
     "output_type": "stream",
     "text": [
      "             Conversion factor (data->brightness):  60.797431635711504\n"
     ]
    },
    {
     "name": "stderr",
     "output_type": "stream",
     "text": [
      "INFO:stsci.skypac.utils:\n"
     ]
    },
    {
     "name": "stdout",
     "output_type": "stream",
     "text": [
      "\n"
     ]
    },
    {
     "name": "stderr",
     "output_type": "stream",
     "text": [
      "INFO:stsci.skypac.utils:   *   Image: icbna6jgq_flt.fits\n"
     ]
    },
    {
     "name": "stdout",
     "output_type": "stream",
     "text": [
      "   *   Image: icbna6jgq_flt.fits\n"
     ]
    },
    {
     "name": "stderr",
     "output_type": "stream",
     "text": [
      "INFO:stsci.skypac.utils:       EXT = 'SCI',1\n"
     ]
    },
    {
     "name": "stdout",
     "output_type": "stream",
     "text": [
      "       EXT = 'SCI',1\n"
     ]
    },
    {
     "name": "stderr",
     "output_type": "stream",
     "text": [
      "INFO:stsci.skypac.utils:             Data units type: COUNT-RATE\n"
     ]
    },
    {
     "name": "stdout",
     "output_type": "stream",
     "text": [
      "             Data units type: COUNT-RATE\n"
     ]
    },
    {
     "name": "stderr",
     "output_type": "stream",
     "text": [
      "INFO:stsci.skypac.utils:             Conversion factor (data->brightness):  60.797431635711504\n"
     ]
    },
    {
     "name": "stdout",
     "output_type": "stream",
     "text": [
      "             Conversion factor (data->brightness):  60.797431635711504\n"
     ]
    },
    {
     "name": "stderr",
     "output_type": "stream",
     "text": [
      "INFO:stsci.skypac.utils:\n"
     ]
    },
    {
     "name": "stdout",
     "output_type": "stream",
     "text": [
      "\n"
     ]
    },
    {
     "name": "stderr",
     "output_type": "stream",
     "text": [
      "INFO:stsci.skypac.utils:   *   Image: icbna6jjq_flt.fits\n"
     ]
    },
    {
     "name": "stdout",
     "output_type": "stream",
     "text": [
      "   *   Image: icbna6jjq_flt.fits\n"
     ]
    },
    {
     "name": "stderr",
     "output_type": "stream",
     "text": [
      "INFO:stsci.skypac.utils:       EXT = 'SCI',1\n"
     ]
    },
    {
     "name": "stdout",
     "output_type": "stream",
     "text": [
      "       EXT = 'SCI',1\n"
     ]
    },
    {
     "name": "stderr",
     "output_type": "stream",
     "text": [
      "INFO:stsci.skypac.utils:             Data units type: COUNT-RATE\n"
     ]
    },
    {
     "name": "stdout",
     "output_type": "stream",
     "text": [
      "             Data units type: COUNT-RATE\n"
     ]
    },
    {
     "name": "stderr",
     "output_type": "stream",
     "text": [
      "INFO:stsci.skypac.utils:             Conversion factor (data->brightness):  60.797431635711504\n"
     ]
    },
    {
     "name": "stdout",
     "output_type": "stream",
     "text": [
      "             Conversion factor (data->brightness):  60.797431635711504\n"
     ]
    },
    {
     "name": "stderr",
     "output_type": "stream",
     "text": [
      "INFO:stsci.skypac.utils:\n"
     ]
    },
    {
     "name": "stdout",
     "output_type": "stream",
     "text": [
      "\n"
     ]
    },
    {
     "name": "stderr",
     "output_type": "stream",
     "text": [
      "INFO:stsci.skypac.utils:   *   Image: icbna6jqq_flt.fits\n"
     ]
    },
    {
     "name": "stdout",
     "output_type": "stream",
     "text": [
      "   *   Image: icbna6jqq_flt.fits\n"
     ]
    },
    {
     "name": "stderr",
     "output_type": "stream",
     "text": [
      "INFO:stsci.skypac.utils:       EXT = 'SCI',1\n"
     ]
    },
    {
     "name": "stdout",
     "output_type": "stream",
     "text": [
      "       EXT = 'SCI',1\n"
     ]
    },
    {
     "name": "stderr",
     "output_type": "stream",
     "text": [
      "INFO:stsci.skypac.utils:             Data units type: COUNT-RATE\n"
     ]
    },
    {
     "name": "stdout",
     "output_type": "stream",
     "text": [
      "             Data units type: COUNT-RATE\n"
     ]
    },
    {
     "name": "stderr",
     "output_type": "stream",
     "text": [
      "INFO:stsci.skypac.utils:             Conversion factor (data->brightness):  60.797431635711504\n"
     ]
    },
    {
     "name": "stdout",
     "output_type": "stream",
     "text": [
      "             Conversion factor (data->brightness):  60.797431635711504\n"
     ]
    },
    {
     "name": "stderr",
     "output_type": "stream",
     "text": [
      "INFO:stsci.skypac.utils:\n"
     ]
    },
    {
     "name": "stdout",
     "output_type": "stream",
     "text": [
      "\n"
     ]
    },
    {
     "name": "stderr",
     "output_type": "stream",
     "text": [
      "INFO:stsci.skypac.utils:\n"
     ]
    },
    {
     "name": "stdout",
     "output_type": "stream",
     "text": [
      "\n"
     ]
    },
    {
     "name": "stderr",
     "output_type": "stream",
     "text": [
      "INFO:stsci.skypac.utils:-----  Computing differences in sky values in overlapping regions:  -----\n"
     ]
    },
    {
     "name": "stdout",
     "output_type": "stream",
     "text": [
      "-----  Computing differences in sky values in overlapping regions:  -----\n"
     ]
    },
    {
     "name": "stderr",
     "output_type": "stream",
     "text": [
      "INFO:stsci.skypac.utils:\n"
     ]
    },
    {
     "name": "stdout",
     "output_type": "stream",
     "text": [
      "\n"
     ]
    },
    {
     "name": "stderr",
     "output_type": "stream",
     "text": [
      "INFO:stsci.skypac.utils:   *   Image 'icbna6jaq_flt.fits['SCI',1]' SKY = 0 [brightness units]\n"
     ]
    },
    {
     "name": "stdout",
     "output_type": "stream",
     "text": [
      "   *   Image 'icbna6jaq_flt.fits['SCI',1]' SKY = 0 [brightness units]\n"
     ]
    },
    {
     "name": "stderr",
     "output_type": "stream",
     "text": [
      "INFO:stsci.skypac.utils:       Updating sky of image extension(s) [data units]:\n"
     ]
    },
    {
     "name": "stdout",
     "output_type": "stream",
     "text": [
      "       Updating sky of image extension(s) [data units]:\n"
     ]
    },
    {
     "name": "stderr",
     "output_type": "stream",
     "text": [
      "INFO:stsci.skypac.utils:       -  EXT = 'SCI',1   delta(MDRIZSKY) = 0\n"
     ]
    },
    {
     "name": "stdout",
     "output_type": "stream",
     "text": [
      "       -  EXT = 'SCI',1   delta(MDRIZSKY) = 0\n"
     ]
    },
    {
     "name": "stderr",
     "output_type": "stream",
     "text": [
      "INFO:stsci.skypac.utils:\n"
     ]
    },
    {
     "name": "stdout",
     "output_type": "stream",
     "text": [
      "\n"
     ]
    },
    {
     "name": "stderr",
     "output_type": "stream",
     "text": [
      "INFO:stsci.skypac.utils:   *   Image 'icbna6jgq_flt.fits['SCI',1]' SKY = 2.492 [brightness units]\n"
     ]
    },
    {
     "name": "stdout",
     "output_type": "stream",
     "text": [
      "   *   Image 'icbna6jgq_flt.fits['SCI',1]' SKY = 2.492 [brightness units]\n"
     ]
    },
    {
     "name": "stderr",
     "output_type": "stream",
     "text": [
      "INFO:stsci.skypac.utils:       Updating sky of image extension(s) [data units]:\n"
     ]
    },
    {
     "name": "stdout",
     "output_type": "stream",
     "text": [
      "       Updating sky of image extension(s) [data units]:\n"
     ]
    },
    {
     "name": "stderr",
     "output_type": "stream",
     "text": [
      "INFO:stsci.skypac.utils:       -  EXT = 'SCI',1   delta(MDRIZSKY) = 0.0409886\n"
     ]
    },
    {
     "name": "stdout",
     "output_type": "stream",
     "text": [
      "       -  EXT = 'SCI',1   delta(MDRIZSKY) = 0.0409886\n"
     ]
    },
    {
     "name": "stderr",
     "output_type": "stream",
     "text": [
      "INFO:stsci.skypac.utils:\n"
     ]
    },
    {
     "name": "stdout",
     "output_type": "stream",
     "text": [
      "\n"
     ]
    },
    {
     "name": "stderr",
     "output_type": "stream",
     "text": [
      "INFO:stsci.skypac.utils:   *   Image 'icbna6jjq_flt.fits['SCI',1]' SKY = 3.53865 [brightness units]\n"
     ]
    },
    {
     "name": "stdout",
     "output_type": "stream",
     "text": [
      "   *   Image 'icbna6jjq_flt.fits['SCI',1]' SKY = 3.53865 [brightness units]\n"
     ]
    },
    {
     "name": "stderr",
     "output_type": "stream",
     "text": [
      "INFO:stsci.skypac.utils:       Updating sky of image extension(s) [data units]:\n"
     ]
    },
    {
     "name": "stdout",
     "output_type": "stream",
     "text": [
      "       Updating sky of image extension(s) [data units]:\n"
     ]
    },
    {
     "name": "stderr",
     "output_type": "stream",
     "text": [
      "INFO:stsci.skypac.utils:       -  EXT = 'SCI',1   delta(MDRIZSKY) = 0.058204\n"
     ]
    },
    {
     "name": "stdout",
     "output_type": "stream",
     "text": [
      "       -  EXT = 'SCI',1   delta(MDRIZSKY) = 0.058204\n"
     ]
    },
    {
     "name": "stderr",
     "output_type": "stream",
     "text": [
      "INFO:stsci.skypac.utils:\n"
     ]
    },
    {
     "name": "stdout",
     "output_type": "stream",
     "text": [
      "\n"
     ]
    },
    {
     "name": "stderr",
     "output_type": "stream",
     "text": [
      "INFO:stsci.skypac.utils:   *   Image 'icbna6jqq_flt.fits['SCI',1]' SKY = 5.18923 [brightness units]\n"
     ]
    },
    {
     "name": "stdout",
     "output_type": "stream",
     "text": [
      "   *   Image 'icbna6jqq_flt.fits['SCI',1]' SKY = 5.18923 [brightness units]\n"
     ]
    },
    {
     "name": "stderr",
     "output_type": "stream",
     "text": [
      "INFO:stsci.skypac.utils:       Updating sky of image extension(s) [data units]:\n"
     ]
    },
    {
     "name": "stdout",
     "output_type": "stream",
     "text": [
      "       Updating sky of image extension(s) [data units]:\n"
     ]
    },
    {
     "name": "stderr",
     "output_type": "stream",
     "text": [
      "INFO:stsci.skypac.utils:       -  EXT = 'SCI',1   delta(MDRIZSKY) = 0.0853529\n"
     ]
    },
    {
     "name": "stdout",
     "output_type": "stream",
     "text": [
      "       -  EXT = 'SCI',1   delta(MDRIZSKY) = 0.0853529\n"
     ]
    },
    {
     "name": "stderr",
     "output_type": "stream",
     "text": [
      "INFO:stsci.skypac.utils:\n"
     ]
    },
    {
     "name": "stdout",
     "output_type": "stream",
     "text": [
      "\n"
     ]
    },
    {
     "name": "stderr",
     "output_type": "stream",
     "text": [
      "INFO:stsci.skypac.utils:***** skymatch ended on 2021-06-17 13:53:43.915864\n"
     ]
    },
    {
     "name": "stdout",
     "output_type": "stream",
     "text": [
      "***** skymatch ended on 2021-06-17 13:53:43.915864\n"
     ]
    },
    {
     "name": "stderr",
     "output_type": "stream",
     "text": [
      "INFO:stsci.skypac.utils:TOTAL RUN TIME: 0:00:05.648490\n"
     ]
    },
    {
     "name": "stdout",
     "output_type": "stream",
     "text": [
      "TOTAL RUN TIME: 0:00:05.648490\n"
     ]
    },
    {
     "name": "stderr",
     "output_type": "stream",
     "text": [
      "INFO:drizzlepac.util:==== Processing Step Subtract Sky finished at 13:53:44.055 (17/06/2021)\n"
     ]
    },
    {
     "name": "stdout",
     "output_type": "stream",
     "text": [
      "==== Processing Step Subtract Sky finished at 13:53:44.055 (17/06/2021)\n"
     ]
    },
    {
     "name": "stderr",
     "output_type": "stream",
     "text": [
      "INFO:drizzlepac.util:==== Processing Step  Separate Drizzle  started at  13:53:44.057 (17/06/2021)\n"
     ]
    },
    {
     "name": "stdout",
     "output_type": "stream",
     "text": [
      "==== Processing Step  Separate Drizzle  started at  13:53:44.057 (17/06/2021)\n"
     ]
    },
    {
     "name": "stderr",
     "output_type": "stream",
     "text": [
      "INFO:drizzlepac.util:\n"
     ]
    },
    {
     "name": "stdout",
     "output_type": "stream",
     "text": [
      "\n"
     ]
    },
    {
     "name": "stderr",
     "output_type": "stream",
     "text": [
      "INFO:drizzlepac.adrizzle:Interpreted paramDict with single=True as:\n",
      "{'build': False, 'stepsize': 10, 'coeffs': True, 'wcskey': '', 'kernel': 'turbo', 'wt_scl': 'exptime', 'pixfrac': 1.0, 'fillval': None, 'bits': 96, 'compress': False, 'units': 'cps'}\n",
      "INFO:drizzlepac.adrizzle:USER INPUT PARAMETERS for Separate Drizzle Step:\n",
      "INFO:drizzlepac.adrizzle:\tbits :\t96\n",
      "INFO:drizzlepac.adrizzle:\tbuild :\tFalse\n",
      "INFO:drizzlepac.adrizzle:\tclean :\tTrue\n",
      "INFO:drizzlepac.adrizzle:\tcoeffs :\tTrue\n",
      "INFO:drizzlepac.adrizzle:\tcompress :\tFalse\n",
      "INFO:drizzlepac.adrizzle:\tcrbit :\tNone\n",
      "INFO:drizzlepac.adrizzle:\tfillval :\tNone\n",
      "INFO:drizzlepac.adrizzle:\tkernel :\tturbo\n",
      "INFO:drizzlepac.adrizzle:\tnum_cores :\tNone\n",
      "INFO:drizzlepac.adrizzle:\tpixfrac :\t1.0\n",
      "INFO:drizzlepac.adrizzle:\tproc_unit :\telectrons\n",
      "INFO:drizzlepac.adrizzle:\tstepsize :\t10\n",
      "INFO:drizzlepac.adrizzle:\tunits :\tcps\n",
      "INFO:drizzlepac.adrizzle:\twcskey :\t\n",
      "INFO:drizzlepac.adrizzle:\twht_type :\tNone\n",
      "INFO:drizzlepac.adrizzle:\twt_scl :\texptime\n",
      "INFO:drizzlepac.adrizzle:  **Using sub-sampling value of 10 for kernel turbo\n",
      "INFO:drizzlepac.adrizzle:Running Drizzle to create output frame with WCS of: \n",
      "INFO:astropy.wcs.wcs:WCS Keywords\n"
     ]
    },
    {
     "name": "stdout",
     "output_type": "stream",
     "text": [
      "WCS Keywords\n"
     ]
    },
    {
     "name": "stderr",
     "output_type": "stream",
     "text": [
      "INFO:astropy.wcs.wcs:\n"
     ]
    },
    {
     "name": "stdout",
     "output_type": "stream",
     "text": [
      "\n"
     ]
    },
    {
     "name": "stderr",
     "output_type": "stream",
     "text": [
      "INFO:astropy.wcs.wcs:Number of WCS axes: 2\n"
     ]
    },
    {
     "name": "stdout",
     "output_type": "stream",
     "text": [
      "Number of WCS axes: 2\n"
     ]
    },
    {
     "name": "stderr",
     "output_type": "stream",
     "text": [
      "INFO:astropy.wcs.wcs:CTYPE : 'RA---TAN'  'DEC--TAN'  \n"
     ]
    },
    {
     "name": "stdout",
     "output_type": "stream",
     "text": [
      "CTYPE : 'RA---TAN'  'DEC--TAN'  \n"
     ]
    },
    {
     "name": "stderr",
     "output_type": "stream",
     "text": [
      "INFO:astropy.wcs.wcs:CRVAL : 85.26144911427555  -69.80411782544348  \n"
     ]
    },
    {
     "name": "stdout",
     "output_type": "stream",
     "text": [
      "CRVAL : 85.26144911427555  -69.80411782544348  \n"
     ]
    },
    {
     "name": "stderr",
     "output_type": "stream",
     "text": [
      "INFO:astropy.wcs.wcs:CRPIX : 542.5  483.5  \n"
     ]
    },
    {
     "name": "stdout",
     "output_type": "stream",
     "text": [
      "CRPIX : 542.5  483.5  \n"
     ]
    },
    {
     "name": "stderr",
     "output_type": "stream",
     "text": [
      "INFO:astropy.wcs.wcs:CD1_1 CD1_2  : -2.0428236686851746e-05  -2.9186089623147128e-05  \n"
     ]
    },
    {
     "name": "stdout",
     "output_type": "stream",
     "text": [
      "CD1_1 CD1_2  : -2.0428236686851746e-05  -2.9186089623147128e-05  \n"
     ]
    },
    {
     "name": "stderr",
     "output_type": "stream",
     "text": [
      "INFO:astropy.wcs.wcs:CD2_1 CD2_2  : -2.9186089623147128e-05  2.0428236686851746e-05  \n"
     ]
    },
    {
     "name": "stdout",
     "output_type": "stream",
     "text": [
      "CD2_1 CD2_2  : -2.9186089623147128e-05  2.0428236686851746e-05  \n"
     ]
    },
    {
     "name": "stderr",
     "output_type": "stream",
     "text": [
      "INFO:astropy.wcs.wcs:NAXIS : 1085  967\n"
     ]
    },
    {
     "name": "stdout",
     "output_type": "stream",
     "text": [
      "NAXIS : 1085  967\n"
     ]
    },
    {
     "name": "stderr",
     "output_type": "stream",
     "text": [
      "INFO:drizzlepac.adrizzle:Executing 4 parallel workers\n",
      "INFO:drizzlepac.adrizzle:-Drizzle input: icbna6jaq_flt.fits[sci,1]\n",
      "INFO:drizzlepac.adrizzle:-Drizzle input: icbna6jgq_flt.fits[sci,1]\n",
      "INFO:drizzlepac.adrizzle:-Drizzle input: icbna6jjq_flt.fits[sci,1]\n",
      "INFO:drizzlepac.adrizzle:-Drizzle input: icbna6jqq_flt.fits[sci,1]\n",
      "INFO:drizzlepac.adrizzle:Applying sky value of 0.058204 to icbna6jjq_flt.fits[sci,1]\n",
      "INFO:drizzlepac.adrizzle:Applying sky value of 0.085353 to icbna6jqq_flt.fits[sci,1]\n",
      "INFO:drizzlepac.adrizzle:Applying sky value of 0.040989 to icbna6jgq_flt.fits[sci,1]\n",
      "INFO:drizzlepac.adrizzle:Applying sky value of 0.000000 to icbna6jaq_flt.fits[sci,1]\n",
      "INFO:drizzlepac.adrizzle:Using WCSLIB-based coordinate transformation...\n",
      "INFO:drizzlepac.adrizzle:stepsize = 10\n",
      "INFO:drizzlepac.adrizzle:Using WCSLIB-based coordinate transformation...\n",
      "INFO:drizzlepac.adrizzle:Using WCSLIB-based coordinate transformation...\n",
      "INFO:drizzlepac.cdriz:-Drizzling using kernel = turbo\n",
      "\n",
      "INFO:drizzlepac.adrizzle:stepsize = 10\n",
      "INFO:drizzlepac.adrizzle:stepsize = 10\n",
      "INFO:drizzlepac.adrizzle:Using WCSLIB-based coordinate transformation...\n",
      "INFO:drizzlepac.cdriz:-Drizzling using kernel = turbo\n",
      "\n",
      "INFO:drizzlepac.cdriz:-Drizzling using kernel = turbo\n",
      "\n",
      "INFO:drizzlepac.adrizzle:stepsize = 10\n",
      "INFO:drizzlepac.cdriz:-Drizzling using kernel = turbo\n",
      "\n",
      "INFO:drizzlepac.outputimage:-Generating simple FITS output: icbna6jgq_single_sci.fits\n",
      "INFO:drizzlepac.outputimage:-Generating simple FITS output: icbna6jaq_single_sci.fits\n",
      "INFO:drizzlepac.outputimage:-Generating simple FITS output: icbna6jqq_single_sci.fits\n"
     ]
    },
    {
     "name": "stdout",
     "output_type": "stream",
     "text": [
      "-Generating simple FITS output: icbna6jaq_single_sci.fits\n",
      "-Generating simple FITS output: icbna6jgq_single_sci.fits\n"
     ]
    },
    {
     "name": "stderr",
     "output_type": "stream",
     "text": [
      "INFO:drizzlepac.outputimage:-Generating simple FITS output: icbna6jjq_single_sci.fits\n"
     ]
    },
    {
     "name": "stdout",
     "output_type": "stream",
     "text": [
      "-Generating simple FITS output: icbna6jjq_single_sci.fits\n",
      "-Generating simple FITS output: icbna6jqq_single_sci.fits\n"
     ]
    },
    {
     "name": "stderr",
     "output_type": "stream",
     "text": [
      "INFO:drizzlepac.outputimage:Writing out image to disk: icbna6jaq_single_sci.fits\n"
     ]
    },
    {
     "name": "stdout",
     "output_type": "stream",
     "text": [
      "Writing out image to disk: icbna6jaq_single_sci.fits\n"
     ]
    },
    {
     "name": "stderr",
     "output_type": "stream",
     "text": [
      "INFO:drizzlepac.outputimage:Writing out image to disk: icbna6jgq_single_sci.fits\n",
      "INFO:drizzlepac.outputimage:Writing out image to disk: icbna6jjq_single_sci.fits\n"
     ]
    },
    {
     "name": "stdout",
     "output_type": "stream",
     "text": [
      "Writing out image to disk: icbna6jgq_single_sci.fits\n",
      "Writing out image to disk: icbna6jjq_single_sci.fits\n"
     ]
    },
    {
     "name": "stderr",
     "output_type": "stream",
     "text": [
      "INFO:drizzlepac.outputimage:Writing out image to disk: icbna6jqq_single_sci.fits\n"
     ]
    },
    {
     "name": "stdout",
     "output_type": "stream",
     "text": [
      "Writing out image to disk: icbna6jqq_single_sci.fits\n"
     ]
    },
    {
     "name": "stderr",
     "output_type": "stream",
     "text": [
      "INFO:drizzlepac.outputimage:Writing out image to disk: icbna6jgq_single_wht.fits\n",
      "INFO:drizzlepac.outputimage:Writing out image to disk: icbna6jaq_single_wht.fits\n"
     ]
    },
    {
     "name": "stdout",
     "output_type": "stream",
     "text": [
      "Writing out image to disk: icbna6jgq_single_wht.fits\n",
      "Writing out image to disk: icbna6jaq_single_wht.fits\n"
     ]
    },
    {
     "name": "stderr",
     "output_type": "stream",
     "text": [
      "INFO:drizzlepac.outputimage:Writing out image to disk: icbna6jjq_single_wht.fits\n",
      "INFO:drizzlepac.outputimage:Writing out image to disk: icbna6jqq_single_wht.fits\n"
     ]
    },
    {
     "name": "stdout",
     "output_type": "stream",
     "text": [
      "Writing out image to disk: icbna6jqq_single_wht.fits\n",
      "Writing out image to disk: icbna6jjq_single_wht.fits\n"
     ]
    },
    {
     "name": "stderr",
     "output_type": "stream",
     "text": [
      "INFO:drizzlepac.util:==== Processing Step Separate Drizzle finished at 13:53:45.368 (17/06/2021)\n"
     ]
    },
    {
     "name": "stdout",
     "output_type": "stream",
     "text": [
      "==== Processing Step Separate Drizzle finished at 13:53:45.368 (17/06/2021)\n"
     ]
    },
    {
     "name": "stderr",
     "output_type": "stream",
     "text": [
      "INFO:drizzlepac.util:==== Processing Step  Create Median  started at  13:53:45.372 (17/06/2021)\n"
     ]
    },
    {
     "name": "stdout",
     "output_type": "stream",
     "text": [
      "==== Processing Step  Create Median  started at  13:53:45.372 (17/06/2021)\n"
     ]
    },
    {
     "name": "stderr",
     "output_type": "stream",
     "text": [
      "INFO:drizzlepac.util:\n"
     ]
    },
    {
     "name": "stdout",
     "output_type": "stream",
     "text": [
      "\n"
     ]
    },
    {
     "name": "stderr",
     "output_type": "stream",
     "text": [
      "INFO:drizzlepac.createMedian:USER INPUT PARAMETERS for Create Median Step:\n",
      "INFO:drizzlepac.createMedian:\tcombine_bufsize :\tNone\n",
      "INFO:drizzlepac.createMedian:\tcombine_grow :\t1\n",
      "INFO:drizzlepac.createMedian:\tcombine_hthresh :\tNone\n",
      "INFO:drizzlepac.createMedian:\tcombine_lthresh :\tNone\n",
      "INFO:drizzlepac.createMedian:\tcombine_maskpt :\t0.3\n",
      "INFO:drizzlepac.createMedian:\tcombine_nhigh :\t0\n",
      "INFO:drizzlepac.createMedian:\tcombine_nlow :\t0\n",
      "INFO:drizzlepac.createMedian:\tcombine_nsigma :\t4 3\n",
      "INFO:drizzlepac.createMedian:\tcombine_type :\tminmed\n",
      "INFO:drizzlepac.createMedian:\tcompress :\tFalse\n",
      "INFO:drizzlepac.createMedian:\tmedian :\tTrue\n",
      "INFO:drizzlepac.createMedian:\tmedian_newmasks :\tTrue\n",
      "INFO:drizzlepac.createMedian:\tproc_unit :\tnative\n",
      "INFO:drizzlepac.createMedian:reference sky value for image 'icbna6jaq_flt.fits' is 0.0\n"
     ]
    },
    {
     "name": "stdout",
     "output_type": "stream",
     "text": [
      "reference sky value for image 'icbna6jaq_flt.fits' is 0.0\n"
     ]
    },
    {
     "name": "stderr",
     "output_type": "stream",
     "text": [
      "INFO:drizzlepac.createMedian:reference sky value for image 'icbna6jgq_flt.fits' is 16.363941677089944\n"
     ]
    },
    {
     "name": "stdout",
     "output_type": "stream",
     "text": [
      "reference sky value for image 'icbna6jgq_flt.fits' is 16.363941677089944\n"
     ]
    },
    {
     "name": "stderr",
     "output_type": "stream",
     "text": [
      "INFO:drizzlepac.createMedian:reference sky value for image 'icbna6jjq_flt.fits' is 23.236865056905717\n"
     ]
    },
    {
     "name": "stdout",
     "output_type": "stream",
     "text": [
      "reference sky value for image 'icbna6jjq_flt.fits' is 23.236865056905717\n"
     ]
    },
    {
     "name": "stderr",
     "output_type": "stream",
     "text": [
      "INFO:drizzlepac.createMedian:reference sky value for image 'icbna6jqq_flt.fits' is 25.5402423962792\n"
     ]
    },
    {
     "name": "stdout",
     "output_type": "stream",
     "text": [
      "reference sky value for image 'icbna6jqq_flt.fits' is 25.5402423962792\n"
     ]
    },
    {
     "name": "stderr",
     "output_type": "stream",
     "text": [
      "INFO:drizzlepac.createMedian:Saving output median image to: 'f160w_med.fits'\n"
     ]
    },
    {
     "name": "stdout",
     "output_type": "stream",
     "text": [
      "Saving output median image to: 'f160w_med.fits'\n"
     ]
    },
    {
     "name": "stderr",
     "output_type": "stream",
     "text": [
      "INFO:drizzlepac.util:==== Processing Step Create Median finished at 13:53:46.179 (17/06/2021)\n"
     ]
    },
    {
     "name": "stdout",
     "output_type": "stream",
     "text": [
      "==== Processing Step Create Median finished at 13:53:46.179 (17/06/2021)\n"
     ]
    },
    {
     "name": "stderr",
     "output_type": "stream",
     "text": [
      "INFO:drizzlepac.util:==== Processing Step  Blot  started at  13:53:46.181 (17/06/2021)\n"
     ]
    },
    {
     "name": "stdout",
     "output_type": "stream",
     "text": [
      "==== Processing Step  Blot  started at  13:53:46.181 (17/06/2021)\n"
     ]
    },
    {
     "name": "stderr",
     "output_type": "stream",
     "text": [
      "INFO:drizzlepac.util:\n"
     ]
    },
    {
     "name": "stdout",
     "output_type": "stream",
     "text": [
      "\n"
     ]
    },
    {
     "name": "stderr",
     "output_type": "stream",
     "text": [
      "INFO:drizzlepac.ablot:USER INPUT PARAMETERS for Blot Step:\n",
      "INFO:drizzlepac.ablot:\tblot_addsky :\tTrue\n",
      "INFO:drizzlepac.ablot:\tblot_interp :\tpoly5\n",
      "INFO:drizzlepac.ablot:\tblot_sinscl :\t1.0\n",
      "INFO:drizzlepac.ablot:\tblot_skyval :\t0.0\n",
      "INFO:drizzlepac.ablot:\tcoeffs :\tTrue\n",
      "INFO:drizzlepac.ablot:    Blot: creating blotted image:  icbna6jaq_flt.fits[sci,1]\n"
     ]
    },
    {
     "name": "stdout",
     "output_type": "stream",
     "text": [
      "    Blot: creating blotted image:  icbna6jaq_flt.fits[sci,1]\n"
     ]
    },
    {
     "name": "stderr",
     "output_type": "stream",
     "text": [
      "INFO:drizzlepac.ablot:Using default C-based coordinate transformation...\n"
     ]
    },
    {
     "name": "stdout",
     "output_type": "stream",
     "text": [
      "Using default C-based coordinate transformation...\n"
     ]
    },
    {
     "name": "stderr",
     "output_type": "stream",
     "text": [
      "INFO:drizzlepac.ablot:Applying sky value of 0.000000 to blotted image icbna6jaq_flt.fits[sci,1]\n",
      "INFO:drizzlepac.outputimage:-Generating simple FITS output: icbna6jaq_sci1_blt.fits\n"
     ]
    },
    {
     "name": "stdout",
     "output_type": "stream",
     "text": [
      "-Generating simple FITS output: icbna6jaq_sci1_blt.fits\n"
     ]
    },
    {
     "name": "stderr",
     "output_type": "stream",
     "text": [
      "INFO:drizzlepac.outputimage:Writing out image to disk: icbna6jaq_sci1_blt.fits\n"
     ]
    },
    {
     "name": "stdout",
     "output_type": "stream",
     "text": [
      "Writing out image to disk: icbna6jaq_sci1_blt.fits\n"
     ]
    },
    {
     "name": "stderr",
     "output_type": "stream",
     "text": [
      "INFO:drizzlepac.ablot:    Blot: creating blotted image:  icbna6jgq_flt.fits[sci,1]\n"
     ]
    },
    {
     "name": "stdout",
     "output_type": "stream",
     "text": [
      "    Blot: creating blotted image:  icbna6jgq_flt.fits[sci,1]\n"
     ]
    },
    {
     "name": "stderr",
     "output_type": "stream",
     "text": [
      "INFO:drizzlepac.ablot:Using default C-based coordinate transformation...\n"
     ]
    },
    {
     "name": "stdout",
     "output_type": "stream",
     "text": [
      "Using default C-based coordinate transformation...\n"
     ]
    },
    {
     "name": "stderr",
     "output_type": "stream",
     "text": [
      "INFO:drizzlepac.ablot:Applying sky value of 0.040989 to blotted image icbna6jgq_flt.fits[sci,1]\n",
      "INFO:drizzlepac.outputimage:-Generating simple FITS output: icbna6jgq_sci1_blt.fits\n"
     ]
    },
    {
     "name": "stdout",
     "output_type": "stream",
     "text": [
      "-Generating simple FITS output: icbna6jgq_sci1_blt.fits\n"
     ]
    },
    {
     "name": "stderr",
     "output_type": "stream",
     "text": [
      "INFO:drizzlepac.outputimage:Writing out image to disk: icbna6jgq_sci1_blt.fits\n"
     ]
    },
    {
     "name": "stdout",
     "output_type": "stream",
     "text": [
      "Writing out image to disk: icbna6jgq_sci1_blt.fits\n"
     ]
    },
    {
     "name": "stderr",
     "output_type": "stream",
     "text": [
      "INFO:drizzlepac.ablot:    Blot: creating blotted image:  icbna6jjq_flt.fits[sci,1]\n"
     ]
    },
    {
     "name": "stdout",
     "output_type": "stream",
     "text": [
      "    Blot: creating blotted image:  icbna6jjq_flt.fits[sci,1]\n"
     ]
    },
    {
     "name": "stderr",
     "output_type": "stream",
     "text": [
      "INFO:drizzlepac.ablot:Using default C-based coordinate transformation...\n"
     ]
    },
    {
     "name": "stdout",
     "output_type": "stream",
     "text": [
      "Using default C-based coordinate transformation...\n"
     ]
    },
    {
     "name": "stderr",
     "output_type": "stream",
     "text": [
      "INFO:drizzlepac.ablot:Applying sky value of 0.058204 to blotted image icbna6jjq_flt.fits[sci,1]\n",
      "INFO:drizzlepac.outputimage:-Generating simple FITS output: icbna6jjq_sci1_blt.fits\n"
     ]
    },
    {
     "name": "stdout",
     "output_type": "stream",
     "text": [
      "-Generating simple FITS output: icbna6jjq_sci1_blt.fits\n"
     ]
    },
    {
     "name": "stderr",
     "output_type": "stream",
     "text": [
      "INFO:drizzlepac.outputimage:Writing out image to disk: icbna6jjq_sci1_blt.fits\n"
     ]
    },
    {
     "name": "stdout",
     "output_type": "stream",
     "text": [
      "Writing out image to disk: icbna6jjq_sci1_blt.fits\n"
     ]
    },
    {
     "name": "stderr",
     "output_type": "stream",
     "text": [
      "INFO:drizzlepac.ablot:    Blot: creating blotted image:  icbna6jqq_flt.fits[sci,1]\n"
     ]
    },
    {
     "name": "stdout",
     "output_type": "stream",
     "text": [
      "    Blot: creating blotted image:  icbna6jqq_flt.fits[sci,1]\n"
     ]
    },
    {
     "name": "stderr",
     "output_type": "stream",
     "text": [
      "INFO:drizzlepac.ablot:Using default C-based coordinate transformation...\n"
     ]
    },
    {
     "name": "stdout",
     "output_type": "stream",
     "text": [
      "Using default C-based coordinate transformation...\n"
     ]
    },
    {
     "name": "stderr",
     "output_type": "stream",
     "text": [
      "INFO:drizzlepac.ablot:Applying sky value of 0.085353 to blotted image icbna6jqq_flt.fits[sci,1]\n",
      "INFO:drizzlepac.outputimage:-Generating simple FITS output: icbna6jqq_sci1_blt.fits\n"
     ]
    },
    {
     "name": "stdout",
     "output_type": "stream",
     "text": [
      "-Generating simple FITS output: icbna6jqq_sci1_blt.fits\n"
     ]
    },
    {
     "name": "stderr",
     "output_type": "stream",
     "text": [
      "INFO:drizzlepac.outputimage:Writing out image to disk: icbna6jqq_sci1_blt.fits\n"
     ]
    },
    {
     "name": "stdout",
     "output_type": "stream",
     "text": [
      "Writing out image to disk: icbna6jqq_sci1_blt.fits\n"
     ]
    },
    {
     "name": "stderr",
     "output_type": "stream",
     "text": [
      "INFO:drizzlepac.util:==== Processing Step Blot finished at 13:53:48.216 (17/06/2021)\n"
     ]
    },
    {
     "name": "stdout",
     "output_type": "stream",
     "text": [
      "==== Processing Step Blot finished at 13:53:48.216 (17/06/2021)\n"
     ]
    },
    {
     "name": "stderr",
     "output_type": "stream",
     "text": [
      "INFO:drizzlepac.util:==== Processing Step  Driz_CR  started at  13:53:48.218 (17/06/2021)\n"
     ]
    },
    {
     "name": "stdout",
     "output_type": "stream",
     "text": [
      "==== Processing Step  Driz_CR  started at  13:53:48.218 (17/06/2021)\n"
     ]
    },
    {
     "name": "stderr",
     "output_type": "stream",
     "text": [
      "INFO:drizzlepac.util:\n"
     ]
    },
    {
     "name": "stdout",
     "output_type": "stream",
     "text": [
      "\n"
     ]
    },
    {
     "name": "stderr",
     "output_type": "stream",
     "text": [
      "INFO:drizzlepac.drizCR:USER INPUT PARAMETERS for Driz_CR Step:\n",
      "INFO:drizzlepac.drizCR:\tcrbit :\t4096\n",
      "INFO:drizzlepac.drizCR:\tdriz_cr :\tTrue\n",
      "INFO:drizzlepac.drizCR:\tdriz_cr_corr :\tFalse\n",
      "INFO:drizzlepac.drizCR:\tdriz_cr_ctegrow :\t0\n",
      "INFO:drizzlepac.drizCR:\tdriz_cr_grow :\t1\n",
      "INFO:drizzlepac.drizCR:\tdriz_cr_scale :\t1.2 0.7\n",
      "INFO:drizzlepac.drizCR:\tdriz_cr_snr :\t3.5 3.0\n",
      "INFO:drizzlepac.drizCR:\tinmemory :\tFalse\n",
      "INFO:drizzlepac.drizCR:Executing 4 parallel workers\n",
      "INFO:drizzlepac.drizCR:Creating output: icbna6jgq_sci1_crmask.fits\n"
     ]
    },
    {
     "name": "stdout",
     "output_type": "stream",
     "text": [
      "Creating output: icbna6jgq_sci1_crmask.fits\n"
     ]
    },
    {
     "name": "stderr",
     "output_type": "stream",
     "text": [
      "INFO:drizzlepac.drizCR:Creating output: icbna6jjq_sci1_crmask.fits\n"
     ]
    },
    {
     "name": "stdout",
     "output_type": "stream",
     "text": [
      "Creating output: icbna6jjq_sci1_crmask.fits\n"
     ]
    },
    {
     "name": "stderr",
     "output_type": "stream",
     "text": [
      "INFO:drizzlepac.drizCR:Creating output: icbna6jaq_sci1_crmask.fits\n"
     ]
    },
    {
     "name": "stdout",
     "output_type": "stream",
     "text": [
      "Creating output: icbna6jaq_sci1_crmask.fits\n"
     ]
    },
    {
     "name": "stderr",
     "output_type": "stream",
     "text": [
      "INFO:drizzlepac.drizCR:Creating output: icbna6jqq_sci1_crmask.fits\n"
     ]
    },
    {
     "name": "stdout",
     "output_type": "stream",
     "text": [
      "Creating output: icbna6jqq_sci1_crmask.fits\n"
     ]
    },
    {
     "name": "stderr",
     "output_type": "stream",
     "text": [
      "INFO:drizzlepac.util:==== Processing Step Driz_CR finished at 13:53:49.46 (17/06/2021)\n"
     ]
    },
    {
     "name": "stdout",
     "output_type": "stream",
     "text": [
      "==== Processing Step Driz_CR finished at 13:53:49.46 (17/06/2021)\n"
     ]
    },
    {
     "name": "stderr",
     "output_type": "stream",
     "text": [
      "INFO:drizzlepac.util:==== Processing Step  Final Drizzle  started at  13:53:49.485 (17/06/2021)\n"
     ]
    },
    {
     "name": "stdout",
     "output_type": "stream",
     "text": [
      "==== Processing Step  Final Drizzle  started at  13:53:49.485 (17/06/2021)\n"
     ]
    },
    {
     "name": "stderr",
     "output_type": "stream",
     "text": [
      "INFO:drizzlepac.util:\n"
     ]
    },
    {
     "name": "stdout",
     "output_type": "stream",
     "text": [
      "\n"
     ]
    },
    {
     "name": "stderr",
     "output_type": "stream",
     "text": [
      "INFO:drizzlepac.adrizzle:Interpreted paramDict with single=False as:\n",
      "{'build': False, 'stepsize': 10, 'coeffs': True, 'wcskey': '', 'wht_type': 'EXP', 'kernel': 'square', 'wt_scl': 'exptime', 'pixfrac': 1.0, 'fillval': None, 'maskval': None, 'bits': 96, 'units': 'cps'}\n",
      "INFO:drizzlepac.adrizzle:USER INPUT PARAMETERS for Final Drizzle Step:\n",
      "INFO:drizzlepac.adrizzle:\tbits :\t96\n",
      "INFO:drizzlepac.adrizzle:\tbuild :\tFalse\n",
      "INFO:drizzlepac.adrizzle:\tclean :\tTrue\n",
      "INFO:drizzlepac.adrizzle:\tcoeffs :\tTrue\n",
      "INFO:drizzlepac.adrizzle:\tcrbit :\t4096\n",
      "INFO:drizzlepac.adrizzle:\tfillval :\tNone\n",
      "INFO:drizzlepac.adrizzle:\tkernel :\tsquare\n",
      "INFO:drizzlepac.adrizzle:\tmaskval :\tNone\n",
      "INFO:drizzlepac.adrizzle:\tpixfrac :\t1.0\n",
      "INFO:drizzlepac.adrizzle:\tproc_unit :\tnative\n",
      "INFO:drizzlepac.adrizzle:\tstepsize :\t10\n",
      "INFO:drizzlepac.adrizzle:\tunits :\tcps\n",
      "INFO:drizzlepac.adrizzle:\twcskey :\t\n",
      "INFO:drizzlepac.adrizzle:\twht_type :\tEXP\n",
      "INFO:drizzlepac.adrizzle:\twt_scl :\texptime\n",
      "INFO:drizzlepac.adrizzle:  **Using sub-sampling value of 10 for kernel square\n",
      "INFO:drizzlepac.adrizzle:Running Drizzle to create output frame with WCS of: \n",
      "INFO:astropy.wcs.wcs:WCS Keywords\n"
     ]
    },
    {
     "name": "stdout",
     "output_type": "stream",
     "text": [
      "WCS Keywords\n"
     ]
    },
    {
     "name": "stderr",
     "output_type": "stream",
     "text": [
      "INFO:astropy.wcs.wcs:\n"
     ]
    },
    {
     "name": "stdout",
     "output_type": "stream",
     "text": [
      "\n"
     ]
    },
    {
     "name": "stderr",
     "output_type": "stream",
     "text": [
      "INFO:astropy.wcs.wcs:Number of WCS axes: 2\n"
     ]
    },
    {
     "name": "stdout",
     "output_type": "stream",
     "text": [
      "Number of WCS axes: 2\n"
     ]
    },
    {
     "name": "stderr",
     "output_type": "stream",
     "text": [
      "INFO:astropy.wcs.wcs:CTYPE : 'RA---TAN'  'DEC--TAN'  \n"
     ]
    },
    {
     "name": "stdout",
     "output_type": "stream",
     "text": [
      "CTYPE : 'RA---TAN'  'DEC--TAN'  \n"
     ]
    },
    {
     "name": "stderr",
     "output_type": "stream",
     "text": [
      "INFO:astropy.wcs.wcs:CRVAL : 85.26144911427555  -69.80411782544348  \n"
     ]
    },
    {
     "name": "stdout",
     "output_type": "stream",
     "text": [
      "CRVAL : 85.26144911427555  -69.80411782544348  \n"
     ]
    },
    {
     "name": "stderr",
     "output_type": "stream",
     "text": [
      "INFO:astropy.wcs.wcs:CRPIX : 542.5  483.5  \n"
     ]
    },
    {
     "name": "stdout",
     "output_type": "stream",
     "text": [
      "CRPIX : 542.5  483.5  \n"
     ]
    },
    {
     "name": "stderr",
     "output_type": "stream",
     "text": [
      "INFO:astropy.wcs.wcs:CD1_1 CD1_2  : -2.0428236686851746e-05  -2.9186089623147128e-05  \n"
     ]
    },
    {
     "name": "stdout",
     "output_type": "stream",
     "text": [
      "CD1_1 CD1_2  : -2.0428236686851746e-05  -2.9186089623147128e-05  \n"
     ]
    },
    {
     "name": "stderr",
     "output_type": "stream",
     "text": [
      "INFO:astropy.wcs.wcs:CD2_1 CD2_2  : -2.9186089623147128e-05  2.0428236686851746e-05  \n"
     ]
    },
    {
     "name": "stdout",
     "output_type": "stream",
     "text": [
      "CD2_1 CD2_2  : -2.9186089623147128e-05  2.0428236686851746e-05  \n"
     ]
    },
    {
     "name": "stderr",
     "output_type": "stream",
     "text": [
      "INFO:astropy.wcs.wcs:NAXIS : 1085  967\n"
     ]
    },
    {
     "name": "stdout",
     "output_type": "stream",
     "text": [
      "NAXIS : 1085  967\n"
     ]
    },
    {
     "name": "stderr",
     "output_type": "stream",
     "text": [
      "INFO:drizzlepac.adrizzle:-Drizzle input: icbna6jaq_flt.fits[sci,1]\n",
      "INFO:drizzlepac.adrizzle:Applying sky value of 0.000000 to icbna6jaq_flt.fits[sci,1]\n",
      "INFO:drizzlepac.imageObject:Applying EXPTIME weighting to DQ mask for chip 1\n",
      "INFO:drizzlepac.adrizzle:Using WCSLIB-based coordinate transformation...\n",
      "INFO:drizzlepac.adrizzle:stepsize = 10\n",
      "INFO:drizzlepac.cdriz:-Drizzling using kernel = square\n",
      "\n",
      "INFO:drizzlepac.adrizzle:-Drizzle input: icbna6jgq_flt.fits[sci,1]\n",
      "INFO:drizzlepac.adrizzle:Applying sky value of 0.040989 to icbna6jgq_flt.fits[sci,1]\n",
      "INFO:drizzlepac.imageObject:Applying EXPTIME weighting to DQ mask for chip 1\n",
      "INFO:drizzlepac.adrizzle:Using WCSLIB-based coordinate transformation...\n",
      "INFO:drizzlepac.adrizzle:stepsize = 10\n",
      "INFO:drizzlepac.cdriz:-Drizzling using kernel = square\n",
      "\n",
      "INFO:drizzlepac.adrizzle:-Drizzle input: icbna6jjq_flt.fits[sci,1]\n",
      "INFO:drizzlepac.adrizzle:Applying sky value of 0.058204 to icbna6jjq_flt.fits[sci,1]\n",
      "INFO:drizzlepac.imageObject:Applying EXPTIME weighting to DQ mask for chip 1\n",
      "INFO:drizzlepac.adrizzle:Using WCSLIB-based coordinate transformation...\n",
      "INFO:drizzlepac.adrizzle:stepsize = 10\n",
      "INFO:drizzlepac.cdriz:-Drizzling using kernel = square\n",
      "\n",
      "INFO:drizzlepac.adrizzle:-Drizzle input: icbna6jqq_flt.fits[sci,1]\n",
      "INFO:drizzlepac.adrizzle:Applying sky value of 0.085353 to icbna6jqq_flt.fits[sci,1]\n",
      "INFO:drizzlepac.imageObject:Applying EXPTIME weighting to DQ mask for chip 1\n",
      "INFO:drizzlepac.adrizzle:Using WCSLIB-based coordinate transformation...\n",
      "INFO:drizzlepac.adrizzle:stepsize = 10\n",
      "INFO:drizzlepac.cdriz:-Drizzling using kernel = square\n",
      "\n",
      "INFO:drizzlepac.outputimage:-Generating simple FITS output: f160w_drz_sci.fits\n"
     ]
    },
    {
     "name": "stdout",
     "output_type": "stream",
     "text": [
      "-Generating simple FITS output: f160w_drz_sci.fits\n"
     ]
    },
    {
     "name": "stderr",
     "output_type": "stream",
     "text": [
      "INFO:drizzlepac.outputimage:Writing out image to disk: f160w_drz_sci.fits\n"
     ]
    },
    {
     "name": "stdout",
     "output_type": "stream",
     "text": [
      "Writing out image to disk: f160w_drz_sci.fits\n"
     ]
    },
    {
     "name": "stderr",
     "output_type": "stream",
     "text": [
      "INFO:drizzlepac.outputimage:Writing out image to disk: f160w_drz_wht.fits\n"
     ]
    },
    {
     "name": "stdout",
     "output_type": "stream",
     "text": [
      "Writing out image to disk: f160w_drz_wht.fits\n"
     ]
    },
    {
     "name": "stderr",
     "output_type": "stream",
     "text": [
      "INFO:drizzlepac.util:==== Processing Step Final Drizzle finished at 13:53:52.716 (17/06/2021)\n"
     ]
    },
    {
     "name": "stdout",
     "output_type": "stream",
     "text": [
      "==== Processing Step Final Drizzle finished at 13:53:52.716 (17/06/2021)\n"
     ]
    },
    {
     "name": "stderr",
     "output_type": "stream",
     "text": [
      "INFO:drizzlepac.astrodrizzle:\n"
     ]
    },
    {
     "name": "stdout",
     "output_type": "stream",
     "text": [
      "\n"
     ]
    },
    {
     "name": "stderr",
     "output_type": "stream",
     "text": [
      "INFO:drizzlepac.astrodrizzle:AstroDrizzle Version 3.1.6 is finished processing at 13:53:52.724 (17/06/2021).\n"
     ]
    },
    {
     "name": "stdout",
     "output_type": "stream",
     "text": [
      "AstroDrizzle Version 3.1.6 is finished processing at 13:53:52.724 (17/06/2021).\n"
     ]
    },
    {
     "name": "stderr",
     "output_type": "stream",
     "text": [
      "INFO:drizzlepac.astrodrizzle:\n"
     ]
    },
    {
     "name": "stdout",
     "output_type": "stream",
     "text": [
      "\n"
     ]
    },
    {
     "name": "stderr",
     "output_type": "stream",
     "text": [
      "INFO:drizzlepac.astrodrizzle:\n"
     ]
    },
    {
     "name": "stdout",
     "output_type": "stream",
     "text": [
      "\n"
     ]
    },
    {
     "name": "stderr",
     "output_type": "stream",
     "text": [
      "INFO:drizzlepac.util:\n"
     ]
    },
    {
     "name": "stdout",
     "output_type": "stream",
     "text": [
      "\n"
     ]
    },
    {
     "name": "stderr",
     "output_type": "stream",
     "text": [
      "INFO:drizzlepac.util:   --------------------          --------------------\n"
     ]
    },
    {
     "name": "stdout",
     "output_type": "stream",
     "text": [
      "   --------------------          --------------------\n"
     ]
    },
    {
     "name": "stderr",
     "output_type": "stream",
     "text": [
      "INFO:drizzlepac.util:                   Step          Elapsed time\n"
     ]
    },
    {
     "name": "stdout",
     "output_type": "stream",
     "text": [
      "                   Step          Elapsed time\n"
     ]
    },
    {
     "name": "stderr",
     "output_type": "stream",
     "text": [
      "INFO:drizzlepac.util:   --------------------          --------------------\n"
     ]
    },
    {
     "name": "stdout",
     "output_type": "stream",
     "text": [
      "   --------------------          --------------------\n"
     ]
    },
    {
     "name": "stderr",
     "output_type": "stream",
     "text": [
      "INFO:drizzlepac.util:\n"
     ]
    },
    {
     "name": "stdout",
     "output_type": "stream",
     "text": [
      "\n"
     ]
    },
    {
     "name": "stderr",
     "output_type": "stream",
     "text": [
      "INFO:drizzlepac.util:         Initialization          1.1664 sec.\n"
     ]
    },
    {
     "name": "stdout",
     "output_type": "stream",
     "text": [
      "         Initialization          1.1664 sec.\n"
     ]
    },
    {
     "name": "stderr",
     "output_type": "stream",
     "text": [
      "INFO:drizzlepac.util:            Static Mask          0.2250 sec.\n"
     ]
    },
    {
     "name": "stdout",
     "output_type": "stream",
     "text": [
      "            Static Mask          0.2250 sec.\n"
     ]
    },
    {
     "name": "stderr",
     "output_type": "stream",
     "text": [
      "INFO:drizzlepac.util:           Subtract Sky          5.9567 sec.\n"
     ]
    },
    {
     "name": "stdout",
     "output_type": "stream",
     "text": [
      "           Subtract Sky          5.9567 sec.\n"
     ]
    },
    {
     "name": "stderr",
     "output_type": "stream",
     "text": [
      "INFO:drizzlepac.util:       Separate Drizzle          1.3109 sec.\n"
     ]
    },
    {
     "name": "stdout",
     "output_type": "stream",
     "text": [
      "       Separate Drizzle          1.3109 sec.\n"
     ]
    },
    {
     "name": "stderr",
     "output_type": "stream",
     "text": [
      "INFO:drizzlepac.util:          Create Median          0.8072 sec.\n"
     ]
    },
    {
     "name": "stdout",
     "output_type": "stream",
     "text": [
      "          Create Median          0.8072 sec.\n"
     ]
    },
    {
     "name": "stderr",
     "output_type": "stream",
     "text": [
      "INFO:drizzlepac.util:                   Blot          2.0353 sec.\n"
     ]
    },
    {
     "name": "stdout",
     "output_type": "stream",
     "text": [
      "                   Blot          2.0353 sec.\n"
     ]
    },
    {
     "name": "stderr",
     "output_type": "stream",
     "text": [
      "INFO:drizzlepac.util:                Driz_CR          1.2485 sec.\n"
     ]
    },
    {
     "name": "stdout",
     "output_type": "stream",
     "text": [
      "                Driz_CR          1.2485 sec.\n"
     ]
    },
    {
     "name": "stderr",
     "output_type": "stream",
     "text": [
      "INFO:drizzlepac.util:          Final Drizzle          3.2311 sec.\n"
     ]
    },
    {
     "name": "stdout",
     "output_type": "stream",
     "text": [
      "          Final Drizzle          3.2311 sec.\n"
     ]
    },
    {
     "name": "stderr",
     "output_type": "stream",
     "text": [
      "INFO:drizzlepac.util:   ====================          ====================\n"
     ]
    },
    {
     "name": "stdout",
     "output_type": "stream",
     "text": [
      "   ====================          ====================\n"
     ]
    },
    {
     "name": "stderr",
     "output_type": "stream",
     "text": [
      "INFO:drizzlepac.util:                  Total          15.9812 sec.\n"
     ]
    },
    {
     "name": "stdout",
     "output_type": "stream",
     "text": [
      "                  Total          15.9812 sec.\n"
     ]
    },
    {
     "name": "stderr",
     "output_type": "stream",
     "text": [
      "INFO:drizzlepac.util:\n"
     ]
    },
    {
     "name": "stdout",
     "output_type": "stream",
     "text": [
      "\n"
     ]
    },
    {
     "name": "stderr",
     "output_type": "stream",
     "text": [
      "INFO:drizzlepac.imageObject:Removing intermediate files for icbna6jaq_flt.fits\n",
      "INFO:drizzlepac.imageObject:Removing intermediate files for icbna6jgq_flt.fits\n",
      "INFO:drizzlepac.imageObject:Removing intermediate files for icbna6jjq_flt.fits\n",
      "INFO:drizzlepac.imageObject:Removing intermediate files for icbna6jqq_flt.fits\n",
      "INFO:drizzlepac.util:Trailer file written to:  astrodrizzle.log\n"
     ]
    },
    {
     "name": "stdout",
     "output_type": "stream",
     "text": [
      "Trailer file written to:  astrodrizzle.log\n"
     ]
    }
   ],
   "source": [
    "# we have 4 exposures of ~same etime, so mosaic them all\n",
    "astrodrizzle.AstroDrizzle('*'+kind+'.fits', \n",
    "                          output=filt,\n",
    "                          preserve=False,\n",
    "                          clean=True, \n",
    "                          build=False,\n",
    "                          context=False,\n",
    "                          skymethod='match',\n",
    "                          driz_sep_bits='64, 32',\n",
    "                          combine_type='minmed',\n",
    "                          final_bits='64, 32')"
   ]
  },
  {
   "cell_type": "code",
   "execution_count": 8,
   "id": "544d3a51",
   "metadata": {
    "pycharm": {
     "name": "#%%\n"
    }
   },
   "outputs": [
    {
     "name": "stdout",
     "output_type": "stream",
     "text": [
      "IR\n"
     ]
    },
    {
     "data": {
      "text/plain": [
       "<matplotlib.image.AxesImage at 0x1257a78d0>"
      ]
     },
     "execution_count": 8,
     "metadata": {},
     "output_type": "execute_result"
    },
    {
     "data": {
      "image/png": "[encoded data removed]",
      "text/plain": [
       "<Figure size 1440x1440 with 2 Axes>"
      ]
     },
     "metadata": {
      "needs_background": "light"
     },
     "output_type": "display_data"
    }
   ],
   "source": [
    "if camera==\"UVO\":\n",
    "    sci = fits.getdata(filt+'_drc_sci.fits')\n",
    "    wht = fits.getdata(filt+'_drc_wht.fits')\n",
    "else:\n",
    "    sci = fits.getdata(filt+'_drz_sci.fits')\n",
    "    wht = fits.getdata(filt+'_drz_wht.fits')\n",
    "print(camera)\n",
    "\n",
    "fig = plt.figure(figsize=(20, 20))\n",
    "ax1 = fig.add_subplot(1, 2, 1)\n",
    "ax2 = fig.add_subplot(1, 2, 2)\n",
    "\n",
    "ax1.imshow(sci, vmin=-0.05, vmax=0.4, cmap='Greys_r', origin='lower')\n",
    "ax2.imshow(wht, vmin=0, vmax=1000, cmap='Greys_r', origin='lower')"
   ]
  },
  {
   "cell_type": "code",
   "execution_count": 9,
   "id": "64ad30b6",
   "metadata": {
    "pycharm": {
     "name": "#%%\n"
    }
   },
   "outputs": [
    {
     "name": "stdout",
     "output_type": "stream",
     "text": [
      "icbna6jqq_flt.fits\n",
      "icbna6jqq_flt.orig.fits\n"
     ]
    },
    {
     "data": {
      "text/plain": [
       "<matplotlib.image.AxesImage at 0x122b9bbd0>"
      ]
     },
     "execution_count": 9,
     "metadata": {},
     "output_type": "execute_result"
    },
    {
     "data": {
      "image/png": "[encoded data removed]",
      "text/plain": [
       "<Figure size 1440x1440 with 1 Axes>"
      ]
     },
     "metadata": {
      "needs_background": "light"
     },
     "output_type": "display_data"
    }
   ],
   "source": [
    "testim=glob.glob(\"*\"+kind+\".fits\")[0]\n",
    "# when this is first run, testim will have multiple extensions, and need to load X3 here\n",
    "hdulist=fits.open(testim)\n",
    "if len(hdulist)>3:\n",
    "    print(testim)\n",
    "    dq=fits.getdata(testim,3)\n",
    "# however, later in the process, dolphot will have overwritten the fl[t|c] file into a single-extension file\n",
    "# so we need to go get the saved \"gaiareg.fits\" file\n",
    "else:\n",
    "    print(testim[:-5]+\".gaiareg.fits\")\n",
    "    dq=fits.getdata(testim[:-5]+\".gaiareg.fits\",3)\n",
    "\n",
    "print(testim[:-5]+\".orig.fits\")\n",
    "origdq=fits.getdata(testim[:-5]+\".orig.fits\",3)\n",
    "fig = plt.figure(figsize=(20, 20))\n",
    "#ax1 = fig.add_subplot(1, 2, 1)\n",
    "#ax2 = fig.add_subplot(1, 2, 2)\n",
    "ax2=fig.add_subplot(111)\n",
    "#ax1.imshow(origdq, cmap='Greys_r', origin='lower')\n",
    "ax2.imshow(dq-origdq, cmap='Greys_r', origin='lower',interpolation=\"nearest\")"
   ]
  },
  {
   "cell_type": "code",
   "execution_count": null,
   "id": "5709531a",
   "metadata": {
    "pycharm": {
     "name": "#%%\n"
    }
   },
   "outputs": [],
   "source": []
  }
 ],
 "metadata": {
  "kernelspec": {
   "display_name": "Python 3",
   "language": "python",
   "name": "python3"
  },
  "language_info": {
   "codemirror_mode": {
    "name": "ipython",
    "version": 3
   },
   "file_extension": ".py",
   "mimetype": "text/x-python",
   "name": "python",
   "nbconvert_exporter": "python",
   "pygments_lexer": "ipython3",
   "version": "3.7.10"
  }
 },
 "nbformat": 4,
 "nbformat_minor": 5
}