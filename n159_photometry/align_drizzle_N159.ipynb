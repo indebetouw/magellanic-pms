{
 "cells": [
  {
   "cell_type": "markdown",
   "id": "5c725c6f",
   "metadata": {},
   "source": [
    "These are the pre-photometry steps required to align to Gaia, drizzle together and update the original image DQ extension for CR found during drizzling.\n",
    "\n",
    "reference notebook:\n",
    "https://spacetelescope.github.io/notebooks/notebooks/DrizzlePac/align_to_catalogs/align_to_catalogs.html\n",
    "\n",
    "requirements: astroconda::drizzlepac"
   ]
  },
  {
   "cell_type": "code",
   "execution_count": 11,
   "id": "1e0ddb77",
   "metadata": {},
   "outputs": [],
   "source": [
    "# imports\n",
    "import astropy.units as u\n",
    "import glob\n",
    "import numpy as np\n",
    "import matplotlib.pyplot as plt\n",
    "import os,shutil\n",
    "\n",
    "from astropy.io import fits\n",
    "from astropy.table import Table\n",
    "from astropy.units import Quantity\n",
    "from astropy.coordinates import SkyCoord\n",
    "from astroquery.gaia import Gaia\n",
    "# from astroquery.mast import Observations\n",
    "# from astroquery.sdss import SDSS\n",
    "\n",
    "from ccdproc import ImageFileCollection\n",
    "from IPython.display import Image\n",
    "\n",
    "from drizzlepac import tweakreg\n",
    "from drizzlepac import astrodrizzle\n",
    "\n",
    "region=\"off\"\n",
    "filt=\"f125w\"\n",
    "os.chdir(\"/Users/remy/cv/magellanic/n159/\"+region+\"/\"+filt+\"/\")\n",
    "\n",
    "if filt==\"f125w\" or filt==\"f160w\":\n",
    "    kind=\"flt\"\n",
    "    camera=\"IR\"\n",
    "else:\n",
    "    kind=\"flc\"\n",
    "    camera=\"UVO\""
   ]
  },
  {
   "cell_type": "code",
   "execution_count": 2,
   "id": "7fc229c7",
   "metadata": {},
   "outputs": [
    {
     "data": {
      "text/html": [
       "<i>Table masked=True length=3</i>\n",
       "<table id=\"table4891270928\" class=\"table-striped table-bordered table-condensed\">\n",
       "<thead><tr><th>file</th><th>targname</th><th>ra_targ</th><th>dec_targ</th><th>filter</th><th>exptime</th><th>postarg1</th><th>postarg2</th></tr></thead>\n",
       "<thead><tr><th>str18</th><th>str9</th><th>float64</th><th>float64</th><th>str5</th><th>float64</th><th>float64</th><th>float64</th></tr></thead>\n",
       "<tr><td>icbna6jcq_flt.fits</td><td>OFF-POINT</td><td>85.2508983</td><td>-69.8056833</td><td>F125W</td><td>699.2</td><td>5.55</td><td>2.47</td></tr>\n",
       "<tr><td>icbna6jlq_flt.fits</td><td>OFF-POINT</td><td>85.2508983</td><td>-69.8056833</td><td>F125W</td><td>399.2</td><td>5.71</td><td>1.94</td></tr>\n",
       "<tr><td>icbna6joq_flt.fits</td><td>OFF-POINT</td><td>85.2508983</td><td>-69.8056833</td><td>F125W</td><td>299.2</td><td>5.74</td><td>3.00</td></tr>\n",
       "</table>"
      ],
      "text/plain": [
       "<Table masked=True length=3>\n",
       "       file         targname  ra_targ   ... exptime postarg1 postarg2\n",
       "      str18           str9    float64   ... float64 float64  float64 \n",
       "------------------ --------- ---------- ... ------- -------- --------\n",
       "icbna6jcq_flt.fits OFF-POINT 85.2508983 ...   699.2     5.55     2.47\n",
       "icbna6jlq_flt.fits OFF-POINT 85.2508983 ...   399.2     5.71     1.94\n",
       "icbna6joq_flt.fits OFF-POINT 85.2508983 ...   299.2     5.74     3.00"
      ]
     },
     "execution_count": 2,
     "metadata": {},
     "output_type": "execute_result"
    }
   ],
   "source": [
    "collec = ImageFileCollection(\"./\", glob_include=\"*\"+kind+\".fits\", ext=0,\n",
    "                             keywords=[\"targname\", \"ra_targ\", \"dec_targ\", \"filter\", \"exptime\", \"postarg1\", \"postarg2\"])\n",
    "\n",
    "table = collec.summary\n",
    "table['exptime'].format = '7.1f'\n",
    "table['ra_targ'].format = '7.7f'\n",
    "table['dec_targ'].format = '7.7f'\n",
    "table['postarg1'].format = '7.2f'\n",
    "table['postarg2'].format = '7.2f'\n",
    "table"
   ]
  },
  {
   "cell_type": "code",
   "execution_count": null,
   "id": "9ac9328c",
   "metadata": {},
   "outputs": [],
   "source": [
    "# Gaia query\n",
    "RA = table['ra_targ'][0]\n",
    "Dec = table['dec_targ'][0]\n",
    "\n",
    "coord = SkyCoord(ra=RA, dec=Dec, unit=(u.deg, u.deg))\n",
    "radius = Quantity(3., u.arcmin)\n",
    "\n",
    "gaia_query = Gaia.query_object_async(coordinate=coord, radius=radius)\n",
    "reduced_query = gaia_query['ra', 'dec', 'phot_g_mean_mag']\n",
    "reduced_query\n",
    "reduced_query.write('gaia.cat', format='ascii.commented_header')"
   ]
  },
  {
   "cell_type": "code",
   "execution_count": 4,
   "id": "c2543de4",
   "metadata": {},
   "outputs": [
    {
     "name": "stderr",
     "output_type": "stream",
     "text": [
      "INFO:drizzlepac.util:Setting up logfile :  tweakreg.log\n"
     ]
    },
    {
     "name": "stdout",
     "output_type": "stream",
     "text": [
      "IR 2.5\n",
      "Setting up logfile :  tweakreg.log\n"
     ]
    },
    {
     "name": "stderr",
     "output_type": "stream",
     "text": [
      "INFO:drizzlepac.tweakreg:TweakReg Version 1.4.7(18-April-2018) started at: 11:09:59.098 (08/06/2021) \n"
     ]
    },
    {
     "name": "stdout",
     "output_type": "stream",
     "text": [
      "TweakReg Version 1.4.7(18-April-2018) started at: 11:09:59.098 (08/06/2021) \n"
     ]
    },
    {
     "name": "stderr",
     "output_type": "stream",
     "text": [
      "INFO:drizzlepac.tweakreg:\n"
     ]
    },
    {
     "name": "stdout",
     "output_type": "stream",
     "text": [
      "\n"
     ]
    },
    {
     "name": "stderr",
     "output_type": "stream",
     "text": [
      "INFO:drizzlepac.util:Version Information\n"
     ]
    },
    {
     "name": "stdout",
     "output_type": "stream",
     "text": [
      "Version Information\n"
     ]
    },
    {
     "name": "stderr",
     "output_type": "stream",
     "text": [
      "INFO:drizzlepac.util:--------------------\n"
     ]
    },
    {
     "name": "stdout",
     "output_type": "stream",
     "text": [
      "--------------------\n"
     ]
    },
    {
     "name": "stderr",
     "output_type": "stream",
     "text": [
      "INFO:drizzlepac.util:Python Version [Clang 10.0.0 ]\n"
     ]
    },
    {
     "name": "stdout",
     "output_type": "stream",
     "text": [
      "Python Version [Clang 10.0.0 ]\n"
     ]
    },
    {
     "name": "stderr",
     "output_type": "stream",
     "text": [
      "INFO:drizzlepac.util:3.7.10 (default, Feb 26 2021, 10:16:00) \n"
     ]
    },
    {
     "name": "stdout",
     "output_type": "stream",
     "text": [
      "3.7.10 (default, Feb 26 2021, 10:16:00) \n"
     ]
    },
    {
     "name": "stderr",
     "output_type": "stream",
     "text": [
      "INFO:drizzlepac.util:numpy Version -> 1.20.2 \n"
     ]
    },
    {
     "name": "stdout",
     "output_type": "stream",
     "text": [
      "numpy Version -> 1.20.2 \n"
     ]
    },
    {
     "name": "stderr",
     "output_type": "stream",
     "text": [
      "INFO:drizzlepac.util:astropy Version -> 4.2.1 \n"
     ]
    },
    {
     "name": "stdout",
     "output_type": "stream",
     "text": [
      "astropy Version -> 4.2.1 \n"
     ]
    },
    {
     "name": "stderr",
     "output_type": "stream",
     "text": [
      "INFO:drizzlepac.util:stwcs Version -> 1.6.1 \n"
     ]
    },
    {
     "name": "stdout",
     "output_type": "stream",
     "text": [
      "stwcs Version -> 1.6.1 \n"
     ]
    },
    {
     "name": "stderr",
     "output_type": "stream",
     "text": [
      "INFO:drizzlepac.tweakreg:\n",
      "INFO:drizzlepac.tweakreg:USER INPUT PARAMETERS common to all Processing Steps:\n",
      "INFO:drizzlepac.tweakreg:\tclean :\tFalse\n",
      "INFO:drizzlepac.tweakreg:\tenforce_user_order :\tTrue\n",
      "INFO:drizzlepac.tweakreg:\texclusions :\t\n",
      "INFO:drizzlepac.tweakreg:\texpand_refcat :\tFalse\n",
      "INFO:drizzlepac.tweakreg:\tinput :\t*flt.fits\n",
      "INFO:drizzlepac.tweakreg:\tinteractive :\tFalse\n",
      "INFO:drizzlepac.tweakreg:\trefimage :\t\n",
      "INFO:drizzlepac.tweakreg:\trunfile :\ttweakreg.log\n",
      "INFO:drizzlepac.tweakreg:\tupdatewcs :\tFalse\n",
      "INFO:drizzlepac.tweakreg:\tverbose :\tFalse\n",
      "INFO:drizzlepac.tweakreg:\twritecat :\tTrue\n",
      "INFO:drizzlepac.tweakreg:\n"
     ]
    },
    {
     "name": "stdout",
     "output_type": "stream",
     "text": [
      "\n"
     ]
    },
    {
     "name": "stderr",
     "output_type": "stream",
     "text": [
      "INFO:drizzlepac.tweakreg:Finding shifts for: \n"
     ]
    },
    {
     "name": "stdout",
     "output_type": "stream",
     "text": [
      "Finding shifts for: \n"
     ]
    },
    {
     "name": "stderr",
     "output_type": "stream",
     "text": [
      "INFO:drizzlepac.tweakreg:    icbna6joq_flt.fits\n"
     ]
    },
    {
     "name": "stdout",
     "output_type": "stream",
     "text": [
      "    icbna6joq_flt.fits\n"
     ]
    },
    {
     "name": "stderr",
     "output_type": "stream",
     "text": [
      "INFO:drizzlepac.tweakreg:    icbna6jcq_flt.fits\n"
     ]
    },
    {
     "name": "stdout",
     "output_type": "stream",
     "text": [
      "    icbna6jcq_flt.fits\n"
     ]
    },
    {
     "name": "stderr",
     "output_type": "stream",
     "text": [
      "INFO:drizzlepac.tweakreg:    icbna6jlq_flt.fits\n"
     ]
    },
    {
     "name": "stdout",
     "output_type": "stream",
     "text": [
      "    icbna6jlq_flt.fits\n"
     ]
    },
    {
     "name": "stderr",
     "output_type": "stream",
     "text": [
      "INFO:drizzlepac.tweakreg:\n"
     ]
    },
    {
     "name": "stdout",
     "output_type": "stream",
     "text": [
      "\n"
     ]
    },
    {
     "name": "stderr",
     "output_type": "stream",
     "text": [
      "INFO:drizzlepac.tweakreg:USER INPUT PARAMETERS for finding sources for each input image:\n",
      "INFO:drizzlepac.tweakreg:\tclean :\tFalse\n",
      "INFO:drizzlepac.tweakreg:\tcomputesig :\tTrue\n",
      "INFO:drizzlepac.tweakreg:\tconv_width :\t2.5\n",
      "INFO:drizzlepac.tweakreg:\tdqbits :\t\n",
      "INFO:drizzlepac.tweakreg:\tenforce_user_order :\tTrue\n",
      "INFO:drizzlepac.tweakreg:\texpand_refcat :\tFalse\n",
      "INFO:drizzlepac.tweakreg:\tfluxmax :\tNone\n",
      "INFO:drizzlepac.tweakreg:\tfluxmin :\tNone\n",
      "INFO:drizzlepac.tweakreg:\tinput :\t*flt.fits\n",
      "INFO:drizzlepac.tweakreg:\tinteractive :\tFalse\n",
      "INFO:drizzlepac.tweakreg:\tnsigma :\t1.5\n",
      "INFO:drizzlepac.tweakreg:\tpeakmax :\tNone\n",
      "INFO:drizzlepac.tweakreg:\tpeakmin :\tNone\n",
      "INFO:drizzlepac.tweakreg:\tratio :\t1.0\n",
      "INFO:drizzlepac.tweakreg:\trefimage :\t\n",
      "INFO:drizzlepac.tweakreg:\troundhi :\t1.0\n",
      "INFO:drizzlepac.tweakreg:\troundlo :\t-1.0\n",
      "INFO:drizzlepac.tweakreg:\trunfile :\ttweakreg.log\n",
      "INFO:drizzlepac.tweakreg:\tsharphi :\t1.0\n",
      "INFO:drizzlepac.tweakreg:\tsharplo :\t0.2\n",
      "INFO:drizzlepac.tweakreg:\tskysigma :\t0.0\n",
      "INFO:drizzlepac.tweakreg:\ttheta :\t0.0\n",
      "INFO:drizzlepac.tweakreg:\tthreshold :\t100.0\n",
      "INFO:drizzlepac.tweakreg:\tupdatehdr :\tTrue\n",
      "INFO:drizzlepac.tweakreg:\tupdatewcs :\tFalse\n",
      "INFO:drizzlepac.tweakreg:\tuse_sharp_round :\tFalse\n",
      "INFO:drizzlepac.tweakreg:\tverbose :\tFalse\n",
      "INFO:drizzlepac.tweakreg:\twritecat :\tTrue\n",
      "INFO:drizzlepac.tweakreg:\txyunits :\tpixels\n",
      "INFO:drizzlepac.tweakreg:\n",
      "INFO:drizzlepac.imgclasses:===  Source finding for image 'icbna6joq_flt.fits':\n"
     ]
    },
    {
     "name": "stdout",
     "output_type": "stream",
     "text": [
      "===  Source finding for image 'icbna6joq_flt.fits':\n"
     ]
    },
    {
     "name": "stderr",
     "output_type": "stream",
     "text": [
      "INFO:drizzlepac.catalogs:  #  Source finding for 'icbna6joq_flt.fits', EXT=('SCI', 1) started at: 11:09:59.505 (08/06/2021)\n"
     ]
    },
    {
     "name": "stdout",
     "output_type": "stream",
     "text": [
      "  #  Source finding for 'icbna6joq_flt.fits', EXT=('SCI', 1) started at: 11:09:59.505 (08/06/2021)\n"
     ]
    },
    {
     "name": "stderr",
     "output_type": "stream",
     "text": [
      "INFO:drizzlepac.catalogs:   Finding sources using sky sigma = 1.335006\n",
      "INFO:drizzlepac.catalogs:###Source finding finished at: 11:09:59.667 (08/06/2021)\n",
      "INFO:drizzlepac.catalogs:     Found 361 objects.\n"
     ]
    },
    {
     "name": "stdout",
     "output_type": "stream",
     "text": [
      "     Found 361 objects.\n"
     ]
    },
    {
     "name": "stderr",
     "output_type": "stream",
     "text": [
      "INFO:drizzlepac.imgclasses:===  FINAL number of objects in image 'icbna6joq_flt.fits': 361\n"
     ]
    },
    {
     "name": "stdout",
     "output_type": "stream",
     "text": [
      "===  FINAL number of objects in image 'icbna6joq_flt.fits': 361\n"
     ]
    },
    {
     "name": "stderr",
     "output_type": "stream",
     "text": [
      "INFO:drizzlepac.imgclasses:\n"
     ]
    },
    {
     "name": "stdout",
     "output_type": "stream",
     "text": [
      "\n"
     ]
    },
    {
     "name": "stderr",
     "output_type": "stream",
     "text": [
      "INFO:drizzlepac.imgclasses:===  Source finding for image 'icbna6jcq_flt.fits':\n"
     ]
    },
    {
     "name": "stdout",
     "output_type": "stream",
     "text": [
      "===  Source finding for image 'icbna6jcq_flt.fits':\n"
     ]
    },
    {
     "name": "stderr",
     "output_type": "stream",
     "text": [
      "INFO:drizzlepac.catalogs:  #  Source finding for 'icbna6jcq_flt.fits', EXT=('SCI', 1) started at: 11:09:59.85 (08/06/2021)\n"
     ]
    },
    {
     "name": "stdout",
     "output_type": "stream",
     "text": [
      "  #  Source finding for 'icbna6jcq_flt.fits', EXT=('SCI', 1) started at: 11:09:59.85 (08/06/2021)\n"
     ]
    },
    {
     "name": "stderr",
     "output_type": "stream",
     "text": [
      "INFO:drizzlepac.catalogs:   Finding sources using sky sigma = 1.346202\n",
      "INFO:drizzlepac.catalogs:###Source finding finished at: 11:09:59.989 (08/06/2021)\n",
      "INFO:drizzlepac.catalogs:     Found 363 objects.\n"
     ]
    },
    {
     "name": "stdout",
     "output_type": "stream",
     "text": [
      "     Found 363 objects.\n"
     ]
    },
    {
     "name": "stderr",
     "output_type": "stream",
     "text": [
      "INFO:drizzlepac.imgclasses:===  FINAL number of objects in image 'icbna6jcq_flt.fits': 363\n"
     ]
    },
    {
     "name": "stdout",
     "output_type": "stream",
     "text": [
      "===  FINAL number of objects in image 'icbna6jcq_flt.fits': 363\n"
     ]
    },
    {
     "name": "stderr",
     "output_type": "stream",
     "text": [
      "INFO:drizzlepac.imgclasses:\n"
     ]
    },
    {
     "name": "stdout",
     "output_type": "stream",
     "text": [
      "\n"
     ]
    },
    {
     "name": "stderr",
     "output_type": "stream",
     "text": [
      "INFO:drizzlepac.imgclasses:===  Source finding for image 'icbna6jlq_flt.fits':\n"
     ]
    },
    {
     "name": "stdout",
     "output_type": "stream",
     "text": [
      "===  Source finding for image 'icbna6jlq_flt.fits':\n"
     ]
    },
    {
     "name": "stderr",
     "output_type": "stream",
     "text": [
      "INFO:drizzlepac.catalogs:  #  Source finding for 'icbna6jlq_flt.fits', EXT=('SCI', 1) started at: 11:10:00.162 (08/06/2021)\n"
     ]
    },
    {
     "name": "stdout",
     "output_type": "stream",
     "text": [
      "  #  Source finding for 'icbna6jlq_flt.fits', EXT=('SCI', 1) started at: 11:10:00.162 (08/06/2021)\n"
     ]
    },
    {
     "name": "stderr",
     "output_type": "stream",
     "text": [
      "INFO:drizzlepac.catalogs:   Finding sources using sky sigma = 1.571396\n",
      "INFO:drizzlepac.catalogs:###Source finding finished at: 11:10:00.312 (08/06/2021)\n",
      "INFO:drizzlepac.catalogs:     Found 357 objects.\n"
     ]
    },
    {
     "name": "stdout",
     "output_type": "stream",
     "text": [
      "     Found 357 objects.\n"
     ]
    },
    {
     "name": "stderr",
     "output_type": "stream",
     "text": [
      "INFO:drizzlepac.imgclasses:===  FINAL number of objects in image 'icbna6jlq_flt.fits': 357\n"
     ]
    },
    {
     "name": "stdout",
     "output_type": "stream",
     "text": [
      "===  FINAL number of objects in image 'icbna6jlq_flt.fits': 357\n"
     ]
    },
    {
     "name": "stderr",
     "output_type": "stream",
     "text": [
      "INFO:drizzlepac.imgclasses:\n"
     ]
    },
    {
     "name": "stdout",
     "output_type": "stream",
     "text": [
      "\n"
     ]
    },
    {
     "name": "stderr",
     "output_type": "stream",
     "text": [
      "INFO:drizzlepac.tweakreg:\n",
      "INFO:drizzlepac.tweakreg:USER INPUT PARAMETERS for finding sources for the reference image (not used):\n",
      "INFO:drizzlepac.tweakreg:\tclean :\tFalse\n",
      "INFO:drizzlepac.tweakreg:\tcomputesig :\tTrue\n",
      "INFO:drizzlepac.tweakreg:\tconv_width :\t3.5\n",
      "INFO:drizzlepac.tweakreg:\tdqbits :\t\n",
      "INFO:drizzlepac.tweakreg:\tenforce_user_order :\tTrue\n",
      "INFO:drizzlepac.tweakreg:\texpand_refcat :\tFalse\n",
      "INFO:drizzlepac.tweakreg:\tfluxmax :\tNone\n",
      "INFO:drizzlepac.tweakreg:\tfluxmin :\tNone\n",
      "INFO:drizzlepac.tweakreg:\tinput :\t*flt.fits\n",
      "INFO:drizzlepac.tweakreg:\tinteractive :\tFalse\n",
      "INFO:drizzlepac.tweakreg:\tnsigma :\t1.5\n",
      "INFO:drizzlepac.tweakreg:\tpeakmax :\tNone\n",
      "INFO:drizzlepac.tweakreg:\tpeakmin :\tNone\n",
      "INFO:drizzlepac.tweakreg:\tratio :\t1.0\n",
      "INFO:drizzlepac.tweakreg:\trefimage :\t\n",
      "INFO:drizzlepac.tweakreg:\troundhi :\t1.0\n",
      "INFO:drizzlepac.tweakreg:\troundlo :\t-1.0\n",
      "INFO:drizzlepac.tweakreg:\trunfile :\ttweakreg.log\n",
      "INFO:drizzlepac.tweakreg:\tsharphi :\t1.0\n",
      "INFO:drizzlepac.tweakreg:\tsharplo :\t0.2\n",
      "INFO:drizzlepac.tweakreg:\tskysigma :\t0.0\n",
      "INFO:drizzlepac.tweakreg:\ttheta :\t0.0\n",
      "INFO:drizzlepac.tweakreg:\tthreshold :\t4.0\n",
      "INFO:drizzlepac.tweakreg:\tupdatehdr :\tFalse\n",
      "INFO:drizzlepac.tweakreg:\tupdatewcs :\tFalse\n",
      "INFO:drizzlepac.tweakreg:\tuse_sharp_round :\tFalse\n",
      "INFO:drizzlepac.tweakreg:\tverbose :\tFalse\n",
      "INFO:drizzlepac.tweakreg:\twritecat :\tTrue\n",
      "INFO:drizzlepac.tweakreg:\txyunits :\tpixels\n",
      "INFO:drizzlepac.imgclasses:Converting RA/Dec positions of reference sources from \"icbna6joq_flt.fits\" to X,Y positions in reference WCS...\n",
      "INFO:drizzlepac.tweakreg:\n"
     ]
    },
    {
     "name": "stdout",
     "output_type": "stream",
     "text": [
      "\n"
     ]
    },
    {
     "name": "stderr",
     "output_type": "stream",
     "text": [
      "INFO:drizzlepac.tweakreg:===============================================================\n"
     ]
    },
    {
     "name": "stdout",
     "output_type": "stream",
     "text": [
      "===============================================================\n"
     ]
    },
    {
     "name": "stderr",
     "output_type": "stream",
     "text": [
      "INFO:drizzlepac.tweakreg:Performing alignment in the projection plane defined by the WCS\n"
     ]
    },
    {
     "name": "stdout",
     "output_type": "stream",
     "text": [
      "Performing alignment in the projection plane defined by the WCS\n"
     ]
    },
    {
     "name": "stderr",
     "output_type": "stream",
     "text": [
      "INFO:drizzlepac.tweakreg:derived from 'icbna6joq_flt.fits'\n"
     ]
    },
    {
     "name": "stdout",
     "output_type": "stream",
     "text": [
      "derived from 'icbna6joq_flt.fits'\n"
     ]
    },
    {
     "name": "stderr",
     "output_type": "stream",
     "text": [
      "INFO:drizzlepac.tweakreg:===============================================================\n"
     ]
    },
    {
     "name": "stdout",
     "output_type": "stream",
     "text": [
      "===============================================================\n"
     ]
    },
    {
     "name": "stderr",
     "output_type": "stream",
     "text": [
      "INFO:drizzlepac.tweakreg:\n"
     ]
    },
    {
     "name": "stdout",
     "output_type": "stream",
     "text": [
      "\n"
     ]
    },
    {
     "name": "stderr",
     "output_type": "stream",
     "text": [
      "INFO:drizzlepac.tweakreg:USER INPUT PARAMETERS for matching sources:\n",
      "INFO:drizzlepac.tweakreg:\tminobj :\t15\n",
      "INFO:drizzlepac.tweakreg:\tresidplot :\tboth\n",
      "INFO:drizzlepac.tweakreg:\tsearchrad :\t1.0\n",
      "INFO:drizzlepac.tweakreg:\tsearchunits :\tarcseconds\n",
      "INFO:drizzlepac.tweakreg:\tsee2dplot :\tFalse\n",
      "INFO:drizzlepac.tweakreg:\tseparation :\t0.5\n",
      "INFO:drizzlepac.tweakreg:\ttolerance :\t1.0\n",
      "INFO:drizzlepac.tweakreg:\tuse2dhist :\tTrue\n",
      "INFO:drizzlepac.tweakreg:\txoffset :\t0.0\n",
      "INFO:drizzlepac.tweakreg:\tyoffset :\t0.0\n",
      "INFO:drizzlepac.tweakreg:\n",
      "INFO:drizzlepac.tweakreg:USER INPUT PARAMETERS for fitting source lists:\n",
      "INFO:drizzlepac.tweakreg:\tfitgeometry :\tgeneral\n",
      "INFO:drizzlepac.tweakreg:\tlabelsize :\t8\n",
      "INFO:drizzlepac.tweakreg:\tminobj :\t15\n",
      "INFO:drizzlepac.tweakreg:\tnclip :\t3\n",
      "INFO:drizzlepac.tweakreg:\tresidplot :\tboth\n",
      "INFO:drizzlepac.tweakreg:\tsigma :\t2.3\n",
      "INFO:drizzlepac.tweakreg:\tylimit :\t0.2\n",
      "INFO:drizzlepac.tweakreg:\n",
      "INFO:drizzlepac.tweakreg:USER INPUT PARAMETERS for creating a shiftfile:\n",
      "INFO:drizzlepac.tweakreg:\toutshifts :\tGaia_shifts.txt\n",
      "INFO:drizzlepac.tweakreg:\toutwcs :\tshifts_wcs.fits\n",
      "INFO:drizzlepac.tweakreg:\tshiftfile :\tTrue\n",
      "INFO:drizzlepac.tweakreg:\n"
     ]
    },
    {
     "name": "stdout",
     "output_type": "stream",
     "text": [
      "\n"
     ]
    },
    {
     "name": "stderr",
     "output_type": "stream",
     "text": [
      "INFO:drizzlepac.tweakreg:====================\n"
     ]
    },
    {
     "name": "stdout",
     "output_type": "stream",
     "text": [
      "====================\n"
     ]
    },
    {
     "name": "stderr",
     "output_type": "stream",
     "text": [
      "INFO:drizzlepac.tweakreg:Performing fit for: icbna6joq_flt.fits\n"
     ]
    },
    {
     "name": "stdout",
     "output_type": "stream",
     "text": [
      "Performing fit for: icbna6joq_flt.fits\n"
     ]
    },
    {
     "name": "stderr",
     "output_type": "stream",
     "text": [
      "INFO:drizzlepac.tweakreg:\n"
     ]
    },
    {
     "name": "stdout",
     "output_type": "stream",
     "text": [
      "\n"
     ]
    },
    {
     "name": "stderr",
     "output_type": "stream",
     "text": [
      "INFO:drizzlepac.imgclasses:Matching sources from 'icbna6joq_flt.fits' with sources from reference catalog 'gaia.cat'\n"
     ]
    },
    {
     "name": "stdout",
     "output_type": "stream",
     "text": [
      "Matching sources from 'icbna6joq_flt.fits' with sources from reference catalog 'gaia.cat'\n"
     ]
    },
    {
     "name": "stderr",
     "output_type": "stream",
     "text": [
      "INFO:drizzlepac.imgclasses:Computing initial guess for X and Y shifts...\n"
     ]
    },
    {
     "name": "stdout",
     "output_type": "stream",
     "text": [
      "Computing initial guess for X and Y shifts...\n"
     ]
    },
    {
     "name": "stderr",
     "output_type": "stream",
     "text": [
      "INFO:drizzlepac.imgclasses:Found initial X and Y shifts of 0.1593, 0.1593 with significance of 21 and 23 matches\n"
     ]
    },
    {
     "name": "stdout",
     "output_type": "stream",
     "text": [
      "Found initial X and Y shifts of 0.1593, 0.1593 with significance of 21 and 23 matches\n"
     ]
    },
    {
     "name": "stderr",
     "output_type": "stream",
     "text": [
      "INFO:drizzlepac.imgclasses:Found 23 matches for icbna6joq_flt.fits...\n"
     ]
    },
    {
     "name": "stdout",
     "output_type": "stream",
     "text": [
      "Found 23 matches for icbna6joq_flt.fits...\n"
     ]
    },
    {
     "name": "stderr",
     "output_type": "stream",
     "text": [
      "INFO:drizzlepac.linearfit:Performing \"general\" fit\n",
      "INFO:drizzlepac.linearfit:Performing \"general\" fit\n",
      "INFO:drizzlepac.linearfit:Performing \"general\" fit\n",
      "INFO:drizzlepac.linearfit:Performing \"general\" fit\n",
      "INFO:drizzlepac.imgclasses:Computed  general  fit for  icbna6joq_flt.fits : \n"
     ]
    },
    {
     "name": "stdout",
     "output_type": "stream",
     "text": [
      "Computed  general  fit for  icbna6joq_flt.fits : \n"
     ]
    },
    {
     "name": "stderr",
     "output_type": "stream",
     "text": [
      "INFO:drizzlepac.imgclasses:XSH: 0.1229  YSH: 0.1299    PROPER ROT: 359.9814893    \n"
     ]
    },
    {
     "name": "stdout",
     "output_type": "stream",
     "text": [
      "XSH: 0.1229  YSH: 0.1299    PROPER ROT: 359.9814893    \n"
     ]
    },
    {
     "name": "stderr",
     "output_type": "stream",
     "text": [
      "INFO:drizzlepac.imgclasses:<ROT>: 359.9814893  SKEW: -0.002984235077    ROT_X: 359.9829814  ROT_Y: 359.9799972\n"
     ]
    },
    {
     "name": "stdout",
     "output_type": "stream",
     "text": [
      "<ROT>: 359.9814893  SKEW: -0.002984235077    ROT_X: 359.9829814  ROT_Y: 359.9799972\n"
     ]
    },
    {
     "name": "stderr",
     "output_type": "stream",
     "text": [
      "INFO:drizzlepac.imgclasses:<SCALE>: 1.000037937  SCALE_X: 0.9999418133  SCALE_Y: 1.000134072\n"
     ]
    },
    {
     "name": "stdout",
     "output_type": "stream",
     "text": [
      "<SCALE>: 1.000037937  SCALE_X: 0.9999418133  SCALE_Y: 1.000134072\n"
     ]
    },
    {
     "name": "stderr",
     "output_type": "stream",
     "text": [
      "INFO:drizzlepac.imgclasses:FIT XRMS: 0.054      FIT YRMS: 0.034  \n"
     ]
    },
    {
     "name": "stdout",
     "output_type": "stream",
     "text": [
      "FIT XRMS: 0.054      FIT YRMS: 0.034  \n"
     ]
    },
    {
     "name": "stderr",
     "output_type": "stream",
     "text": [
      "INFO:drizzlepac.imgclasses:FIT RMSE: 0.064      FIT MAE: 0.06   \n"
     ]
    },
    {
     "name": "stdout",
     "output_type": "stream",
     "text": [
      "FIT RMSE: 0.064      FIT MAE: 0.06   \n"
     ]
    },
    {
     "name": "stderr",
     "output_type": "stream",
     "text": [
      "INFO:drizzlepac.imgclasses:\n"
     ]
    },
    {
     "name": "stdout",
     "output_type": "stream",
     "text": [
      "\n"
     ]
    },
    {
     "name": "stderr",
     "output_type": "stream",
     "text": [
      "INFO:drizzlepac.imgclasses:RMS_RA: 6.1e-06 (deg)   RMS_DEC: 9e-07 (deg)\n"
     ]
    },
    {
     "name": "stdout",
     "output_type": "stream",
     "text": [
      "RMS_RA: 6.1e-06 (deg)   RMS_DEC: 9e-07 (deg)\n"
     ]
    },
    {
     "name": "stderr",
     "output_type": "stream",
     "text": [
      "INFO:drizzlepac.imgclasses:\n"
     ]
    },
    {
     "name": "stdout",
     "output_type": "stream",
     "text": [
      "\n"
     ]
    },
    {
     "name": "stderr",
     "output_type": "stream",
     "text": [
      "INFO:drizzlepac.imgclasses:Final solution based on  22  objects.\n"
     ]
    },
    {
     "name": "stdout",
     "output_type": "stream",
     "text": [
      "Final solution based on  22  objects.\n"
     ]
    },
    {
     "name": "stderr",
     "output_type": "stream",
     "text": [
      "INFO:drizzlepac.imgclasses:Creating catalog for the fit: icbna6joq_flt_catalog_fit.match\n",
      "INFO:drizzlepac.tweakutils:wrote XY data to:  icbna6joq_flt_catalog_fit.match\n"
     ]
    },
    {
     "name": "stdout",
     "output_type": "stream",
     "text": [
      "wrote XY data to:  icbna6joq_flt_catalog_fit.match\n"
     ]
    },
    {
     "name": "stderr",
     "output_type": "stream",
     "text": [
      "INFO:drizzlepac.tweakutils:Total # points: 22\n"
     ]
    },
    {
     "name": "stdout",
     "output_type": "stream",
     "text": [
      "Total # points: 22\n"
     ]
    },
    {
     "name": "stderr",
     "output_type": "stream",
     "text": [
      "INFO:drizzlepac.tweakutils:# of points after clipping: 22\n"
     ]
    },
    {
     "name": "stdout",
     "output_type": "stream",
     "text": [
      "# of points after clipping: 22\n"
     ]
    },
    {
     "name": "stderr",
     "output_type": "stream",
     "text": [
      "INFO:drizzlepac.tweakutils:Total # points: 22\n"
     ]
    },
    {
     "name": "stdout",
     "output_type": "stream",
     "text": [
      "Total # points: 22\n"
     ]
    },
    {
     "name": "stderr",
     "output_type": "stream",
     "text": [
      "INFO:drizzlepac.tweakutils:# of points after clipping: 22\n"
     ]
    },
    {
     "name": "stdout",
     "output_type": "stream",
     "text": [
      "# of points after clipping: 22\n"
     ]
    },
    {
     "name": "stderr",
     "output_type": "stream",
     "text": [
      "INFO:drizzlepac.updatehdr:\n"
     ]
    },
    {
     "name": "stdout",
     "output_type": "stream",
     "text": [
      "\n"
     ]
    },
    {
     "name": "stderr",
     "output_type": "stream",
     "text": [
      "INFO:drizzlepac.updatehdr:....Updating header for icbna6joq_flt.fits...\n"
     ]
    },
    {
     "name": "stdout",
     "output_type": "stream",
     "text": [
      "....Updating header for icbna6joq_flt.fits...\n"
     ]
    },
    {
     "name": "stderr",
     "output_type": "stream",
     "text": [
      "INFO:drizzlepac.updatehdr:\n"
     ]
    },
    {
     "name": "stdout",
     "output_type": "stream",
     "text": [
      "\n"
     ]
    },
    {
     "name": "stderr",
     "output_type": "stream",
     "text": [
      "WARNING:py.warnings:/Users/remy/opt/miniconda3/envs/astroconda/lib/python3.7/site-packages/drizzlepac/updatehdr.py:244: AstropyDeprecationWarning: The archiveWCS function is deprecated and may be removed in a future version.\n",
      "        Use archive_wcs instead.\n",
      "  wcsutil.altwcs.archiveWCS(fimg, extlist, reusekey=True)\n",
      "\n",
      "INFO:drizzlepac.updatehdr:\n"
     ]
    },
    {
     "name": "stdout",
     "output_type": "stream",
     "text": [
      "\n"
     ]
    },
    {
     "name": "stderr",
     "output_type": "stream",
     "text": [
      "INFO:drizzlepac.updatehdr:Processing icbna6joq_flt.fits['SCI',1]\n"
     ]
    },
    {
     "name": "stdout",
     "output_type": "stream",
     "text": [
      "Processing icbna6joq_flt.fits['SCI',1]\n"
     ]
    },
    {
     "name": "stderr",
     "output_type": "stream",
     "text": [
      "INFO:drizzlepac.updatehdr:\n"
     ]
    },
    {
     "name": "stdout",
     "output_type": "stream",
     "text": [
      "\n"
     ]
    },
    {
     "name": "stderr",
     "output_type": "stream",
     "text": [
      "INFO:drizzlepac.updatehdr:Updating header for icbna6joq_flt.fits[1]\n"
     ]
    },
    {
     "name": "stdout",
     "output_type": "stream",
     "text": [
      "Updating header for icbna6joq_flt.fits[1]\n"
     ]
    },
    {
     "name": "stderr",
     "output_type": "stream",
     "text": [
      "INFO:drizzlepac.updatehdr:    with WCS of\n",
      "INFO:stwcs.wcsutil.hstwcs:WCS Keywords\n"
     ]
    },
    {
     "name": "stdout",
     "output_type": "stream",
     "text": [
      "WCS Keywords\n"
     ]
    },
    {
     "name": "stderr",
     "output_type": "stream",
     "text": [
      "INFO:stwcs.wcsutil.hstwcs:\n"
     ]
    },
    {
     "name": "stdout",
     "output_type": "stream",
     "text": [
      "\n"
     ]
    },
    {
     "name": "stderr",
     "output_type": "stream",
     "text": [
      "INFO:stwcs.wcsutil.hstwcs:CD_11  CD_12: -2.1471345596449802e-05 -2.764898099288616e-05\n"
     ]
    },
    {
     "name": "stdout",
     "output_type": "stream",
     "text": [
      "CD_11  CD_12: -2.1471345596449802e-05 -2.764898099288616e-05\n"
     ]
    },
    {
     "name": "stderr",
     "output_type": "stream",
     "text": [
      "INFO:stwcs.wcsutil.hstwcs:CD_21  CD_22: -3.088883705229383e-05 1.9082555507788906e-05\n"
     ]
    },
    {
     "name": "stdout",
     "output_type": "stream",
     "text": [
      "CD_21  CD_22: -3.088883705229383e-05 1.9082555507788906e-05\n"
     ]
    },
    {
     "name": "stderr",
     "output_type": "stream",
     "text": [
      "INFO:stwcs.wcsutil.hstwcs:CRVAL    : 85.26271455573112 -69.80426902302175\n"
     ]
    },
    {
     "name": "stdout",
     "output_type": "stream",
     "text": [
      "CRVAL    : 85.26271455573112 -69.80426902302175\n"
     ]
    },
    {
     "name": "stderr",
     "output_type": "stream",
     "text": [
      "INFO:stwcs.wcsutil.hstwcs:CRPIX    : 507.0 507.0\n"
     ]
    },
    {
     "name": "stdout",
     "output_type": "stream",
     "text": [
      "CRPIX    : 507.0 507.0\n"
     ]
    },
    {
     "name": "stderr",
     "output_type": "stream",
     "text": [
      "INFO:stwcs.wcsutil.hstwcs:NAXIS    : 1014 1014\n"
     ]
    },
    {
     "name": "stdout",
     "output_type": "stream",
     "text": [
      "NAXIS    : 1014 1014\n"
     ]
    },
    {
     "name": "stderr",
     "output_type": "stream",
     "text": [
      "INFO:stwcs.wcsutil.hstwcs:Plate Scale : 0.13541813968905003\n"
     ]
    },
    {
     "name": "stdout",
     "output_type": "stream",
     "text": [
      "Plate Scale : 0.13541813968905003\n"
     ]
    },
    {
     "name": "stderr",
     "output_type": "stream",
     "text": [
      "INFO:stwcs.wcsutil.hstwcs:ORIENTAT : -55.38764448541203\n"
     ]
    },
    {
     "name": "stdout",
     "output_type": "stream",
     "text": [
      "ORIENTAT : -55.38764448541203\n"
     ]
    },
    {
     "name": "stderr",
     "output_type": "stream",
     "text": [
      "INFO:drizzlepac.updatehdr:WCSNAME  :  Gaia\n"
     ]
    },
    {
     "name": "stdout",
     "output_type": "stream",
     "text": [
      "WCSNAME  :  Gaia\n"
     ]
    },
    {
     "name": "stderr",
     "output_type": "stream",
     "text": [
      "WARNING:py.warnings:/Users/remy/opt/miniconda3/envs/astroconda/lib/python3.7/site-packages/drizzlepac/updatehdr.py:502: AstropyDeprecationWarning: The archiveWCS function is deprecated and may be removed in a future version.\n",
      "        Use archive_wcs instead.\n",
      "  wcskey=wkey, reusekey=reusename)\n",
      "\n",
      "INFO:drizzlepac.imgclasses:    Writing out new WCS to alternate WCS: \" \"\n",
      "INFO:drizzlepac.imgclasses:Updating WCSCORR table with new WCS solution \"Gaia\"\n",
      "INFO:drizzlepac.tweakreg:\n"
     ]
    },
    {
     "name": "stdout",
     "output_type": "stream",
     "text": [
      "\n"
     ]
    },
    {
     "name": "stderr",
     "output_type": "stream",
     "text": [
      "INFO:drizzlepac.tweakreg:====================\n"
     ]
    },
    {
     "name": "stdout",
     "output_type": "stream",
     "text": [
      "====================\n"
     ]
    },
    {
     "name": "stderr",
     "output_type": "stream",
     "text": [
      "INFO:drizzlepac.tweakreg:Performing fit for: icbna6jcq_flt.fits\n"
     ]
    },
    {
     "name": "stdout",
     "output_type": "stream",
     "text": [
      "Performing fit for: icbna6jcq_flt.fits\n"
     ]
    },
    {
     "name": "stderr",
     "output_type": "stream",
     "text": [
      "INFO:drizzlepac.tweakreg:\n"
     ]
    },
    {
     "name": "stdout",
     "output_type": "stream",
     "text": [
      "\n"
     ]
    },
    {
     "name": "stderr",
     "output_type": "stream",
     "text": [
      "INFO:drizzlepac.imgclasses:Matching sources from 'icbna6jcq_flt.fits' with sources from reference catalog 'gaia.cat'\n"
     ]
    },
    {
     "name": "stdout",
     "output_type": "stream",
     "text": [
      "Matching sources from 'icbna6jcq_flt.fits' with sources from reference catalog 'gaia.cat'\n"
     ]
    },
    {
     "name": "stderr",
     "output_type": "stream",
     "text": [
      "INFO:drizzlepac.imgclasses:Computing initial guess for X and Y shifts...\n"
     ]
    },
    {
     "name": "stdout",
     "output_type": "stream",
     "text": [
      "Computing initial guess for X and Y shifts...\n"
     ]
    },
    {
     "name": "stderr",
     "output_type": "stream",
     "text": [
      "INFO:drizzlepac.imgclasses:Found initial X and Y shifts of 0.08273, 0.1627 with significance of 17.75 and 25 matches\n"
     ]
    },
    {
     "name": "stdout",
     "output_type": "stream",
     "text": [
      "Found initial X and Y shifts of 0.08273, 0.1627 with significance of 17.75 and 25 matches\n"
     ]
    },
    {
     "name": "stderr",
     "output_type": "stream",
     "text": [
      "INFO:drizzlepac.imgclasses:Found 25 matches for icbna6jcq_flt.fits...\n"
     ]
    },
    {
     "name": "stdout",
     "output_type": "stream",
     "text": [
      "Found 25 matches for icbna6jcq_flt.fits...\n"
     ]
    },
    {
     "name": "stderr",
     "output_type": "stream",
     "text": [
      "INFO:drizzlepac.linearfit:Performing \"general\" fit\n",
      "INFO:drizzlepac.linearfit:Performing \"general\" fit\n",
      "INFO:drizzlepac.linearfit:Performing \"general\" fit\n",
      "INFO:drizzlepac.linearfit:Performing \"general\" fit\n",
      "INFO:drizzlepac.imgclasses:Computed  general  fit for  icbna6jcq_flt.fits : \n"
     ]
    },
    {
     "name": "stdout",
     "output_type": "stream",
     "text": [
      "Computed  general  fit for  icbna6jcq_flt.fits : \n"
     ]
    },
    {
     "name": "stderr",
     "output_type": "stream",
     "text": [
      "INFO:drizzlepac.imgclasses:XSH: 0.0613  YSH: 0.1406    PROPER ROT: 359.9967342    \n"
     ]
    },
    {
     "name": "stdout",
     "output_type": "stream",
     "text": [
      "XSH: 0.0613  YSH: 0.1406    PROPER ROT: 359.9967342    \n"
     ]
    },
    {
     "name": "stderr",
     "output_type": "stream",
     "text": [
      "INFO:drizzlepac.imgclasses:<ROT>: 179.9967342  SKEW: 359.9772792    ROT_X: 0.008094631884  ROT_Y: 359.9853738\n"
     ]
    },
    {
     "name": "stdout",
     "output_type": "stream",
     "text": [
      "<ROT>: 179.9967342  SKEW: 359.9772792    ROT_X: 0.008094631884  ROT_Y: 359.9853738\n"
     ]
    },
    {
     "name": "stderr",
     "output_type": "stream",
     "text": [
      "INFO:drizzlepac.imgclasses:<SCALE>: 0.9999669957  SCALE_X: 1.000110909  SCALE_Y: 0.9998231821\n"
     ]
    },
    {
     "name": "stdout",
     "output_type": "stream",
     "text": [
      "<SCALE>: 0.9999669957  SCALE_X: 1.000110909  SCALE_Y: 0.9998231821\n"
     ]
    },
    {
     "name": "stderr",
     "output_type": "stream",
     "text": [
      "INFO:drizzlepac.imgclasses:FIT XRMS: 0.044      FIT YRMS: 0.051  \n"
     ]
    },
    {
     "name": "stdout",
     "output_type": "stream",
     "text": [
      "FIT XRMS: 0.044      FIT YRMS: 0.051  \n"
     ]
    },
    {
     "name": "stderr",
     "output_type": "stream",
     "text": [
      "INFO:drizzlepac.imgclasses:FIT RMSE: 0.067      FIT MAE: 0.063  \n"
     ]
    },
    {
     "name": "stdout",
     "output_type": "stream",
     "text": [
      "FIT RMSE: 0.067      FIT MAE: 0.063  \n"
     ]
    },
    {
     "name": "stderr",
     "output_type": "stream",
     "text": [
      "INFO:drizzlepac.imgclasses:\n"
     ]
    },
    {
     "name": "stdout",
     "output_type": "stream",
     "text": [
      "\n"
     ]
    },
    {
     "name": "stderr",
     "output_type": "stream",
     "text": [
      "INFO:drizzlepac.imgclasses:RMS_RA: 6.9e-06 (deg)   RMS_DEC: 2.5e-07 (deg)\n"
     ]
    },
    {
     "name": "stdout",
     "output_type": "stream",
     "text": [
      "RMS_RA: 6.9e-06 (deg)   RMS_DEC: 2.5e-07 (deg)\n"
     ]
    },
    {
     "name": "stderr",
     "output_type": "stream",
     "text": [
      "INFO:drizzlepac.imgclasses:\n"
     ]
    },
    {
     "name": "stdout",
     "output_type": "stream",
     "text": [
      "\n"
     ]
    },
    {
     "name": "stderr",
     "output_type": "stream",
     "text": [
      "INFO:drizzlepac.imgclasses:Final solution based on  24  objects.\n"
     ]
    },
    {
     "name": "stdout",
     "output_type": "stream",
     "text": [
      "Final solution based on  24  objects.\n"
     ]
    },
    {
     "name": "stderr",
     "output_type": "stream",
     "text": [
      "INFO:drizzlepac.imgclasses:Creating catalog for the fit: icbna6jcq_flt_catalog_fit.match\n",
      "INFO:drizzlepac.tweakutils:wrote XY data to:  icbna6jcq_flt_catalog_fit.match\n"
     ]
    },
    {
     "name": "stdout",
     "output_type": "stream",
     "text": [
      "wrote XY data to:  icbna6jcq_flt_catalog_fit.match\n"
     ]
    },
    {
     "name": "stderr",
     "output_type": "stream",
     "text": [
      "INFO:drizzlepac.tweakutils:Total # points: 24\n"
     ]
    },
    {
     "name": "stdout",
     "output_type": "stream",
     "text": [
      "Total # points: 24\n"
     ]
    },
    {
     "name": "stderr",
     "output_type": "stream",
     "text": [
      "INFO:drizzlepac.tweakutils:# of points after clipping: 24\n"
     ]
    },
    {
     "name": "stdout",
     "output_type": "stream",
     "text": [
      "# of points after clipping: 24\n"
     ]
    },
    {
     "name": "stderr",
     "output_type": "stream",
     "text": [
      "INFO:drizzlepac.tweakutils:Total # points: 24\n"
     ]
    },
    {
     "name": "stdout",
     "output_type": "stream",
     "text": [
      "Total # points: 24\n"
     ]
    },
    {
     "name": "stderr",
     "output_type": "stream",
     "text": [
      "INFO:drizzlepac.tweakutils:# of points after clipping: 24\n"
     ]
    },
    {
     "name": "stdout",
     "output_type": "stream",
     "text": [
      "# of points after clipping: 24\n"
     ]
    },
    {
     "name": "stderr",
     "output_type": "stream",
     "text": [
      "INFO:drizzlepac.updatehdr:\n"
     ]
    },
    {
     "name": "stdout",
     "output_type": "stream",
     "text": [
      "\n"
     ]
    },
    {
     "name": "stderr",
     "output_type": "stream",
     "text": [
      "INFO:drizzlepac.updatehdr:....Updating header for icbna6jcq_flt.fits...\n"
     ]
    },
    {
     "name": "stdout",
     "output_type": "stream",
     "text": [
      "....Updating header for icbna6jcq_flt.fits...\n"
     ]
    },
    {
     "name": "stderr",
     "output_type": "stream",
     "text": [
      "INFO:drizzlepac.updatehdr:\n"
     ]
    },
    {
     "name": "stdout",
     "output_type": "stream",
     "text": [
      "\n"
     ]
    },
    {
     "name": "stderr",
     "output_type": "stream",
     "text": [
      "WARNING:py.warnings:/Users/remy/opt/miniconda3/envs/astroconda/lib/python3.7/site-packages/drizzlepac/updatehdr.py:244: AstropyDeprecationWarning: The archiveWCS function is deprecated and may be removed in a future version.\n",
      "        Use archive_wcs instead.\n",
      "  wcsutil.altwcs.archiveWCS(fimg, extlist, reusekey=True)\n",
      "\n",
      "INFO:drizzlepac.updatehdr:\n"
     ]
    },
    {
     "name": "stdout",
     "output_type": "stream",
     "text": [
      "\n"
     ]
    },
    {
     "name": "stderr",
     "output_type": "stream",
     "text": [
      "INFO:drizzlepac.updatehdr:Processing icbna6jcq_flt.fits['SCI',1]\n"
     ]
    },
    {
     "name": "stdout",
     "output_type": "stream",
     "text": [
      "Processing icbna6jcq_flt.fits['SCI',1]\n"
     ]
    },
    {
     "name": "stderr",
     "output_type": "stream",
     "text": [
      "INFO:drizzlepac.updatehdr:\n"
     ]
    },
    {
     "name": "stdout",
     "output_type": "stream",
     "text": [
      "\n"
     ]
    },
    {
     "name": "stderr",
     "output_type": "stream",
     "text": [
      "INFO:drizzlepac.updatehdr:Updating header for icbna6jcq_flt.fits[1]\n"
     ]
    },
    {
     "name": "stdout",
     "output_type": "stream",
     "text": [
      "Updating header for icbna6jcq_flt.fits[1]\n"
     ]
    },
    {
     "name": "stderr",
     "output_type": "stream",
     "text": [
      "INFO:drizzlepac.updatehdr:    with WCS of\n",
      "INFO:stwcs.wcsutil.hstwcs:WCS Keywords\n"
     ]
    },
    {
     "name": "stdout",
     "output_type": "stream",
     "text": [
      "WCS Keywords\n"
     ]
    },
    {
     "name": "stderr",
     "output_type": "stream",
     "text": [
      "INFO:stwcs.wcsutil.hstwcs:\n"
     ]
    },
    {
     "name": "stdout",
     "output_type": "stream",
     "text": [
      "\n"
     ]
    },
    {
     "name": "stderr",
     "output_type": "stream",
     "text": [
      "INFO:stwcs.wcsutil.hstwcs:CD_11  CD_12: -2.1481072412949866e-05 -2.765528037798503e-05\n"
     ]
    },
    {
     "name": "stdout",
     "output_type": "stream",
     "text": [
      "CD_11  CD_12: -2.1481072412949866e-05 -2.765528037798503e-05\n"
     ]
    },
    {
     "name": "stderr",
     "output_type": "stream",
     "text": [
      "INFO:stwcs.wcsutil.hstwcs:CD_21  CD_22: -3.087362900013263e-05 1.9091104752003845e-05\n"
     ]
    },
    {
     "name": "stdout",
     "output_type": "stream",
     "text": [
      "CD_21  CD_22: -3.087362900013263e-05 1.9091104752003845e-05\n"
     ]
    },
    {
     "name": "stderr",
     "output_type": "stream",
     "text": [
      "INFO:stwcs.wcsutil.hstwcs:CRVAL    : 85.2622428681337 -69.80423262989736\n"
     ]
    },
    {
     "name": "stdout",
     "output_type": "stream",
     "text": [
      "CRVAL    : 85.2622428681337 -69.80423262989736\n"
     ]
    },
    {
     "name": "stderr",
     "output_type": "stream",
     "text": [
      "INFO:stwcs.wcsutil.hstwcs:CRPIX    : 507.0 507.0\n"
     ]
    },
    {
     "name": "stdout",
     "output_type": "stream",
     "text": [
      "CRPIX    : 507.0 507.0\n"
     ]
    },
    {
     "name": "stderr",
     "output_type": "stream",
     "text": [
      "INFO:stwcs.wcsutil.hstwcs:NAXIS    : 1014 1014\n"
     ]
    },
    {
     "name": "stdout",
     "output_type": "stream",
     "text": [
      "NAXIS    : 1014 1014\n"
     ]
    },
    {
     "name": "stderr",
     "output_type": "stream",
     "text": [
      "INFO:stwcs.wcsutil.hstwcs:Plate Scale : 0.13541620722827333\n"
     ]
    },
    {
     "name": "stdout",
     "output_type": "stream",
     "text": [
      "Plate Scale : 0.13541620722827333\n"
     ]
    },
    {
     "name": "stderr",
     "output_type": "stream",
     "text": [
      "INFO:stwcs.wcsutil.hstwcs:ORIENTAT : -55.38174870715067\n"
     ]
    },
    {
     "name": "stdout",
     "output_type": "stream",
     "text": [
      "ORIENTAT : -55.38174870715067\n"
     ]
    },
    {
     "name": "stderr",
     "output_type": "stream",
     "text": [
      "INFO:drizzlepac.updatehdr:WCSNAME  :  Gaia\n"
     ]
    },
    {
     "name": "stdout",
     "output_type": "stream",
     "text": [
      "WCSNAME  :  Gaia\n"
     ]
    },
    {
     "name": "stderr",
     "output_type": "stream",
     "text": [
      "WARNING:py.warnings:/Users/remy/opt/miniconda3/envs/astroconda/lib/python3.7/site-packages/drizzlepac/updatehdr.py:502: AstropyDeprecationWarning: The archiveWCS function is deprecated and may be removed in a future version.\n",
      "        Use archive_wcs instead.\n",
      "  wcskey=wkey, reusekey=reusename)\n",
      "\n",
      "INFO:drizzlepac.imgclasses:    Writing out new WCS to alternate WCS: \" \"\n",
      "INFO:drizzlepac.imgclasses:Updating WCSCORR table with new WCS solution \"Gaia\"\n",
      "INFO:drizzlepac.tweakreg:\n"
     ]
    },
    {
     "name": "stdout",
     "output_type": "stream",
     "text": [
      "\n"
     ]
    },
    {
     "name": "stderr",
     "output_type": "stream",
     "text": [
      "INFO:drizzlepac.tweakreg:====================\n"
     ]
    },
    {
     "name": "stdout",
     "output_type": "stream",
     "text": [
      "====================\n"
     ]
    },
    {
     "name": "stderr",
     "output_type": "stream",
     "text": [
      "INFO:drizzlepac.tweakreg:Performing fit for: icbna6jlq_flt.fits\n"
     ]
    },
    {
     "name": "stdout",
     "output_type": "stream",
     "text": [
      "Performing fit for: icbna6jlq_flt.fits\n"
     ]
    },
    {
     "name": "stderr",
     "output_type": "stream",
     "text": [
      "INFO:drizzlepac.tweakreg:\n"
     ]
    },
    {
     "name": "stdout",
     "output_type": "stream",
     "text": [
      "\n"
     ]
    },
    {
     "name": "stderr",
     "output_type": "stream",
     "text": [
      "INFO:drizzlepac.imgclasses:Matching sources from 'icbna6jlq_flt.fits' with sources from reference catalog 'gaia.cat'\n"
     ]
    },
    {
     "name": "stdout",
     "output_type": "stream",
     "text": [
      "Matching sources from 'icbna6jlq_flt.fits' with sources from reference catalog 'gaia.cat'\n"
     ]
    },
    {
     "name": "stderr",
     "output_type": "stream",
     "text": [
      "INFO:drizzlepac.imgclasses:Computing initial guess for X and Y shifts...\n"
     ]
    },
    {
     "name": "stdout",
     "output_type": "stream",
     "text": [
      "Computing initial guess for X and Y shifts...\n"
     ]
    },
    {
     "name": "stderr",
     "output_type": "stream",
     "text": [
      "INFO:drizzlepac.imgclasses:Found initial X and Y shifts of 0.06637, 0.2027 with significance of 13.44 and 22 matches\n"
     ]
    },
    {
     "name": "stdout",
     "output_type": "stream",
     "text": [
      "Found initial X and Y shifts of 0.06637, 0.2027 with significance of 13.44 and 22 matches\n"
     ]
    },
    {
     "name": "stderr",
     "output_type": "stream",
     "text": [
      "INFO:drizzlepac.imgclasses:Found 22 matches for icbna6jlq_flt.fits...\n"
     ]
    },
    {
     "name": "stdout",
     "output_type": "stream",
     "text": [
      "Found 22 matches for icbna6jlq_flt.fits...\n"
     ]
    },
    {
     "name": "stderr",
     "output_type": "stream",
     "text": [
      "INFO:drizzlepac.linearfit:Performing \"general\" fit\n",
      "INFO:drizzlepac.linearfit:Performing \"general\" fit\n",
      "INFO:drizzlepac.linearfit:Performing \"general\" fit\n",
      "INFO:drizzlepac.linearfit:Performing \"general\" fit\n",
      "INFO:drizzlepac.imgclasses:Computed  general  fit for  icbna6jlq_flt.fits : \n"
     ]
    },
    {
     "name": "stdout",
     "output_type": "stream",
     "text": [
      "Computed  general  fit for  icbna6jlq_flt.fits : \n"
     ]
    },
    {
     "name": "stderr",
     "output_type": "stream",
     "text": [
      "INFO:drizzlepac.imgclasses:XSH: 0.0517  YSH: 0.1151    PROPER ROT: 0.001227804244    \n"
     ]
    },
    {
     "name": "stdout",
     "output_type": "stream",
     "text": [
      "XSH: 0.0517  YSH: 0.1151    PROPER ROT: 0.001227804244    \n"
     ]
    },
    {
     "name": "stderr",
     "output_type": "stream",
     "text": [
      "INFO:drizzlepac.imgclasses:<ROT>: 180.0012278  SKEW: -359.9796366    ROT_X: 359.9910461  ROT_Y: 0.01140949061\n"
     ]
    },
    {
     "name": "stdout",
     "output_type": "stream",
     "text": [
      "<ROT>: 180.0012278  SKEW: -359.9796366    ROT_X: 359.9910461  ROT_Y: 0.01140949061\n"
     ]
    },
    {
     "name": "stderr",
     "output_type": "stream",
     "text": [
      "INFO:drizzlepac.imgclasses:<SCALE>: 0.9998025966  SCALE_X: 0.9998483003  SCALE_Y: 0.9997569581\n"
     ]
    },
    {
     "name": "stdout",
     "output_type": "stream",
     "text": [
      "<SCALE>: 0.9998025966  SCALE_X: 0.9998483003  SCALE_Y: 0.9997569581\n"
     ]
    },
    {
     "name": "stderr",
     "output_type": "stream",
     "text": [
      "INFO:drizzlepac.imgclasses:FIT XRMS: 0.032      FIT YRMS: 0.034  \n"
     ]
    },
    {
     "name": "stdout",
     "output_type": "stream",
     "text": [
      "FIT XRMS: 0.032      FIT YRMS: 0.034  \n"
     ]
    },
    {
     "name": "stderr",
     "output_type": "stream",
     "text": [
      "INFO:drizzlepac.imgclasses:FIT RMSE: 0.047      FIT MAE: 0.042  \n"
     ]
    },
    {
     "name": "stdout",
     "output_type": "stream",
     "text": [
      "FIT RMSE: 0.047      FIT MAE: 0.042  \n"
     ]
    },
    {
     "name": "stderr",
     "output_type": "stream",
     "text": [
      "INFO:drizzlepac.imgclasses:\n"
     ]
    },
    {
     "name": "stdout",
     "output_type": "stream",
     "text": [
      "\n"
     ]
    },
    {
     "name": "stderr",
     "output_type": "stream",
     "text": [
      "INFO:drizzlepac.imgclasses:RMS_RA: 4.8e-06 (deg)   RMS_DEC: 2.2e-07 (deg)\n"
     ]
    },
    {
     "name": "stdout",
     "output_type": "stream",
     "text": [
      "RMS_RA: 4.8e-06 (deg)   RMS_DEC: 2.2e-07 (deg)\n"
     ]
    },
    {
     "name": "stderr",
     "output_type": "stream",
     "text": [
      "INFO:drizzlepac.imgclasses:\n"
     ]
    },
    {
     "name": "stdout",
     "output_type": "stream",
     "text": [
      "\n"
     ]
    },
    {
     "name": "stderr",
     "output_type": "stream",
     "text": [
      "INFO:drizzlepac.imgclasses:Final solution based on  19  objects.\n"
     ]
    },
    {
     "name": "stdout",
     "output_type": "stream",
     "text": [
      "Final solution based on  19  objects.\n"
     ]
    },
    {
     "name": "stderr",
     "output_type": "stream",
     "text": [
      "INFO:drizzlepac.imgclasses:Creating catalog for the fit: icbna6jlq_flt_catalog_fit.match\n",
      "INFO:drizzlepac.tweakutils:wrote XY data to:  icbna6jlq_flt_catalog_fit.match\n"
     ]
    },
    {
     "name": "stdout",
     "output_type": "stream",
     "text": [
      "wrote XY data to:  icbna6jlq_flt_catalog_fit.match\n"
     ]
    },
    {
     "name": "stderr",
     "output_type": "stream",
     "text": [
      "INFO:drizzlepac.tweakutils:Total # points: 19\n"
     ]
    },
    {
     "name": "stdout",
     "output_type": "stream",
     "text": [
      "Total # points: 19\n"
     ]
    },
    {
     "name": "stderr",
     "output_type": "stream",
     "text": [
      "INFO:drizzlepac.tweakutils:# of points after clipping: 19\n"
     ]
    },
    {
     "name": "stdout",
     "output_type": "stream",
     "text": [
      "# of points after clipping: 19\n"
     ]
    },
    {
     "name": "stderr",
     "output_type": "stream",
     "text": [
      "INFO:drizzlepac.tweakutils:Total # points: 19\n"
     ]
    },
    {
     "name": "stdout",
     "output_type": "stream",
     "text": [
      "Total # points: 19\n"
     ]
    },
    {
     "name": "stderr",
     "output_type": "stream",
     "text": [
      "INFO:drizzlepac.tweakutils:# of points after clipping: 19\n"
     ]
    },
    {
     "name": "stdout",
     "output_type": "stream",
     "text": [
      "# of points after clipping: 19\n"
     ]
    },
    {
     "name": "stderr",
     "output_type": "stream",
     "text": [
      "INFO:drizzlepac.updatehdr:\n"
     ]
    },
    {
     "name": "stdout",
     "output_type": "stream",
     "text": [
      "\n"
     ]
    },
    {
     "name": "stderr",
     "output_type": "stream",
     "text": [
      "INFO:drizzlepac.updatehdr:....Updating header for icbna6jlq_flt.fits...\n"
     ]
    },
    {
     "name": "stdout",
     "output_type": "stream",
     "text": [
      "....Updating header for icbna6jlq_flt.fits...\n"
     ]
    },
    {
     "name": "stderr",
     "output_type": "stream",
     "text": [
      "INFO:drizzlepac.updatehdr:\n"
     ]
    },
    {
     "name": "stdout",
     "output_type": "stream",
     "text": [
      "\n"
     ]
    },
    {
     "name": "stderr",
     "output_type": "stream",
     "text": [
      "WARNING:py.warnings:/Users/remy/opt/miniconda3/envs/astroconda/lib/python3.7/site-packages/drizzlepac/updatehdr.py:244: AstropyDeprecationWarning: The archiveWCS function is deprecated and may be removed in a future version.\n",
      "        Use archive_wcs instead.\n",
      "  wcsutil.altwcs.archiveWCS(fimg, extlist, reusekey=True)\n",
      "\n",
      "INFO:drizzlepac.updatehdr:\n"
     ]
    },
    {
     "name": "stdout",
     "output_type": "stream",
     "text": [
      "\n"
     ]
    },
    {
     "name": "stderr",
     "output_type": "stream",
     "text": [
      "INFO:drizzlepac.updatehdr:Processing icbna6jlq_flt.fits['SCI',1]\n"
     ]
    },
    {
     "name": "stdout",
     "output_type": "stream",
     "text": [
      "Processing icbna6jlq_flt.fits['SCI',1]\n"
     ]
    },
    {
     "name": "stderr",
     "output_type": "stream",
     "text": [
      "INFO:drizzlepac.updatehdr:\n"
     ]
    },
    {
     "name": "stdout",
     "output_type": "stream",
     "text": [
      "\n"
     ]
    },
    {
     "name": "stderr",
     "output_type": "stream",
     "text": [
      "INFO:drizzlepac.updatehdr:Updating header for icbna6jlq_flt.fits[1]\n"
     ]
    },
    {
     "name": "stdout",
     "output_type": "stream",
     "text": [
      "Updating header for icbna6jlq_flt.fits[1]\n"
     ]
    },
    {
     "name": "stderr",
     "output_type": "stream",
     "text": [
      "INFO:drizzlepac.updatehdr:    with WCS of\n",
      "INFO:stwcs.wcsutil.hstwcs:WCS Keywords\n"
     ]
    },
    {
     "name": "stdout",
     "output_type": "stream",
     "text": [
      "WCS Keywords\n"
     ]
    },
    {
     "name": "stderr",
     "output_type": "stream",
     "text": [
      "INFO:stwcs.wcsutil.hstwcs:\n"
     ]
    },
    {
     "name": "stdout",
     "output_type": "stream",
     "text": [
      "\n"
     ]
    },
    {
     "name": "stderr",
     "output_type": "stream",
     "text": [
      "INFO:stwcs.wcsutil.hstwcs:CD_11  CD_12: -2.1476344950266975e-05 -2.7648170316016058e-05\n"
     ]
    },
    {
     "name": "stdout",
     "output_type": "stream",
     "text": [
      "CD_11  CD_12: -2.1476344950266975e-05 -2.7648170316016058e-05\n"
     ]
    },
    {
     "name": "stderr",
     "output_type": "stream",
     "text": [
      "INFO:stwcs.wcsutil.hstwcs:CD_21  CD_22: -3.088785952887531e-05 1.9103513172498033e-05\n"
     ]
    },
    {
     "name": "stdout",
     "output_type": "stream",
     "text": [
      "CD_21  CD_22: -3.088785952887531e-05 1.9103513172498033e-05\n"
     ]
    },
    {
     "name": "stderr",
     "output_type": "stream",
     "text": [
      "INFO:stwcs.wcsutil.hstwcs:CRVAL    : 85.26198570238377 -69.80411136246543\n"
     ]
    },
    {
     "name": "stdout",
     "output_type": "stream",
     "text": [
      "CRVAL    : 85.26198570238377 -69.80411136246543\n"
     ]
    },
    {
     "name": "stderr",
     "output_type": "stream",
     "text": [
      "INFO:stwcs.wcsutil.hstwcs:CRPIX    : 507.0 507.0\n"
     ]
    },
    {
     "name": "stdout",
     "output_type": "stream",
     "text": [
      "CRPIX    : 507.0 507.0\n"
     ]
    },
    {
     "name": "stderr",
     "output_type": "stream",
     "text": [
      "INFO:stwcs.wcsutil.hstwcs:NAXIS    : 1014 1014\n"
     ]
    },
    {
     "name": "stdout",
     "output_type": "stream",
     "text": [
      "NAXIS    : 1014 1014\n"
     ]
    },
    {
     "name": "stderr",
     "output_type": "stream",
     "text": [
      "INFO:stwcs.wcsutil.hstwcs:Plate Scale : 0.13541268636932835\n"
     ]
    },
    {
     "name": "stdout",
     "output_type": "stream",
     "text": [
      "Plate Scale : 0.13541268636932835\n"
     ]
    },
    {
     "name": "stderr",
     "output_type": "stream",
     "text": [
      "INFO:stwcs.wcsutil.hstwcs:ORIENTAT : -55.35745207875159\n"
     ]
    },
    {
     "name": "stdout",
     "output_type": "stream",
     "text": [
      "ORIENTAT : -55.35745207875159\n"
     ]
    },
    {
     "name": "stderr",
     "output_type": "stream",
     "text": [
      "INFO:drizzlepac.updatehdr:WCSNAME  :  Gaia\n"
     ]
    },
    {
     "name": "stdout",
     "output_type": "stream",
     "text": [
      "WCSNAME  :  Gaia\n"
     ]
    },
    {
     "name": "stderr",
     "output_type": "stream",
     "text": [
      "WARNING:py.warnings:/Users/remy/opt/miniconda3/envs/astroconda/lib/python3.7/site-packages/drizzlepac/updatehdr.py:502: AstropyDeprecationWarning: The archiveWCS function is deprecated and may be removed in a future version.\n",
      "        Use archive_wcs instead.\n",
      "  wcskey=wkey, reusekey=reusename)\n",
      "\n",
      "INFO:drizzlepac.imgclasses:    Writing out new WCS to alternate WCS: \" \"\n",
      "INFO:drizzlepac.imgclasses:Updating WCSCORR table with new WCS solution \"Gaia\"\n",
      "INFO:drizzlepac.tweakutils:Writing out shiftfile : Gaia_shifts.txt\n"
     ]
    },
    {
     "name": "stdout",
     "output_type": "stream",
     "text": [
      "Writing out shiftfile : Gaia_shifts.txt\n"
     ]
    },
    {
     "name": "stderr",
     "output_type": "stream",
     "text": [
      "INFO:drizzlepac.util:Trailer file written to:  tweakreg.log\n"
     ]
    },
    {
     "name": "stdout",
     "output_type": "stream",
     "text": [
      "Trailer file written to:  tweakreg.log\n"
     ]
    },
    {
     "data": {
      "image/png": "[encoded data removed]",
      "text/plain": [
       "<Figure size 432x288 with 1 Axes>"
      ]
     },
     "metadata": {
      "needs_background": "light"
     },
     "output_type": "display_data"
    },
    {
     "data": {
      "image/png": "[encoded data removed]",
      "text/plain": [
       "<Figure size 432x288 with 4 Axes>"
      ]
     },
     "metadata": {
      "needs_background": "light"
     },
     "output_type": "display_data"
    }
   ],
   "source": [
    "refcat = 'gaia.cat'\n",
    "if camera==\"UVO\":\n",
    "    cw = 3.5  # Set to two times the FWHM of the PSF.\n",
    "    thresh=1000.\n",
    "else:\n",
    "    cw = 2.5\n",
    "    thresh=100.\n",
    "wcsname = 'Gaia'  # Specify the WCS name for this alignment\n",
    "print(camera,cw)\n",
    "\n",
    "for im in glob.glob(\"*\"+kind+\".fits\"):\n",
    "    if not os.path.exists(im[:-5]+\".orig.fits\"):\n",
    "        shutil.copy(im,im[:-5]+\".orig.fits\")\n",
    "    \n",
    "tweakreg.TweakReg('*'+kind+'.fits',  # Pass input images\n",
    "                  updatehdr=True,  # update header with new WCS solution\n",
    "                  imagefindcfg={'threshold':thresh,'conv_width':cw},  # Detection parameters, threshold varies for different data\n",
    "                  refcat=refcat,  # Use user supplied catalog (Gaia)\n",
    "                  interactive=False,\n",
    "                  see2dplot=False,\n",
    "                  shiftfile=True,  # Save out shift file (so we can look at shifts later)\n",
    "                  outshifts='Gaia_shifts.txt',  # name of the shift file\n",
    "                  wcsname=wcsname,  # Give our WCS a new name\n",
    "                  reusename=True,\n",
    "                  sigma=2.3,\n",
    "                  ylimit=0.2,\n",
    "                  fitgeometry='general')  # Use the 6 parameter fit\n",
    "\n"
   ]
  },
  {
   "cell_type": "code",
   "execution_count": 5,
   "id": "229765ab",
   "metadata": {},
   "outputs": [
    {
     "name": "stdout",
     "output_type": "stream",
     "text": [
      "# frame: output\n",
      "\n",
      "# refimage: shifts_wcs.fits[wcs]\n",
      "\n",
      "# form: delta\n",
      "\n",
      "# units: pixels\n",
      "\n",
      "icbna6joq_flt.fits    0.122855  0.129949    359.981489     1.000038   0.054251  0.033671\n",
      "\n",
      "icbna6jcq_flt.fits    0.061349  0.140590    359.996734     0.999967   0.044208  0.050983\n",
      "\n",
      "icbna6jlq_flt.fits    0.051722  0.115113    0.001228     0.999803   0.031626  0.034451\n",
      "\n"
     ]
    }
   ],
   "source": [
    "for line in open('Gaia_shifts.txt').readlines():\n",
    "    print(line)"
   ]
  },
  {
   "cell_type": "code",
   "execution_count": 7,
   "id": "1bcf7ba5",
   "metadata": {},
   "outputs": [
    {
     "name": "stderr",
     "output_type": "stream",
     "text": [
      "INFO:drizzlepac.util:Setting up logfile :  astrodrizzle.log\n"
     ]
    },
    {
     "name": "stdout",
     "output_type": "stream",
     "text": [
      "Setting up logfile :  astrodrizzle.log\n"
     ]
    },
    {
     "name": "stderr",
     "output_type": "stream",
     "text": [
      "INFO:drizzlepac.astrodrizzle:AstroDrizzle Version 3.1.6 (2020-02-19 16:16:30 -0500) started at: 11:11:02.529 (08/06/2021)\n"
     ]
    },
    {
     "name": "stdout",
     "output_type": "stream",
     "text": [
      "AstroDrizzle Version 3.1.6 (2020-02-19 16:16:30 -0500) started at: 11:11:02.529 (08/06/2021)\n"
     ]
    },
    {
     "name": "stderr",
     "output_type": "stream",
     "text": [
      "INFO:drizzlepac.astrodrizzle:\n"
     ]
    },
    {
     "name": "stdout",
     "output_type": "stream",
     "text": [
      "\n"
     ]
    },
    {
     "name": "stderr",
     "output_type": "stream",
     "text": [
      "INFO:drizzlepac.astrodrizzle:Version Information\n",
      "INFO:drizzlepac.astrodrizzle:--------------------\n",
      "INFO:drizzlepac.astrodrizzle:Python Version [Clang 10.0.0 ]\n",
      "INFO:drizzlepac.astrodrizzle:3.7.10 (default, Feb 26 2021, 10:16:00) \n",
      "INFO:drizzlepac.astrodrizzle:numpy Version -> 1.20.2 \n",
      "INFO:drizzlepac.astrodrizzle:astropy Version -> 4.2.1 \n",
      "INFO:drizzlepac.astrodrizzle:stwcs Version -> 1.6.1 \n",
      "INFO:drizzlepac.util:==== Processing Step  Initialization  started at  11:11:02.584 (08/06/2021)\n"
     ]
    },
    {
     "name": "stdout",
     "output_type": "stream",
     "text": [
      "==== Processing Step  Initialization  started at  11:11:02.584 (08/06/2021)\n"
     ]
    },
    {
     "name": "stderr",
     "output_type": "stream",
     "text": [
      "INFO:drizzlepac.util:\n"
     ]
    },
    {
     "name": "stdout",
     "output_type": "stream",
     "text": [
      "\n"
     ]
    },
    {
     "name": "stderr",
     "output_type": "stream",
     "text": [
      "INFO:drizzlepac.processInput:Executing serially\n",
      "INFO:drizzlepac.processInput:Setting up output name: f125w_drz.fits\n",
      "INFO:drizzlepac.processInput:-Creating imageObject List as input for processing steps.\n",
      "INFO:drizzlepac.imageObject:Reading in MDRIZSKY of 0.0539170329309902\n",
      "INFO:drizzlepac.imageObject:Reading in MDRIZSKY of 0.3538148322941206\n",
      "INFO:drizzlepac.imageObject:Reading in MDRIZSKY of 0.0\n",
      "INFO:drizzlepac.imageObject:No context image will be created for icbna6jcq_flt.fits\n",
      "INFO:drizzlepac.imageObject:No context image will be created for icbna6jlq_flt.fits\n",
      "INFO:drizzlepac.imageObject:No context image will be created for icbna6joq_flt.fits\n",
      "INFO:drizzlepac.resetbits:Reset bit values of 4096 to a value of 0 in icbna6jcq_flt.fits[DQ,1]\n",
      "INFO:drizzlepac.resetbits:Reset bit values of 4096 to a value of 0 in icbna6jlq_flt.fits[DQ,1]\n",
      "INFO:drizzlepac.resetbits:Reset bit values of 4096 to a value of 0 in icbna6joq_flt.fits[DQ,1]\n",
      "INFO:drizzlepac.processInput:-Creating output WCS.\n",
      "INFO:drizzlepac.imageObject:No context image will be created for f125w_drz.fits\n",
      "INFO:astropy.wcs.wcs:WCS Keywords\n"
     ]
    },
    {
     "name": "stdout",
     "output_type": "stream",
     "text": [
      "WCS Keywords\n"
     ]
    },
    {
     "name": "stderr",
     "output_type": "stream",
     "text": [
      "INFO:astropy.wcs.wcs:\n"
     ]
    },
    {
     "name": "stdout",
     "output_type": "stream",
     "text": [
      "\n"
     ]
    },
    {
     "name": "stderr",
     "output_type": "stream",
     "text": [
      "INFO:astropy.wcs.wcs:Number of WCS axes: 2\n"
     ]
    },
    {
     "name": "stdout",
     "output_type": "stream",
     "text": [
      "Number of WCS axes: 2\n"
     ]
    },
    {
     "name": "stderr",
     "output_type": "stream",
     "text": [
      "INFO:astropy.wcs.wcs:CTYPE : 'RA---TAN'  'DEC--TAN'  \n"
     ]
    },
    {
     "name": "stdout",
     "output_type": "stream",
     "text": [
      "CTYPE : 'RA---TAN'  'DEC--TAN'  \n"
     ]
    },
    {
     "name": "stderr",
     "output_type": "stream",
     "text": [
      "INFO:astropy.wcs.wcs:CRVAL : 85.26138383791843  -69.8041061414242  \n"
     ]
    },
    {
     "name": "stdout",
     "output_type": "stream",
     "text": [
      "CRVAL : 85.26138383791843  -69.8041061414242  \n"
     ]
    },
    {
     "name": "stderr",
     "output_type": "stream",
     "text": [
      "INFO:astropy.wcs.wcs:CRPIX : 542.5  484.0  \n"
     ]
    },
    {
     "name": "stdout",
     "output_type": "stream",
     "text": [
      "CRPIX : 542.5  484.0  \n"
     ]
    },
    {
     "name": "stderr",
     "output_type": "stream",
     "text": [
      "INFO:astropy.wcs.wcs:CD1_1 CD1_2  : -2.0428236686885658e-05  -2.9186089623123398e-05  \n"
     ]
    },
    {
     "name": "stdout",
     "output_type": "stream",
     "text": [
      "CD1_1 CD1_2  : -2.0428236686885658e-05  -2.9186089623123398e-05  \n"
     ]
    },
    {
     "name": "stderr",
     "output_type": "stream",
     "text": [
      "INFO:astropy.wcs.wcs:CD2_1 CD2_2  : -2.9186089623123398e-05  2.0428236686885658e-05  \n"
     ]
    },
    {
     "name": "stdout",
     "output_type": "stream",
     "text": [
      "CD2_1 CD2_2  : -2.9186089623123398e-05  2.0428236686885658e-05  \n"
     ]
    },
    {
     "name": "stderr",
     "output_type": "stream",
     "text": [
      "INFO:astropy.wcs.wcs:NAXIS : 1085  968\n"
     ]
    },
    {
     "name": "stdout",
     "output_type": "stream",
     "text": [
      "NAXIS : 1085  968\n"
     ]
    },
    {
     "name": "stderr",
     "output_type": "stream",
     "text": [
      "INFO:drizzlepac.processInput:********************************************************************************\n"
     ]
    },
    {
     "name": "stdout",
     "output_type": "stream",
     "text": [
      "********************************************************************************\n"
     ]
    },
    {
     "name": "stderr",
     "output_type": "stream",
     "text": [
      "INFO:drizzlepac.processInput:*\n"
     ]
    },
    {
     "name": "stdout",
     "output_type": "stream",
     "text": [
      "*\n"
     ]
    },
    {
     "name": "stderr",
     "output_type": "stream",
     "text": [
      "INFO:drizzlepac.processInput:*  Estimated memory usage:  up to 59 Mb.\n"
     ]
    },
    {
     "name": "stdout",
     "output_type": "stream",
     "text": [
      "*  Estimated memory usage:  up to 59 Mb.\n"
     ]
    },
    {
     "name": "stderr",
     "output_type": "stream",
     "text": [
      "INFO:drizzlepac.processInput:*  Output image size:       1085 X 968 pixels. \n"
     ]
    },
    {
     "name": "stdout",
     "output_type": "stream",
     "text": [
      "*  Output image size:       1085 X 968 pixels. \n"
     ]
    },
    {
     "name": "stderr",
     "output_type": "stream",
     "text": [
      "INFO:drizzlepac.processInput:*  Output image file:       ~ 12 Mb. \n"
     ]
    },
    {
     "name": "stdout",
     "output_type": "stream",
     "text": [
      "*  Output image file:       ~ 12 Mb. \n"
     ]
    },
    {
     "name": "stderr",
     "output_type": "stream",
     "text": [
      "INFO:drizzlepac.processInput:*  Cores available:         3\n"
     ]
    },
    {
     "name": "stdout",
     "output_type": "stream",
     "text": [
      "*  Cores available:         3\n"
     ]
    },
    {
     "name": "stderr",
     "output_type": "stream",
     "text": [
      "INFO:drizzlepac.processInput:*\n"
     ]
    },
    {
     "name": "stdout",
     "output_type": "stream",
     "text": [
      "*\n"
     ]
    },
    {
     "name": "stderr",
     "output_type": "stream",
     "text": [
      "INFO:drizzlepac.processInput:********************************************************************************\n"
     ]
    },
    {
     "name": "stdout",
     "output_type": "stream",
     "text": [
      "********************************************************************************\n"
     ]
    },
    {
     "name": "stderr",
     "output_type": "stream",
     "text": [
      "INFO:drizzlepac.util:==== Processing Step Initialization finished at 11:11:03.640 (08/06/2021)\n"
     ]
    },
    {
     "name": "stdout",
     "output_type": "stream",
     "text": [
      "==== Processing Step Initialization finished at 11:11:03.640 (08/06/2021)\n"
     ]
    },
    {
     "name": "stderr",
     "output_type": "stream",
     "text": [
      "INFO:drizzlepac.astrodrizzle:USER INPUT PARAMETERS common to all Processing Steps:\n",
      "INFO:drizzlepac.astrodrizzle:\tbuild :\tTrue\n",
      "INFO:drizzlepac.astrodrizzle:\tcoeffs :\tTrue\n",
      "INFO:drizzlepac.astrodrizzle:\tcontext :\tFalse\n",
      "INFO:drizzlepac.astrodrizzle:\tcrbit :\t4096\n",
      "INFO:drizzlepac.astrodrizzle:\tgroup :\t\n",
      "INFO:drizzlepac.astrodrizzle:\tin_memory :\tFalse\n",
      "INFO:drizzlepac.astrodrizzle:\tinput :\t*flt.fits\n",
      "INFO:drizzlepac.astrodrizzle:\tmdriztab :\tFalse\n",
      "INFO:drizzlepac.astrodrizzle:\tnum_cores :\tNone\n",
      "INFO:drizzlepac.astrodrizzle:\toutput :\tf125w\n",
      "INFO:drizzlepac.astrodrizzle:\tproc_unit :\tnative\n",
      "INFO:drizzlepac.astrodrizzle:\tresetbits :\t4096\n",
      "INFO:drizzlepac.astrodrizzle:\trunfile :\tastrodrizzle.log\n",
      "INFO:drizzlepac.astrodrizzle:\tstepsize :\t10\n",
      "INFO:drizzlepac.astrodrizzle:\tupdatewcs :\tFalse\n",
      "INFO:drizzlepac.astrodrizzle:\twcskey :\t\n",
      "INFO:drizzlepac.util:==== Processing Step  Static Mask  started at  11:11:03.689 (08/06/2021)\n"
     ]
    },
    {
     "name": "stdout",
     "output_type": "stream",
     "text": [
      "==== Processing Step  Static Mask  started at  11:11:03.689 (08/06/2021)\n"
     ]
    },
    {
     "name": "stderr",
     "output_type": "stream",
     "text": [
      "INFO:drizzlepac.util:\n"
     ]
    },
    {
     "name": "stdout",
     "output_type": "stream",
     "text": [
      "\n"
     ]
    },
    {
     "name": "stderr",
     "output_type": "stream",
     "text": [
      "INFO:drizzlepac.staticMask:USER INPUT PARAMETERS for Static Mask Step:\n",
      "INFO:drizzlepac.staticMask:\tstatic :\tTrue\n",
      "INFO:drizzlepac.staticMask:\tstatic_sig :\t4.0\n",
      "INFO:drizzlepac.staticMask:Computing static mask:\n",
      "\n",
      "INFO:drizzlepac.staticMask:  mode =  0.913811;   rms = 0.699706;   static_sig = 4.00\n",
      "INFO:drizzlepac.staticMask:Computing static mask:\n",
      "\n",
      "INFO:drizzlepac.staticMask:  mode =  1.219406;   rms = 0.694119;   static_sig = 4.00\n",
      "INFO:drizzlepac.staticMask:Computing static mask:\n",
      "\n",
      "INFO:drizzlepac.staticMask:  mode =  0.880837;   rms = 0.710502;   static_sig = 4.00\n",
      "INFO:drizzlepac.staticMask:Saving static mask to disk: ./WFC3IR_1014x1014_1_staticMask.fits\n",
      "INFO:drizzlepac.util:==== Processing Step Static Mask finished at 11:11:03.87 (08/06/2021)\n"
     ]
    },
    {
     "name": "stdout",
     "output_type": "stream",
     "text": [
      "==== Processing Step Static Mask finished at 11:11:03.87 (08/06/2021)\n"
     ]
    },
    {
     "name": "stderr",
     "output_type": "stream",
     "text": [
      "INFO:drizzlepac.util:==== Processing Step  Subtract Sky  started at  11:11:03.878 (08/06/2021)\n"
     ]
    },
    {
     "name": "stdout",
     "output_type": "stream",
     "text": [
      "==== Processing Step  Subtract Sky  started at  11:11:03.878 (08/06/2021)\n"
     ]
    },
    {
     "name": "stderr",
     "output_type": "stream",
     "text": [
      "INFO:drizzlepac.util:\n"
     ]
    },
    {
     "name": "stdout",
     "output_type": "stream",
     "text": [
      "\n"
     ]
    },
    {
     "name": "stderr",
     "output_type": "stream",
     "text": [
      "INFO:drizzlepac.sky:USER INPUT PARAMETERS for Sky Subtraction Step:\n",
      "INFO:drizzlepac.sky:\tsky_bits :\t0\n",
      "INFO:drizzlepac.sky:\tskyclip :\t5\n",
      "INFO:drizzlepac.sky:\tskyfile :\t\n",
      "INFO:drizzlepac.sky:\tskylower :\tNone\n",
      "INFO:drizzlepac.sky:\tskylsigma :\t4.0\n",
      "INFO:drizzlepac.sky:\tskymask_cat :\t\n",
      "INFO:drizzlepac.sky:\tskymethod :\tmatch\n",
      "INFO:drizzlepac.sky:\tskystat :\tmedian\n",
      "INFO:drizzlepac.sky:\tskysub :\tTrue\n",
      "INFO:drizzlepac.sky:\tskyupper :\tNone\n",
      "INFO:drizzlepac.sky:\tskyuser :\t\n",
      "INFO:drizzlepac.sky:\tskyusigma :\t4.0\n",
      "INFO:drizzlepac.sky:\tskywidth :\t0.1\n",
      "INFO:drizzlepac.sky:\tuse_static :\tTrue\n",
      "INFO:stsci.skypac.utils:***** skymatch started on 2021-06-08 11:11:04.031653\n"
     ]
    },
    {
     "name": "stdout",
     "output_type": "stream",
     "text": [
      "***** skymatch started on 2021-06-08 11:11:04.031653\n"
     ]
    },
    {
     "name": "stderr",
     "output_type": "stream",
     "text": [
      "INFO:stsci.skypac.utils:      Version 1.0.5\n"
     ]
    },
    {
     "name": "stdout",
     "output_type": "stream",
     "text": [
      "      Version 1.0.5\n"
     ]
    },
    {
     "name": "stderr",
     "output_type": "stream",
     "text": [
      "INFO:stsci.skypac.utils:\n"
     ]
    },
    {
     "name": "stdout",
     "output_type": "stream",
     "text": [
      "\n"
     ]
    },
    {
     "name": "stderr",
     "output_type": "stream",
     "text": [
      "INFO:stsci.skypac.utils:'skymatch' task will apply computed sky differences to input image file(s).\n"
     ]
    },
    {
     "name": "stdout",
     "output_type": "stream",
     "text": [
      "'skymatch' task will apply computed sky differences to input image file(s).\n"
     ]
    },
    {
     "name": "stderr",
     "output_type": "stream",
     "text": [
      "INFO:stsci.skypac.utils:\n"
     ]
    },
    {
     "name": "stdout",
     "output_type": "stream",
     "text": [
      "\n"
     ]
    },
    {
     "name": "stderr",
     "output_type": "stream",
     "text": [
      "INFO:stsci.skypac.utils:NOTE: Computed sky values WILL NOT be subtracted from image data ('subtractsky'=False).\n"
     ]
    },
    {
     "name": "stdout",
     "output_type": "stream",
     "text": [
      "NOTE: Computed sky values WILL NOT be subtracted from image data ('subtractsky'=False).\n"
     ]
    },
    {
     "name": "stderr",
     "output_type": "stream",
     "text": [
      "INFO:stsci.skypac.utils:'MDRIZSKY' header keyword will represent sky value *computed* from data.\n"
     ]
    },
    {
     "name": "stdout",
     "output_type": "stream",
     "text": [
      "'MDRIZSKY' header keyword will represent sky value *computed* from data.\n"
     ]
    },
    {
     "name": "stderr",
     "output_type": "stream",
     "text": [
      "INFO:stsci.skypac.utils:\n"
     ]
    },
    {
     "name": "stdout",
     "output_type": "stream",
     "text": [
      "\n"
     ]
    },
    {
     "name": "stderr",
     "output_type": "stream",
     "text": [
      "INFO:stsci.skypac.utils:-----  User specified keywords:  -----\n"
     ]
    },
    {
     "name": "stdout",
     "output_type": "stream",
     "text": [
      "-----  User specified keywords:  -----\n"
     ]
    },
    {
     "name": "stderr",
     "output_type": "stream",
     "text": [
      "INFO:stsci.skypac.utils:       Sky Value Keyword:  'MDRIZSKY'\n"
     ]
    },
    {
     "name": "stdout",
     "output_type": "stream",
     "text": [
      "       Sky Value Keyword:  'MDRIZSKY'\n"
     ]
    },
    {
     "name": "stderr",
     "output_type": "stream",
     "text": [
      "INFO:stsci.skypac.utils:       Data Units Keyword: 'BUNIT'\n"
     ]
    },
    {
     "name": "stdout",
     "output_type": "stream",
     "text": [
      "       Data Units Keyword: 'BUNIT'\n"
     ]
    },
    {
     "name": "stderr",
     "output_type": "stream",
     "text": [
      "INFO:stsci.skypac.utils:\n"
     ]
    },
    {
     "name": "stdout",
     "output_type": "stream",
     "text": [
      "\n"
     ]
    },
    {
     "name": "stderr",
     "output_type": "stream",
     "text": [
      "INFO:stsci.skypac.utils:\n"
     ]
    },
    {
     "name": "stdout",
     "output_type": "stream",
     "text": [
      "\n"
     ]
    },
    {
     "name": "stderr",
     "output_type": "stream",
     "text": [
      "INFO:stsci.skypac.utils:-----  Input file list:  -----\n"
     ]
    },
    {
     "name": "stdout",
     "output_type": "stream",
     "text": [
      "-----  Input file list:  -----\n"
     ]
    },
    {
     "name": "stderr",
     "output_type": "stream",
     "text": [
      "INFO:stsci.skypac.utils:\n"
     ]
    },
    {
     "name": "stdout",
     "output_type": "stream",
     "text": [
      "\n"
     ]
    },
    {
     "name": "stderr",
     "output_type": "stream",
     "text": [
      "INFO:stsci.skypac.utils:   **  Input image: 'icbna6jcq_flt.fits'\n"
     ]
    },
    {
     "name": "stdout",
     "output_type": "stream",
     "text": [
      "   **  Input image: 'icbna6jcq_flt.fits'\n"
     ]
    },
    {
     "name": "stderr",
     "output_type": "stream",
     "text": [
      "INFO:stsci.skypac.utils:       EXT: 'SCI',1;\tMASK: icbna6jcq_skymatch_mask_sci1.fits[0]\n"
     ]
    },
    {
     "name": "stdout",
     "output_type": "stream",
     "text": [
      "       EXT: 'SCI',1;\tMASK: icbna6jcq_skymatch_mask_sci1.fits[0]\n"
     ]
    },
    {
     "name": "stderr",
     "output_type": "stream",
     "text": [
      "INFO:stsci.skypac.utils:\n"
     ]
    },
    {
     "name": "stdout",
     "output_type": "stream",
     "text": [
      "\n"
     ]
    },
    {
     "name": "stderr",
     "output_type": "stream",
     "text": [
      "INFO:stsci.skypac.utils:   **  Input image: 'icbna6jlq_flt.fits'\n"
     ]
    },
    {
     "name": "stdout",
     "output_type": "stream",
     "text": [
      "   **  Input image: 'icbna6jlq_flt.fits'\n"
     ]
    },
    {
     "name": "stderr",
     "output_type": "stream",
     "text": [
      "INFO:stsci.skypac.utils:       EXT: 'SCI',1;\tMASK: icbna6jlq_skymatch_mask_sci1.fits[0]\n"
     ]
    },
    {
     "name": "stdout",
     "output_type": "stream",
     "text": [
      "       EXT: 'SCI',1;\tMASK: icbna6jlq_skymatch_mask_sci1.fits[0]\n"
     ]
    },
    {
     "name": "stderr",
     "output_type": "stream",
     "text": [
      "INFO:stsci.skypac.utils:\n"
     ]
    },
    {
     "name": "stdout",
     "output_type": "stream",
     "text": [
      "\n"
     ]
    },
    {
     "name": "stderr",
     "output_type": "stream",
     "text": [
      "INFO:stsci.skypac.utils:   **  Input image: 'icbna6joq_flt.fits'\n"
     ]
    },
    {
     "name": "stdout",
     "output_type": "stream",
     "text": [
      "   **  Input image: 'icbna6joq_flt.fits'\n"
     ]
    },
    {
     "name": "stderr",
     "output_type": "stream",
     "text": [
      "INFO:stsci.skypac.utils:       EXT: 'SCI',1;\tMASK: icbna6joq_skymatch_mask_sci1.fits[0]\n"
     ]
    },
    {
     "name": "stdout",
     "output_type": "stream",
     "text": [
      "       EXT: 'SCI',1;\tMASK: icbna6joq_skymatch_mask_sci1.fits[0]\n"
     ]
    },
    {
     "name": "stderr",
     "output_type": "stream",
     "text": [
      "INFO:stsci.skypac.utils:\n"
     ]
    },
    {
     "name": "stdout",
     "output_type": "stream",
     "text": [
      "\n"
     ]
    },
    {
     "name": "stderr",
     "output_type": "stream",
     "text": [
      "INFO:stsci.skypac.utils:-----  Sky statistics parameters:  -----\n"
     ]
    },
    {
     "name": "stdout",
     "output_type": "stream",
     "text": [
      "-----  Sky statistics parameters:  -----\n"
     ]
    },
    {
     "name": "stderr",
     "output_type": "stream",
     "text": [
      "INFO:stsci.skypac.utils:       statistics function: 'median'\n"
     ]
    },
    {
     "name": "stdout",
     "output_type": "stream",
     "text": [
      "       statistics function: 'median'\n"
     ]
    },
    {
     "name": "stderr",
     "output_type": "stream",
     "text": [
      "INFO:stsci.skypac.utils:       lower = None\n"
     ]
    },
    {
     "name": "stdout",
     "output_type": "stream",
     "text": [
      "       lower = None\n"
     ]
    },
    {
     "name": "stderr",
     "output_type": "stream",
     "text": [
      "INFO:stsci.skypac.utils:       upper = None\n"
     ]
    },
    {
     "name": "stdout",
     "output_type": "stream",
     "text": [
      "       upper = None\n"
     ]
    },
    {
     "name": "stderr",
     "output_type": "stream",
     "text": [
      "INFO:stsci.skypac.utils:       nclip = 5\n"
     ]
    },
    {
     "name": "stdout",
     "output_type": "stream",
     "text": [
      "       nclip = 5\n"
     ]
    },
    {
     "name": "stderr",
     "output_type": "stream",
     "text": [
      "INFO:stsci.skypac.utils:       lsigma = 4.0\n"
     ]
    },
    {
     "name": "stdout",
     "output_type": "stream",
     "text": [
      "       lsigma = 4.0\n"
     ]
    },
    {
     "name": "stderr",
     "output_type": "stream",
     "text": [
      "INFO:stsci.skypac.utils:       usigma = 4.0\n"
     ]
    },
    {
     "name": "stdout",
     "output_type": "stream",
     "text": [
      "       usigma = 4.0\n"
     ]
    },
    {
     "name": "stderr",
     "output_type": "stream",
     "text": [
      "INFO:stsci.skypac.utils:       binwidth = 0.1\n"
     ]
    },
    {
     "name": "stdout",
     "output_type": "stream",
     "text": [
      "       binwidth = 0.1\n"
     ]
    },
    {
     "name": "stderr",
     "output_type": "stream",
     "text": [
      "INFO:stsci.skypac.utils:\n"
     ]
    },
    {
     "name": "stdout",
     "output_type": "stream",
     "text": [
      "\n"
     ]
    },
    {
     "name": "stderr",
     "output_type": "stream",
     "text": [
      "INFO:stsci.skypac.utils:-----  Data->Brightness conversion parameters for input files:  -----\n"
     ]
    },
    {
     "name": "stdout",
     "output_type": "stream",
     "text": [
      "-----  Data->Brightness conversion parameters for input files:  -----\n"
     ]
    },
    {
     "name": "stderr",
     "output_type": "stream",
     "text": [
      "INFO:stsci.skypac.utils:\n"
     ]
    },
    {
     "name": "stdout",
     "output_type": "stream",
     "text": [
      "\n"
     ]
    },
    {
     "name": "stderr",
     "output_type": "stream",
     "text": [
      "INFO:stsci.skypac.utils:   *   Image: icbna6jcq_flt.fits\n"
     ]
    },
    {
     "name": "stdout",
     "output_type": "stream",
     "text": [
      "   *   Image: icbna6jcq_flt.fits\n"
     ]
    },
    {
     "name": "stderr",
     "output_type": "stream",
     "text": [
      "INFO:stsci.skypac.utils:       EXT = 'SCI',1\n"
     ]
    },
    {
     "name": "stdout",
     "output_type": "stream",
     "text": [
      "       EXT = 'SCI',1\n"
     ]
    },
    {
     "name": "stderr",
     "output_type": "stream",
     "text": [
      "INFO:stsci.skypac.utils:             Data units type: COUNT-RATE\n"
     ]
    },
    {
     "name": "stdout",
     "output_type": "stream",
     "text": [
      "             Data units type: COUNT-RATE\n"
     ]
    },
    {
     "name": "stderr",
     "output_type": "stream",
     "text": [
      "INFO:stsci.skypac.utils:             Conversion factor (data->brightness):  60.797431635711504\n"
     ]
    },
    {
     "name": "stdout",
     "output_type": "stream",
     "text": [
      "             Conversion factor (data->brightness):  60.797431635711504\n"
     ]
    },
    {
     "name": "stderr",
     "output_type": "stream",
     "text": [
      "INFO:stsci.skypac.utils:\n"
     ]
    },
    {
     "name": "stdout",
     "output_type": "stream",
     "text": [
      "\n"
     ]
    },
    {
     "name": "stderr",
     "output_type": "stream",
     "text": [
      "INFO:stsci.skypac.utils:   *   Image: icbna6jlq_flt.fits\n"
     ]
    },
    {
     "name": "stdout",
     "output_type": "stream",
     "text": [
      "   *   Image: icbna6jlq_flt.fits\n"
     ]
    },
    {
     "name": "stderr",
     "output_type": "stream",
     "text": [
      "INFO:stsci.skypac.utils:       EXT = 'SCI',1\n"
     ]
    },
    {
     "name": "stdout",
     "output_type": "stream",
     "text": [
      "       EXT = 'SCI',1\n"
     ]
    },
    {
     "name": "stderr",
     "output_type": "stream",
     "text": [
      "INFO:stsci.skypac.utils:             Data units type: COUNT-RATE\n"
     ]
    },
    {
     "name": "stdout",
     "output_type": "stream",
     "text": [
      "             Data units type: COUNT-RATE\n"
     ]
    },
    {
     "name": "stderr",
     "output_type": "stream",
     "text": [
      "INFO:stsci.skypac.utils:             Conversion factor (data->brightness):  60.797431635711504\n"
     ]
    },
    {
     "name": "stdout",
     "output_type": "stream",
     "text": [
      "             Conversion factor (data->brightness):  60.797431635711504\n"
     ]
    },
    {
     "name": "stderr",
     "output_type": "stream",
     "text": [
      "INFO:stsci.skypac.utils:\n"
     ]
    },
    {
     "name": "stdout",
     "output_type": "stream",
     "text": [
      "\n"
     ]
    },
    {
     "name": "stderr",
     "output_type": "stream",
     "text": [
      "INFO:stsci.skypac.utils:   *   Image: icbna6joq_flt.fits\n"
     ]
    },
    {
     "name": "stdout",
     "output_type": "stream",
     "text": [
      "   *   Image: icbna6joq_flt.fits\n"
     ]
    },
    {
     "name": "stderr",
     "output_type": "stream",
     "text": [
      "INFO:stsci.skypac.utils:       EXT = 'SCI',1\n"
     ]
    },
    {
     "name": "stdout",
     "output_type": "stream",
     "text": [
      "       EXT = 'SCI',1\n"
     ]
    },
    {
     "name": "stderr",
     "output_type": "stream",
     "text": [
      "INFO:stsci.skypac.utils:             Data units type: COUNT-RATE\n"
     ]
    },
    {
     "name": "stdout",
     "output_type": "stream",
     "text": [
      "             Data units type: COUNT-RATE\n"
     ]
    },
    {
     "name": "stderr",
     "output_type": "stream",
     "text": [
      "INFO:stsci.skypac.utils:             Conversion factor (data->brightness):  60.797431635711504\n"
     ]
    },
    {
     "name": "stdout",
     "output_type": "stream",
     "text": [
      "             Conversion factor (data->brightness):  60.797431635711504\n"
     ]
    },
    {
     "name": "stderr",
     "output_type": "stream",
     "text": [
      "INFO:stsci.skypac.utils:\n"
     ]
    },
    {
     "name": "stdout",
     "output_type": "stream",
     "text": [
      "\n"
     ]
    },
    {
     "name": "stderr",
     "output_type": "stream",
     "text": [
      "INFO:stsci.skypac.utils:\n"
     ]
    },
    {
     "name": "stdout",
     "output_type": "stream",
     "text": [
      "\n"
     ]
    },
    {
     "name": "stderr",
     "output_type": "stream",
     "text": [
      "INFO:stsci.skypac.utils:-----  Computing differences in sky values in overlapping regions:  -----\n"
     ]
    },
    {
     "name": "stdout",
     "output_type": "stream",
     "text": [
      "-----  Computing differences in sky values in overlapping regions:  -----\n"
     ]
    },
    {
     "name": "stderr",
     "output_type": "stream",
     "text": [
      "INFO:stsci.skypac.utils:\n"
     ]
    },
    {
     "name": "stdout",
     "output_type": "stream",
     "text": [
      "\n"
     ]
    },
    {
     "name": "stderr",
     "output_type": "stream",
     "text": [
      "INFO:stsci.skypac.utils:   *   Image 'icbna6jcq_flt.fits['SCI',1]' SKY = 3.27802 [brightness units]\n"
     ]
    },
    {
     "name": "stdout",
     "output_type": "stream",
     "text": [
      "   *   Image 'icbna6jcq_flt.fits['SCI',1]' SKY = 3.27802 [brightness units]\n"
     ]
    },
    {
     "name": "stderr",
     "output_type": "stream",
     "text": [
      "INFO:stsci.skypac.utils:       Updating sky of image extension(s) [data units]:\n"
     ]
    },
    {
     "name": "stdout",
     "output_type": "stream",
     "text": [
      "       Updating sky of image extension(s) [data units]:\n"
     ]
    },
    {
     "name": "stderr",
     "output_type": "stream",
     "text": [
      "INFO:stsci.skypac.utils:       -  EXT = 'SCI',1   delta(MDRIZSKY) = 0.053917\n"
     ]
    },
    {
     "name": "stdout",
     "output_type": "stream",
     "text": [
      "       -  EXT = 'SCI',1   delta(MDRIZSKY) = 0.053917\n"
     ]
    },
    {
     "name": "stderr",
     "output_type": "stream",
     "text": [
      "INFO:stsci.skypac.utils:\n"
     ]
    },
    {
     "name": "stdout",
     "output_type": "stream",
     "text": [
      "\n"
     ]
    },
    {
     "name": "stderr",
     "output_type": "stream",
     "text": [
      "INFO:stsci.skypac.utils:   *   Image 'icbna6jlq_flt.fits['SCI',1]' SKY = 21.511 [brightness units]\n"
     ]
    },
    {
     "name": "stdout",
     "output_type": "stream",
     "text": [
      "   *   Image 'icbna6jlq_flt.fits['SCI',1]' SKY = 21.511 [brightness units]\n"
     ]
    },
    {
     "name": "stderr",
     "output_type": "stream",
     "text": [
      "INFO:stsci.skypac.utils:       Updating sky of image extension(s) [data units]:\n"
     ]
    },
    {
     "name": "stdout",
     "output_type": "stream",
     "text": [
      "       Updating sky of image extension(s) [data units]:\n"
     ]
    },
    {
     "name": "stderr",
     "output_type": "stream",
     "text": [
      "INFO:stsci.skypac.utils:       -  EXT = 'SCI',1   delta(MDRIZSKY) = 0.353815\n"
     ]
    },
    {
     "name": "stdout",
     "output_type": "stream",
     "text": [
      "       -  EXT = 'SCI',1   delta(MDRIZSKY) = 0.353815\n"
     ]
    },
    {
     "name": "stderr",
     "output_type": "stream",
     "text": [
      "INFO:stsci.skypac.utils:\n"
     ]
    },
    {
     "name": "stdout",
     "output_type": "stream",
     "text": [
      "\n"
     ]
    },
    {
     "name": "stderr",
     "output_type": "stream",
     "text": [
      "INFO:stsci.skypac.utils:   *   Image 'icbna6joq_flt.fits['SCI',1]' SKY = 0 [brightness units]\n"
     ]
    },
    {
     "name": "stdout",
     "output_type": "stream",
     "text": [
      "   *   Image 'icbna6joq_flt.fits['SCI',1]' SKY = 0 [brightness units]\n"
     ]
    },
    {
     "name": "stderr",
     "output_type": "stream",
     "text": [
      "INFO:stsci.skypac.utils:       Updating sky of image extension(s) [data units]:\n"
     ]
    },
    {
     "name": "stdout",
     "output_type": "stream",
     "text": [
      "       Updating sky of image extension(s) [data units]:\n"
     ]
    },
    {
     "name": "stderr",
     "output_type": "stream",
     "text": [
      "INFO:stsci.skypac.utils:       -  EXT = 'SCI',1   delta(MDRIZSKY) = 0\n"
     ]
    },
    {
     "name": "stdout",
     "output_type": "stream",
     "text": [
      "       -  EXT = 'SCI',1   delta(MDRIZSKY) = 0\n"
     ]
    },
    {
     "name": "stderr",
     "output_type": "stream",
     "text": [
      "INFO:stsci.skypac.utils:\n"
     ]
    },
    {
     "name": "stdout",
     "output_type": "stream",
     "text": [
      "\n"
     ]
    },
    {
     "name": "stderr",
     "output_type": "stream",
     "text": [
      "INFO:stsci.skypac.utils:***** skymatch ended on 2021-06-08 11:11:07.185132\n"
     ]
    },
    {
     "name": "stdout",
     "output_type": "stream",
     "text": [
      "***** skymatch ended on 2021-06-08 11:11:07.185132\n"
     ]
    },
    {
     "name": "stderr",
     "output_type": "stream",
     "text": [
      "INFO:stsci.skypac.utils:TOTAL RUN TIME: 0:00:03.153479\n"
     ]
    },
    {
     "name": "stdout",
     "output_type": "stream",
     "text": [
      "TOTAL RUN TIME: 0:00:03.153479\n"
     ]
    },
    {
     "name": "stderr",
     "output_type": "stream",
     "text": [
      "INFO:drizzlepac.util:==== Processing Step Subtract Sky finished at 11:11:07.327 (08/06/2021)\n"
     ]
    },
    {
     "name": "stdout",
     "output_type": "stream",
     "text": [
      "==== Processing Step Subtract Sky finished at 11:11:07.327 (08/06/2021)\n"
     ]
    },
    {
     "name": "stderr",
     "output_type": "stream",
     "text": [
      "INFO:drizzlepac.util:==== Processing Step  Separate Drizzle  started at  11:11:07.328 (08/06/2021)\n"
     ]
    },
    {
     "name": "stdout",
     "output_type": "stream",
     "text": [
      "==== Processing Step  Separate Drizzle  started at  11:11:07.328 (08/06/2021)\n"
     ]
    },
    {
     "name": "stderr",
     "output_type": "stream",
     "text": [
      "INFO:drizzlepac.util:\n"
     ]
    },
    {
     "name": "stdout",
     "output_type": "stream",
     "text": [
      "\n"
     ]
    },
    {
     "name": "stderr",
     "output_type": "stream",
     "text": [
      "INFO:drizzlepac.adrizzle:Interpreted paramDict with single=True as:\n",
      "{'build': True, 'stepsize': 10, 'coeffs': True, 'wcskey': '', 'kernel': 'turbo', 'wt_scl': 'exptime', 'pixfrac': 1.0, 'fillval': None, 'bits': 96, 'compress': False, 'units': 'cps'}\n",
      "INFO:drizzlepac.adrizzle:USER INPUT PARAMETERS for Separate Drizzle Step:\n",
      "INFO:drizzlepac.adrizzle:\tbits :\t96\n",
      "INFO:drizzlepac.adrizzle:\tbuild :\tFalse\n",
      "INFO:drizzlepac.adrizzle:\tclean :\tTrue\n",
      "INFO:drizzlepac.adrizzle:\tcoeffs :\tTrue\n",
      "INFO:drizzlepac.adrizzle:\tcompress :\tFalse\n",
      "INFO:drizzlepac.adrizzle:\tcrbit :\tNone\n",
      "INFO:drizzlepac.adrizzle:\tfillval :\tNone\n",
      "INFO:drizzlepac.adrizzle:\tkernel :\tturbo\n",
      "INFO:drizzlepac.adrizzle:\tnum_cores :\tNone\n",
      "INFO:drizzlepac.adrizzle:\tpixfrac :\t1.0\n",
      "INFO:drizzlepac.adrizzle:\tproc_unit :\telectrons\n",
      "INFO:drizzlepac.adrizzle:\tstepsize :\t10\n",
      "INFO:drizzlepac.adrizzle:\tunits :\tcps\n",
      "INFO:drizzlepac.adrizzle:\twcskey :\t\n",
      "INFO:drizzlepac.adrizzle:\twht_type :\tNone\n",
      "INFO:drizzlepac.adrizzle:\twt_scl :\texptime\n",
      "INFO:drizzlepac.adrizzle:  **Using sub-sampling value of 10 for kernel turbo\n",
      "INFO:drizzlepac.adrizzle:Running Drizzle to create output frame with WCS of: \n",
      "INFO:astropy.wcs.wcs:WCS Keywords\n"
     ]
    },
    {
     "name": "stdout",
     "output_type": "stream",
     "text": [
      "WCS Keywords\n"
     ]
    },
    {
     "name": "stderr",
     "output_type": "stream",
     "text": [
      "INFO:astropy.wcs.wcs:\n"
     ]
    },
    {
     "name": "stdout",
     "output_type": "stream",
     "text": [
      "\n"
     ]
    },
    {
     "name": "stderr",
     "output_type": "stream",
     "text": [
      "INFO:astropy.wcs.wcs:Number of WCS axes: 2\n"
     ]
    },
    {
     "name": "stdout",
     "output_type": "stream",
     "text": [
      "Number of WCS axes: 2\n"
     ]
    },
    {
     "name": "stderr",
     "output_type": "stream",
     "text": [
      "INFO:astropy.wcs.wcs:CTYPE : 'RA---TAN'  'DEC--TAN'  \n"
     ]
    },
    {
     "name": "stdout",
     "output_type": "stream",
     "text": [
      "CTYPE : 'RA---TAN'  'DEC--TAN'  \n"
     ]
    },
    {
     "name": "stderr",
     "output_type": "stream",
     "text": [
      "INFO:astropy.wcs.wcs:CRVAL : 85.26138383791843  -69.8041061414242  \n"
     ]
    },
    {
     "name": "stdout",
     "output_type": "stream",
     "text": [
      "CRVAL : 85.26138383791843  -69.8041061414242  \n"
     ]
    },
    {
     "name": "stderr",
     "output_type": "stream",
     "text": [
      "INFO:astropy.wcs.wcs:CRPIX : 542.5  484.0  \n"
     ]
    },
    {
     "name": "stdout",
     "output_type": "stream",
     "text": [
      "CRPIX : 542.5  484.0  \n"
     ]
    },
    {
     "name": "stderr",
     "output_type": "stream",
     "text": [
      "INFO:astropy.wcs.wcs:CD1_1 CD1_2  : -2.0428236686885658e-05  -2.9186089623123398e-05  \n"
     ]
    },
    {
     "name": "stdout",
     "output_type": "stream",
     "text": [
      "CD1_1 CD1_2  : -2.0428236686885658e-05  -2.9186089623123398e-05  \n"
     ]
    },
    {
     "name": "stderr",
     "output_type": "stream",
     "text": [
      "INFO:astropy.wcs.wcs:CD2_1 CD2_2  : -2.9186089623123398e-05  2.0428236686885658e-05  \n"
     ]
    },
    {
     "name": "stdout",
     "output_type": "stream",
     "text": [
      "CD2_1 CD2_2  : -2.9186089623123398e-05  2.0428236686885658e-05  \n"
     ]
    },
    {
     "name": "stderr",
     "output_type": "stream",
     "text": [
      "INFO:astropy.wcs.wcs:NAXIS : 1085  968\n"
     ]
    },
    {
     "name": "stdout",
     "output_type": "stream",
     "text": [
      "NAXIS : 1085  968\n"
     ]
    },
    {
     "name": "stderr",
     "output_type": "stream",
     "text": [
      "INFO:drizzlepac.adrizzle:Executing 3 parallel workers\n",
      "INFO:drizzlepac.adrizzle:-Drizzle input: icbna6jlq_flt.fits[sci,1]\n",
      "INFO:drizzlepac.adrizzle:-Drizzle input: icbna6joq_flt.fits[sci,1]\n",
      "INFO:drizzlepac.adrizzle:-Drizzle input: icbna6jcq_flt.fits[sci,1]\n",
      "INFO:drizzlepac.adrizzle:Applying sky value of 0.053917 to icbna6jcq_flt.fits[sci,1]\n",
      "INFO:drizzlepac.adrizzle:Applying sky value of 0.353815 to icbna6jlq_flt.fits[sci,1]\n",
      "INFO:drizzlepac.adrizzle:Applying sky value of 0.000000 to icbna6joq_flt.fits[sci,1]\n",
      "INFO:drizzlepac.adrizzle:Using WCSLIB-based coordinate transformation...\n",
      "INFO:drizzlepac.adrizzle:Using WCSLIB-based coordinate transformation...\n",
      "INFO:drizzlepac.adrizzle:stepsize = 10\n",
      "INFO:drizzlepac.adrizzle:stepsize = 10\n",
      "INFO:drizzlepac.cdriz:-Drizzling using kernel = turbo\n",
      "\n",
      "INFO:drizzlepac.cdriz:-Drizzling using kernel = turbo\n",
      "\n",
      "INFO:drizzlepac.adrizzle:Using WCSLIB-based coordinate transformation...\n",
      "INFO:drizzlepac.adrizzle:stepsize = 10\n",
      "INFO:drizzlepac.cdriz:-Drizzling using kernel = turbo\n",
      "\n",
      "INFO:drizzlepac.outputimage:-Generating simple FITS output: icbna6joq_single_sci.fits\n"
     ]
    },
    {
     "name": "stdout",
     "output_type": "stream",
     "text": [
      "-Generating simple FITS output: icbna6joq_single_sci.fits\n"
     ]
    },
    {
     "name": "stderr",
     "output_type": "stream",
     "text": [
      "INFO:drizzlepac.outputimage:-Generating simple FITS output: icbna6jcq_single_sci.fits\n"
     ]
    },
    {
     "name": "stdout",
     "output_type": "stream",
     "text": [
      "-Generating simple FITS output: icbna6jcq_single_sci.fits\n"
     ]
    },
    {
     "name": "stderr",
     "output_type": "stream",
     "text": [
      "INFO:drizzlepac.outputimage:-Generating simple FITS output: icbna6jlq_single_sci.fits\n"
     ]
    },
    {
     "name": "stdout",
     "output_type": "stream",
     "text": [
      "-Generating simple FITS output: icbna6jlq_single_sci.fits\n"
     ]
    },
    {
     "name": "stderr",
     "output_type": "stream",
     "text": [
      "INFO:drizzlepac.outputimage:Writing out image to disk: icbna6joq_single_sci.fits\n"
     ]
    },
    {
     "name": "stdout",
     "output_type": "stream",
     "text": [
      "Writing out image to disk: icbna6joq_single_sci.fits\n"
     ]
    },
    {
     "name": "stderr",
     "output_type": "stream",
     "text": [
      "INFO:drizzlepac.outputimage:Writing out image to disk: icbna6jcq_single_sci.fits\n"
     ]
    },
    {
     "name": "stdout",
     "output_type": "stream",
     "text": [
      "Writing out image to disk: icbna6jcq_single_sci.fits\n"
     ]
    },
    {
     "name": "stderr",
     "output_type": "stream",
     "text": [
      "INFO:drizzlepac.outputimage:Writing out image to disk: icbna6jlq_single_sci.fits\n"
     ]
    },
    {
     "name": "stdout",
     "output_type": "stream",
     "text": [
      "Writing out image to disk: icbna6jlq_single_sci.fits\n"
     ]
    },
    {
     "name": "stderr",
     "output_type": "stream",
     "text": [
      "INFO:drizzlepac.outputimage:Writing out image to disk: icbna6joq_single_wht.fits\n"
     ]
    },
    {
     "name": "stdout",
     "output_type": "stream",
     "text": [
      "Writing out image to disk: icbna6joq_single_wht.fits\n"
     ]
    },
    {
     "name": "stderr",
     "output_type": "stream",
     "text": [
      "INFO:drizzlepac.outputimage:Writing out image to disk: icbna6jcq_single_wht.fits\n"
     ]
    },
    {
     "name": "stdout",
     "output_type": "stream",
     "text": [
      "Writing out image to disk: icbna6jcq_single_wht.fits\n"
     ]
    },
    {
     "name": "stderr",
     "output_type": "stream",
     "text": [
      "INFO:drizzlepac.outputimage:Writing out image to disk: icbna6jlq_single_wht.fits\n"
     ]
    },
    {
     "name": "stdout",
     "output_type": "stream",
     "text": [
      "Writing out image to disk: icbna6jlq_single_wht.fits\n"
     ]
    },
    {
     "name": "stderr",
     "output_type": "stream",
     "text": [
      "INFO:drizzlepac.util:==== Processing Step Separate Drizzle finished at 11:11:08.456 (08/06/2021)\n"
     ]
    },
    {
     "name": "stdout",
     "output_type": "stream",
     "text": [
      "==== Processing Step Separate Drizzle finished at 11:11:08.456 (08/06/2021)\n"
     ]
    },
    {
     "name": "stderr",
     "output_type": "stream",
     "text": [
      "INFO:drizzlepac.util:==== Processing Step  Create Median  started at  11:11:08.462 (08/06/2021)\n"
     ]
    },
    {
     "name": "stdout",
     "output_type": "stream",
     "text": [
      "==== Processing Step  Create Median  started at  11:11:08.462 (08/06/2021)\n"
     ]
    },
    {
     "name": "stderr",
     "output_type": "stream",
     "text": [
      "INFO:drizzlepac.util:\n"
     ]
    },
    {
     "name": "stdout",
     "output_type": "stream",
     "text": [
      "\n"
     ]
    },
    {
     "name": "stderr",
     "output_type": "stream",
     "text": [
      "INFO:drizzlepac.createMedian:USER INPUT PARAMETERS for Create Median Step:\n",
      "INFO:drizzlepac.createMedian:\tcombine_bufsize :\tNone\n",
      "INFO:drizzlepac.createMedian:\tcombine_grow :\t1\n",
      "INFO:drizzlepac.createMedian:\tcombine_hthresh :\tNone\n",
      "INFO:drizzlepac.createMedian:\tcombine_lthresh :\tNone\n",
      "INFO:drizzlepac.createMedian:\tcombine_maskpt :\t0.3\n",
      "INFO:drizzlepac.createMedian:\tcombine_nhigh :\t0\n",
      "INFO:drizzlepac.createMedian:\tcombine_nlow :\t0\n",
      "INFO:drizzlepac.createMedian:\tcombine_nsigma :\t4 3\n",
      "INFO:drizzlepac.createMedian:\tcombine_type :\tminmed\n",
      "INFO:drizzlepac.createMedian:\tcompress :\tFalse\n",
      "INFO:drizzlepac.createMedian:\tmedian :\tTrue\n",
      "INFO:drizzlepac.createMedian:\tmedian_newmasks :\tTrue\n",
      "INFO:drizzlepac.createMedian:\tproc_unit :\tnative\n",
      "INFO:drizzlepac.createMedian:reference sky value for image 'icbna6jcq_flt.fits' is 37.700540812329045\n"
     ]
    },
    {
     "name": "stdout",
     "output_type": "stream",
     "text": [
      "reference sky value for image 'icbna6jcq_flt.fits' is 37.700540812329045\n"
     ]
    },
    {
     "name": "stderr",
     "output_type": "stream",
     "text": [
      "INFO:drizzlepac.createMedian:reference sky value for image 'icbna6jlq_flt.fits' is 141.25404992462398\n"
     ]
    },
    {
     "name": "stdout",
     "output_type": "stream",
     "text": [
      "reference sky value for image 'icbna6jlq_flt.fits' is 141.25404992462398\n"
     ]
    },
    {
     "name": "stderr",
     "output_type": "stream",
     "text": [
      "INFO:drizzlepac.createMedian:reference sky value for image 'icbna6joq_flt.fits' is 0.0\n"
     ]
    },
    {
     "name": "stdout",
     "output_type": "stream",
     "text": [
      "reference sky value for image 'icbna6joq_flt.fits' is 0.0\n"
     ]
    },
    {
     "name": "stderr",
     "output_type": "stream",
     "text": [
      "INFO:drizzlepac.createMedian:Saving output median image to: 'f125w_med.fits'\n"
     ]
    },
    {
     "name": "stdout",
     "output_type": "stream",
     "text": [
      "Saving output median image to: 'f125w_med.fits'\n"
     ]
    },
    {
     "name": "stderr",
     "output_type": "stream",
     "text": [
      "INFO:drizzlepac.util:==== Processing Step Create Median finished at 11:11:09.143 (08/06/2021)\n"
     ]
    },
    {
     "name": "stdout",
     "output_type": "stream",
     "text": [
      "==== Processing Step Create Median finished at 11:11:09.143 (08/06/2021)\n"
     ]
    },
    {
     "name": "stderr",
     "output_type": "stream",
     "text": [
      "INFO:drizzlepac.util:==== Processing Step  Blot  started at  11:11:09.145 (08/06/2021)\n"
     ]
    },
    {
     "name": "stdout",
     "output_type": "stream",
     "text": [
      "==== Processing Step  Blot  started at  11:11:09.145 (08/06/2021)\n"
     ]
    },
    {
     "name": "stderr",
     "output_type": "stream",
     "text": [
      "INFO:drizzlepac.util:\n"
     ]
    },
    {
     "name": "stdout",
     "output_type": "stream",
     "text": [
      "\n"
     ]
    },
    {
     "name": "stderr",
     "output_type": "stream",
     "text": [
      "INFO:drizzlepac.ablot:USER INPUT PARAMETERS for Blot Step:\n",
      "INFO:drizzlepac.ablot:\tblot_addsky :\tTrue\n",
      "INFO:drizzlepac.ablot:\tblot_interp :\tpoly5\n",
      "INFO:drizzlepac.ablot:\tblot_sinscl :\t1.0\n",
      "INFO:drizzlepac.ablot:\tblot_skyval :\t0.0\n",
      "INFO:drizzlepac.ablot:\tcoeffs :\tTrue\n",
      "INFO:drizzlepac.ablot:    Blot: creating blotted image:  icbna6jcq_flt.fits[sci,1]\n"
     ]
    },
    {
     "name": "stdout",
     "output_type": "stream",
     "text": [
      "    Blot: creating blotted image:  icbna6jcq_flt.fits[sci,1]\n"
     ]
    },
    {
     "name": "stderr",
     "output_type": "stream",
     "text": [
      "INFO:drizzlepac.ablot:Using default C-based coordinate transformation...\n"
     ]
    },
    {
     "name": "stdout",
     "output_type": "stream",
     "text": [
      "Using default C-based coordinate transformation...\n"
     ]
    },
    {
     "name": "stderr",
     "output_type": "stream",
     "text": [
      "INFO:drizzlepac.ablot:Applying sky value of 0.053917 to blotted image icbna6jcq_flt.fits[sci,1]\n",
      "INFO:drizzlepac.outputimage:-Generating simple FITS output: icbna6jcq_sci1_blt.fits\n"
     ]
    },
    {
     "name": "stdout",
     "output_type": "stream",
     "text": [
      "-Generating simple FITS output: icbna6jcq_sci1_blt.fits\n"
     ]
    },
    {
     "name": "stderr",
     "output_type": "stream",
     "text": [
      "INFO:drizzlepac.outputimage:Writing out image to disk: icbna6jcq_sci1_blt.fits\n"
     ]
    },
    {
     "name": "stdout",
     "output_type": "stream",
     "text": [
      "Writing out image to disk: icbna6jcq_sci1_blt.fits\n"
     ]
    },
    {
     "name": "stderr",
     "output_type": "stream",
     "text": [
      "INFO:drizzlepac.ablot:    Blot: creating blotted image:  icbna6jlq_flt.fits[sci,1]\n"
     ]
    },
    {
     "name": "stdout",
     "output_type": "stream",
     "text": [
      "    Blot: creating blotted image:  icbna6jlq_flt.fits[sci,1]\n"
     ]
    },
    {
     "name": "stderr",
     "output_type": "stream",
     "text": [
      "INFO:drizzlepac.ablot:Using default C-based coordinate transformation...\n"
     ]
    },
    {
     "name": "stdout",
     "output_type": "stream",
     "text": [
      "Using default C-based coordinate transformation...\n"
     ]
    },
    {
     "name": "stderr",
     "output_type": "stream",
     "text": [
      "INFO:drizzlepac.ablot:Applying sky value of 0.353815 to blotted image icbna6jlq_flt.fits[sci,1]\n",
      "INFO:drizzlepac.outputimage:-Generating simple FITS output: icbna6jlq_sci1_blt.fits\n"
     ]
    },
    {
     "name": "stdout",
     "output_type": "stream",
     "text": [
      "-Generating simple FITS output: icbna6jlq_sci1_blt.fits\n"
     ]
    },
    {
     "name": "stderr",
     "output_type": "stream",
     "text": [
      "INFO:drizzlepac.outputimage:Writing out image to disk: icbna6jlq_sci1_blt.fits\n"
     ]
    },
    {
     "name": "stdout",
     "output_type": "stream",
     "text": [
      "Writing out image to disk: icbna6jlq_sci1_blt.fits\n"
     ]
    },
    {
     "name": "stderr",
     "output_type": "stream",
     "text": [
      "INFO:drizzlepac.ablot:    Blot: creating blotted image:  icbna6joq_flt.fits[sci,1]\n"
     ]
    },
    {
     "name": "stdout",
     "output_type": "stream",
     "text": [
      "    Blot: creating blotted image:  icbna6joq_flt.fits[sci,1]\n"
     ]
    },
    {
     "name": "stderr",
     "output_type": "stream",
     "text": [
      "INFO:drizzlepac.ablot:Using default C-based coordinate transformation...\n"
     ]
    },
    {
     "name": "stdout",
     "output_type": "stream",
     "text": [
      "Using default C-based coordinate transformation...\n"
     ]
    },
    {
     "name": "stderr",
     "output_type": "stream",
     "text": [
      "INFO:drizzlepac.ablot:Applying sky value of 0.000000 to blotted image icbna6joq_flt.fits[sci,1]\n",
      "INFO:drizzlepac.outputimage:-Generating simple FITS output: icbna6joq_sci1_blt.fits\n"
     ]
    },
    {
     "name": "stdout",
     "output_type": "stream",
     "text": [
      "-Generating simple FITS output: icbna6joq_sci1_blt.fits\n"
     ]
    },
    {
     "name": "stderr",
     "output_type": "stream",
     "text": [
      "INFO:drizzlepac.outputimage:Writing out image to disk: icbna6joq_sci1_blt.fits\n"
     ]
    },
    {
     "name": "stdout",
     "output_type": "stream",
     "text": [
      "Writing out image to disk: icbna6joq_sci1_blt.fits\n"
     ]
    },
    {
     "name": "stderr",
     "output_type": "stream",
     "text": [
      "INFO:drizzlepac.util:==== Processing Step Blot finished at 11:11:10.675 (08/06/2021)\n"
     ]
    },
    {
     "name": "stdout",
     "output_type": "stream",
     "text": [
      "==== Processing Step Blot finished at 11:11:10.675 (08/06/2021)\n"
     ]
    },
    {
     "name": "stderr",
     "output_type": "stream",
     "text": [
      "INFO:drizzlepac.util:==== Processing Step  Driz_CR  started at  11:11:10.677 (08/06/2021)\n"
     ]
    },
    {
     "name": "stdout",
     "output_type": "stream",
     "text": [
      "==== Processing Step  Driz_CR  started at  11:11:10.677 (08/06/2021)\n"
     ]
    },
    {
     "name": "stderr",
     "output_type": "stream",
     "text": [
      "INFO:drizzlepac.util:\n"
     ]
    },
    {
     "name": "stdout",
     "output_type": "stream",
     "text": [
      "\n"
     ]
    },
    {
     "name": "stderr",
     "output_type": "stream",
     "text": [
      "INFO:drizzlepac.drizCR:USER INPUT PARAMETERS for Driz_CR Step:\n",
      "INFO:drizzlepac.drizCR:\tcrbit :\t4096\n",
      "INFO:drizzlepac.drizCR:\tdriz_cr :\tTrue\n",
      "INFO:drizzlepac.drizCR:\tdriz_cr_corr :\tFalse\n",
      "INFO:drizzlepac.drizCR:\tdriz_cr_ctegrow :\t0\n",
      "INFO:drizzlepac.drizCR:\tdriz_cr_grow :\t1\n",
      "INFO:drizzlepac.drizCR:\tdriz_cr_scale :\t1.2 0.7\n",
      "INFO:drizzlepac.drizCR:\tdriz_cr_snr :\t3.5 3.0\n",
      "INFO:drizzlepac.drizCR:\tinmemory :\tFalse\n",
      "INFO:drizzlepac.drizCR:Executing 3 parallel workers\n",
      "INFO:drizzlepac.drizCR:Creating output: icbna6jcq_sci1_crmask.fits\n",
      "INFO:drizzlepac.drizCR:Creating output: icbna6joq_sci1_crmask.fits\n"
     ]
    },
    {
     "name": "stdout",
     "output_type": "stream",
     "text": [
      "Creating output: icbna6jcq_sci1_crmask.fits\n",
      "Creating output: icbna6joq_sci1_crmask.fits\n"
     ]
    },
    {
     "name": "stderr",
     "output_type": "stream",
     "text": [
      "INFO:drizzlepac.drizCR:Creating output: icbna6jlq_sci1_crmask.fits\n"
     ]
    },
    {
     "name": "stdout",
     "output_type": "stream",
     "text": [
      "Creating output: icbna6jlq_sci1_crmask.fits\n"
     ]
    },
    {
     "name": "stderr",
     "output_type": "stream",
     "text": [
      "INFO:drizzlepac.util:==== Processing Step Driz_CR finished at 11:11:11.814 (08/06/2021)\n"
     ]
    },
    {
     "name": "stdout",
     "output_type": "stream",
     "text": [
      "==== Processing Step Driz_CR finished at 11:11:11.814 (08/06/2021)\n"
     ]
    },
    {
     "name": "stderr",
     "output_type": "stream",
     "text": [
      "INFO:drizzlepac.util:==== Processing Step  Final Drizzle  started at  11:11:11.833 (08/06/2021)\n"
     ]
    },
    {
     "name": "stdout",
     "output_type": "stream",
     "text": [
      "==== Processing Step  Final Drizzle  started at  11:11:11.833 (08/06/2021)\n"
     ]
    },
    {
     "name": "stderr",
     "output_type": "stream",
     "text": [
      "INFO:drizzlepac.util:\n"
     ]
    },
    {
     "name": "stdout",
     "output_type": "stream",
     "text": [
      "\n"
     ]
    },
    {
     "name": "stderr",
     "output_type": "stream",
     "text": [
      "INFO:drizzlepac.adrizzle:Interpreted paramDict with single=False as:\n",
      "{'build': True, 'stepsize': 10, 'coeffs': True, 'wcskey': '', 'wht_type': 'EXP', 'kernel': 'square', 'wt_scl': 'exptime', 'pixfrac': 1.0, 'fillval': None, 'maskval': None, 'bits': 96, 'units': 'cps'}\n",
      "INFO:drizzlepac.adrizzle:USER INPUT PARAMETERS for Final Drizzle Step:\n",
      "INFO:drizzlepac.adrizzle:\tbits :\t96\n",
      "INFO:drizzlepac.adrizzle:\tbuild :\tTrue\n",
      "INFO:drizzlepac.adrizzle:\tclean :\tTrue\n",
      "INFO:drizzlepac.adrizzle:\tcoeffs :\tTrue\n",
      "INFO:drizzlepac.adrizzle:\tcrbit :\t4096\n",
      "INFO:drizzlepac.adrizzle:\tfillval :\tNone\n",
      "INFO:drizzlepac.adrizzle:\tkernel :\tsquare\n",
      "INFO:drizzlepac.adrizzle:\tmaskval :\tNone\n",
      "INFO:drizzlepac.adrizzle:\tpixfrac :\t1.0\n",
      "INFO:drizzlepac.adrizzle:\tproc_unit :\tnative\n",
      "INFO:drizzlepac.adrizzle:\tstepsize :\t10\n",
      "INFO:drizzlepac.adrizzle:\tunits :\tcps\n",
      "INFO:drizzlepac.adrizzle:\twcskey :\t\n",
      "INFO:drizzlepac.adrizzle:\twht_type :\tEXP\n",
      "INFO:drizzlepac.adrizzle:\twt_scl :\texptime\n",
      "INFO:drizzlepac.adrizzle:  **Using sub-sampling value of 10 for kernel square\n",
      "INFO:drizzlepac.adrizzle:Running Drizzle to create output frame with WCS of: \n",
      "INFO:astropy.wcs.wcs:WCS Keywords\n"
     ]
    },
    {
     "name": "stdout",
     "output_type": "stream",
     "text": [
      "WCS Keywords\n"
     ]
    },
    {
     "name": "stderr",
     "output_type": "stream",
     "text": [
      "INFO:astropy.wcs.wcs:\n"
     ]
    },
    {
     "name": "stdout",
     "output_type": "stream",
     "text": [
      "\n"
     ]
    },
    {
     "name": "stderr",
     "output_type": "stream",
     "text": [
      "INFO:astropy.wcs.wcs:Number of WCS axes: 2\n"
     ]
    },
    {
     "name": "stdout",
     "output_type": "stream",
     "text": [
      "Number of WCS axes: 2\n"
     ]
    },
    {
     "name": "stderr",
     "output_type": "stream",
     "text": [
      "INFO:astropy.wcs.wcs:CTYPE : 'RA---TAN'  'DEC--TAN'  \n"
     ]
    },
    {
     "name": "stdout",
     "output_type": "stream",
     "text": [
      "CTYPE : 'RA---TAN'  'DEC--TAN'  \n"
     ]
    },
    {
     "name": "stderr",
     "output_type": "stream",
     "text": [
      "INFO:astropy.wcs.wcs:CRVAL : 85.26138383791843  -69.8041061414242  \n"
     ]
    },
    {
     "name": "stdout",
     "output_type": "stream",
     "text": [
      "CRVAL : 85.26138383791843  -69.8041061414242  \n"
     ]
    },
    {
     "name": "stderr",
     "output_type": "stream",
     "text": [
      "INFO:astropy.wcs.wcs:CRPIX : 542.5  484.0  \n"
     ]
    },
    {
     "name": "stdout",
     "output_type": "stream",
     "text": [
      "CRPIX : 542.5  484.0  \n"
     ]
    },
    {
     "name": "stderr",
     "output_type": "stream",
     "text": [
      "INFO:astropy.wcs.wcs:CD1_1 CD1_2  : -2.0428236686885658e-05  -2.9186089623123398e-05  \n"
     ]
    },
    {
     "name": "stdout",
     "output_type": "stream",
     "text": [
      "CD1_1 CD1_2  : -2.0428236686885658e-05  -2.9186089623123398e-05  \n"
     ]
    },
    {
     "name": "stderr",
     "output_type": "stream",
     "text": [
      "INFO:astropy.wcs.wcs:CD2_1 CD2_2  : -2.9186089623123398e-05  2.0428236686885658e-05  \n"
     ]
    },
    {
     "name": "stdout",
     "output_type": "stream",
     "text": [
      "CD2_1 CD2_2  : -2.9186089623123398e-05  2.0428236686885658e-05  \n"
     ]
    },
    {
     "name": "stderr",
     "output_type": "stream",
     "text": [
      "INFO:astropy.wcs.wcs:NAXIS : 1085  968\n"
     ]
    },
    {
     "name": "stdout",
     "output_type": "stream",
     "text": [
      "NAXIS : 1085  968\n"
     ]
    },
    {
     "name": "stderr",
     "output_type": "stream",
     "text": [
      "INFO:drizzlepac.adrizzle:-Drizzle input: icbna6jcq_flt.fits[sci,1]\n",
      "INFO:drizzlepac.adrizzle:Applying sky value of 0.053917 to icbna6jcq_flt.fits[sci,1]\n",
      "INFO:drizzlepac.imageObject:Applying EXPTIME weighting to DQ mask for chip 1\n",
      "INFO:drizzlepac.adrizzle:Using WCSLIB-based coordinate transformation...\n",
      "INFO:drizzlepac.adrizzle:stepsize = 10\n",
      "INFO:drizzlepac.cdriz:-Drizzling using kernel = square\n",
      "\n",
      "INFO:drizzlepac.adrizzle:-Drizzle input: icbna6jlq_flt.fits[sci,1]\n",
      "INFO:drizzlepac.adrizzle:Applying sky value of 0.353815 to icbna6jlq_flt.fits[sci,1]\n",
      "INFO:drizzlepac.imageObject:Applying EXPTIME weighting to DQ mask for chip 1\n",
      "INFO:drizzlepac.adrizzle:Using WCSLIB-based coordinate transformation...\n",
      "INFO:drizzlepac.adrizzle:stepsize = 10\n",
      "INFO:drizzlepac.cdriz:-Drizzling using kernel = square\n",
      "\n",
      "INFO:drizzlepac.adrizzle:-Drizzle input: icbna6joq_flt.fits[sci,1]\n",
      "INFO:drizzlepac.adrizzle:Applying sky value of 0.000000 to icbna6joq_flt.fits[sci,1]\n",
      "INFO:drizzlepac.imageObject:Applying EXPTIME weighting to DQ mask for chip 1\n",
      "INFO:drizzlepac.adrizzle:Using WCSLIB-based coordinate transformation...\n",
      "INFO:drizzlepac.adrizzle:stepsize = 10\n",
      "INFO:drizzlepac.cdriz:-Drizzling using kernel = square\n",
      "\n",
      "INFO:drizzlepac.outputimage:-Generating multi-extension output file:  f125w_drz.fits\n"
     ]
    },
    {
     "name": "stdout",
     "output_type": "stream",
     "text": [
      "-Generating multi-extension output file:  f125w_drz.fits\n"
     ]
    },
    {
     "name": "stderr",
     "output_type": "stream",
     "text": [
      "INFO:stwcs.wcsutil.altwcs:Deleted all instances of WCS with key A in extensions [1]\n"
     ]
    },
    {
     "name": "stdout",
     "output_type": "stream",
     "text": [
      "Deleted all instances of WCS with key A in extensions [1]\n"
     ]
    },
    {
     "name": "stderr",
     "output_type": "stream",
     "text": [
      "INFO:stwcs.wcsutil.altwcs:Deleted all instances of WCS with key B in extensions [1]\n"
     ]
    },
    {
     "name": "stdout",
     "output_type": "stream",
     "text": [
      "Deleted all instances of WCS with key B in extensions [1]\n"
     ]
    },
    {
     "name": "stderr",
     "output_type": "stream",
     "text": [
      "INFO:drizzlepac.outputimage:Writing out to disk: f125w_drz.fits\n"
     ]
    },
    {
     "name": "stdout",
     "output_type": "stream",
     "text": [
      "Writing out to disk: f125w_drz.fits\n"
     ]
    },
    {
     "name": "stderr",
     "output_type": "stream",
     "text": [
      "INFO:drizzlepac.util:==== Processing Step Final Drizzle finished at 11:11:14.411 (08/06/2021)\n"
     ]
    },
    {
     "name": "stdout",
     "output_type": "stream",
     "text": [
      "==== Processing Step Final Drizzle finished at 11:11:14.411 (08/06/2021)\n"
     ]
    },
    {
     "name": "stderr",
     "output_type": "stream",
     "text": [
      "INFO:drizzlepac.astrodrizzle:\n"
     ]
    },
    {
     "name": "stdout",
     "output_type": "stream",
     "text": [
      "\n"
     ]
    },
    {
     "name": "stderr",
     "output_type": "stream",
     "text": [
      "INFO:drizzlepac.astrodrizzle:AstroDrizzle Version 3.1.6 is finished processing at 11:11:14.418 (08/06/2021).\n"
     ]
    },
    {
     "name": "stdout",
     "output_type": "stream",
     "text": [
      "AstroDrizzle Version 3.1.6 is finished processing at 11:11:14.418 (08/06/2021).\n"
     ]
    },
    {
     "name": "stderr",
     "output_type": "stream",
     "text": [
      "INFO:drizzlepac.astrodrizzle:\n"
     ]
    },
    {
     "name": "stdout",
     "output_type": "stream",
     "text": [
      "\n"
     ]
    },
    {
     "name": "stderr",
     "output_type": "stream",
     "text": [
      "INFO:drizzlepac.astrodrizzle:\n"
     ]
    },
    {
     "name": "stdout",
     "output_type": "stream",
     "text": [
      "\n"
     ]
    },
    {
     "name": "stderr",
     "output_type": "stream",
     "text": [
      "INFO:drizzlepac.util:\n"
     ]
    },
    {
     "name": "stdout",
     "output_type": "stream",
     "text": [
      "\n"
     ]
    },
    {
     "name": "stderr",
     "output_type": "stream",
     "text": [
      "INFO:drizzlepac.util:   --------------------          --------------------\n"
     ]
    },
    {
     "name": "stdout",
     "output_type": "stream",
     "text": [
      "   --------------------          --------------------\n"
     ]
    },
    {
     "name": "stderr",
     "output_type": "stream",
     "text": [
      "INFO:drizzlepac.util:                   Step          Elapsed time\n"
     ]
    },
    {
     "name": "stdout",
     "output_type": "stream",
     "text": [
      "                   Step          Elapsed time\n"
     ]
    },
    {
     "name": "stderr",
     "output_type": "stream",
     "text": [
      "INFO:drizzlepac.util:   --------------------          --------------------\n"
     ]
    },
    {
     "name": "stdout",
     "output_type": "stream",
     "text": [
      "   --------------------          --------------------\n"
     ]
    },
    {
     "name": "stderr",
     "output_type": "stream",
     "text": [
      "INFO:drizzlepac.util:\n"
     ]
    },
    {
     "name": "stdout",
     "output_type": "stream",
     "text": [
      "\n"
     ]
    },
    {
     "name": "stderr",
     "output_type": "stream",
     "text": [
      "INFO:drizzlepac.util:         Initialization          1.0565 sec.\n"
     ]
    },
    {
     "name": "stdout",
     "output_type": "stream",
     "text": [
      "         Initialization          1.0565 sec.\n"
     ]
    },
    {
     "name": "stderr",
     "output_type": "stream",
     "text": [
      "INFO:drizzlepac.util:            Static Mask          0.1844 sec.\n"
     ]
    },
    {
     "name": "stdout",
     "output_type": "stream",
     "text": [
      "            Static Mask          0.1844 sec.\n"
     ]
    },
    {
     "name": "stderr",
     "output_type": "stream",
     "text": [
      "INFO:drizzlepac.util:           Subtract Sky          3.4487 sec.\n"
     ]
    },
    {
     "name": "stdout",
     "output_type": "stream",
     "text": [
      "           Subtract Sky          3.4487 sec.\n"
     ]
    },
    {
     "name": "stderr",
     "output_type": "stream",
     "text": [
      "INFO:drizzlepac.util:       Separate Drizzle          1.1276 sec.\n"
     ]
    },
    {
     "name": "stdout",
     "output_type": "stream",
     "text": [
      "       Separate Drizzle          1.1276 sec.\n"
     ]
    },
    {
     "name": "stderr",
     "output_type": "stream",
     "text": [
      "INFO:drizzlepac.util:          Create Median          0.6811 sec.\n"
     ]
    },
    {
     "name": "stdout",
     "output_type": "stream",
     "text": [
      "          Create Median          0.6811 sec.\n"
     ]
    },
    {
     "name": "stderr",
     "output_type": "stream",
     "text": [
      "INFO:drizzlepac.util:                   Blot          1.5295 sec.\n"
     ]
    },
    {
     "name": "stdout",
     "output_type": "stream",
     "text": [
      "                   Blot          1.5295 sec.\n"
     ]
    },
    {
     "name": "stderr",
     "output_type": "stream",
     "text": [
      "INFO:drizzlepac.util:                Driz_CR          1.1363 sec.\n"
     ]
    },
    {
     "name": "stdout",
     "output_type": "stream",
     "text": [
      "                Driz_CR          1.1363 sec.\n"
     ]
    },
    {
     "name": "stderr",
     "output_type": "stream",
     "text": [
      "INFO:drizzlepac.util:          Final Drizzle          2.5784 sec.\n"
     ]
    },
    {
     "name": "stdout",
     "output_type": "stream",
     "text": [
      "          Final Drizzle          2.5784 sec.\n"
     ]
    },
    {
     "name": "stderr",
     "output_type": "stream",
     "text": [
      "INFO:drizzlepac.util:   ====================          ====================\n"
     ]
    },
    {
     "name": "stdout",
     "output_type": "stream",
     "text": [
      "   ====================          ====================\n"
     ]
    },
    {
     "name": "stderr",
     "output_type": "stream",
     "text": [
      "INFO:drizzlepac.util:                  Total          11.7425 sec.\n"
     ]
    },
    {
     "name": "stdout",
     "output_type": "stream",
     "text": [
      "                  Total          11.7425 sec.\n"
     ]
    },
    {
     "name": "stderr",
     "output_type": "stream",
     "text": [
      "INFO:drizzlepac.util:\n"
     ]
    },
    {
     "name": "stdout",
     "output_type": "stream",
     "text": [
      "\n"
     ]
    },
    {
     "name": "stderr",
     "output_type": "stream",
     "text": [
      "INFO:drizzlepac.imageObject:Removing intermediate files for icbna6jcq_flt.fits\n",
      "INFO:drizzlepac.imageObject:Removing intermediate files for icbna6jlq_flt.fits\n",
      "INFO:drizzlepac.imageObject:Removing intermediate files for icbna6joq_flt.fits\n",
      "INFO:drizzlepac.util:Trailer file written to:  astrodrizzle.log\n"
     ]
    },
    {
     "name": "stdout",
     "output_type": "stream",
     "text": [
      "Trailer file written to:  astrodrizzle.log\n"
     ]
    }
   ],
   "source": [
    "# we have 4 exposures of ~same etime, so mosaic them all\n",
    "astrodrizzle.AstroDrizzle('*'+kind+'.fits', \n",
    "                          output=filt,\n",
    "                          preserve=False,\n",
    "                          clean=True, \n",
    "                          build=True,\n",
    "                          context=False,\n",
    "                          skymethod='match',\n",
    "                          driz_sep_bits='64, 32',\n",
    "                          combine_type='minmed',\n",
    "                          final_bits='64, 32')"
   ]
  },
  {
   "cell_type": "code",
   "execution_count": 8,
   "id": "544d3a51",
   "metadata": {},
   "outputs": [
    {
     "name": "stdout",
     "output_type": "stream",
     "text": [
      "IR [[       nan        nan        nan ...        nan        nan        nan]\n",
      " [       nan        nan        nan ...        nan        nan        nan]\n",
      " [       nan        nan        nan ...        nan        nan        nan]\n",
      " ...\n",
      " [ 98.58881   92.4151   114.74224  ...        nan        nan        nan]\n",
      " [ 95.26797   65.884964  97.897736 ...        nan        nan        nan]\n",
      " [ 21.969887  74.39343  126.704216 ...        nan        nan        nan]]\n"
     ]
    },
    {
     "data": {
      "text/plain": [
       "<matplotlib.image.AxesImage at 0x123951350>"
      ]
     },
     "execution_count": 8,
     "metadata": {},
     "output_type": "execute_result"
    },
    {
     "data": {
      "image/png": "[encoded data removed]",
      "text/plain": [
       "<Figure size 1440x1440 with 2 Axes>"
      ]
     },
     "metadata": {
      "needs_background": "light"
     },
     "output_type": "display_data"
    }
   ],
   "source": [
    "if camera==\"UVO\":\n",
    "    sci = fits.getdata(filt+'_drc_sci.fits')\n",
    "    wht = fits.getdata(filt+'_drc_wht.fits')\n",
    "else:\n",
    "    sci = fits.getdata(filt+'_drz_sci.fits')\n",
    "    wht = fits.getdata(filt+'_drz_wht.fits')\n",
    "print(camera,sci)\n",
    "\n",
    "fig = plt.figure(figsize=(20, 20))\n",
    "ax1 = fig.add_subplot(1, 2, 1)\n",
    "ax2 = fig.add_subplot(1, 2, 2)\n",
    "\n",
    "ax1.imshow(sci, vmin=-0.05, vmax=0.4, cmap='Greys_r', origin='lower')\n",
    "ax2.imshow(wht, vmin=0, vmax=1000, cmap='Greys_r', origin='lower')"
   ]
  },
  {
   "cell_type": "code",
   "execution_count": 13,
   "id": "64ad30b6",
   "metadata": {},
   "outputs": [
    {
     "name": "stdout",
     "output_type": "stream",
     "text": [
      "icbna6joq_flt.orig.fits\n"
     ]
    },
    {
     "ename": "IndexError",
     "evalue": "list index out of range",
     "output_type": "error",
     "traceback": [
      "\u001b[0;31m---------------------------------------------------------------------------\u001b[0m",
      "\u001b[0;31mIndexError\u001b[0m                                Traceback (most recent call last)",
      "\u001b[0;32m<ipython-input-13-cefe8d358689>\u001b[0m in \u001b[0;36m<module>\u001b[0;34m\u001b[0m\n\u001b[1;32m      1\u001b[0m \u001b[0mtestim\u001b[0m\u001b[0;34m=\u001b[0m\u001b[0mglob\u001b[0m\u001b[0;34m.\u001b[0m\u001b[0mglob\u001b[0m\u001b[0;34m(\u001b[0m\u001b[0;34m\"*\"\u001b[0m\u001b[0;34m+\u001b[0m\u001b[0mkind\u001b[0m\u001b[0;34m+\u001b[0m\u001b[0;34m\".fits\"\u001b[0m\u001b[0;34m)\u001b[0m\u001b[0;34m[\u001b[0m\u001b[0;36m0\u001b[0m\u001b[0;34m]\u001b[0m\u001b[0;34m\u001b[0m\u001b[0;34m\u001b[0m\u001b[0m\n\u001b[1;32m      2\u001b[0m \u001b[0mprint\u001b[0m\u001b[0;34m(\u001b[0m\u001b[0mtestim\u001b[0m\u001b[0;34m[\u001b[0m\u001b[0;34m:\u001b[0m\u001b[0;34m-\u001b[0m\u001b[0;36m5\u001b[0m\u001b[0;34m]\u001b[0m\u001b[0;34m+\u001b[0m\u001b[0;34m\".orig.fits\"\u001b[0m\u001b[0;34m)\u001b[0m\u001b[0;34m\u001b[0m\u001b[0;34m\u001b[0m\u001b[0m\n\u001b[0;32m----> 3\u001b[0;31m \u001b[0mdq\u001b[0m\u001b[0;34m=\u001b[0m\u001b[0mfits\u001b[0m\u001b[0;34m.\u001b[0m\u001b[0mgetdata\u001b[0m\u001b[0;34m(\u001b[0m\u001b[0mtestim\u001b[0m\u001b[0;34m,\u001b[0m\u001b[0;36m3\u001b[0m\u001b[0;34m)\u001b[0m\u001b[0;34m\u001b[0m\u001b[0;34m\u001b[0m\u001b[0m\n\u001b[0m\u001b[1;32m      4\u001b[0m \u001b[0morigdq\u001b[0m\u001b[0;34m=\u001b[0m\u001b[0mfits\u001b[0m\u001b[0;34m.\u001b[0m\u001b[0mgetdata\u001b[0m\u001b[0;34m(\u001b[0m\u001b[0mtestim\u001b[0m\u001b[0;34m[\u001b[0m\u001b[0;34m:\u001b[0m\u001b[0;34m-\u001b[0m\u001b[0;36m5\u001b[0m\u001b[0;34m]\u001b[0m\u001b[0;34m+\u001b[0m\u001b[0;34m\".orig.fits\"\u001b[0m\u001b[0;34m,\u001b[0m\u001b[0;36m3\u001b[0m\u001b[0;34m)\u001b[0m\u001b[0;34m\u001b[0m\u001b[0;34m\u001b[0m\u001b[0m\n\u001b[1;32m      5\u001b[0m \u001b[0mfig\u001b[0m \u001b[0;34m=\u001b[0m \u001b[0mplt\u001b[0m\u001b[0;34m.\u001b[0m\u001b[0mfigure\u001b[0m\u001b[0;34m(\u001b[0m\u001b[0mfigsize\u001b[0m\u001b[0;34m=\u001b[0m\u001b[0;34m(\u001b[0m\u001b[0;36m20\u001b[0m\u001b[0;34m,\u001b[0m \u001b[0;36m20\u001b[0m\u001b[0;34m)\u001b[0m\u001b[0;34m)\u001b[0m\u001b[0;34m\u001b[0m\u001b[0;34m\u001b[0m\u001b[0m\n",
      "\u001b[0;32m~/opt/miniconda3/envs/astroconda/lib/python3.7/site-packages/astropy/io/fits/convenience.py\u001b[0m in \u001b[0;36mgetdata\u001b[0;34m(filename, header, lower, upper, view, *args, **kwargs)\u001b[0m\n\u001b[1;32m    194\u001b[0m     \u001b[0mhdulist\u001b[0m\u001b[0;34m,\u001b[0m \u001b[0mextidx\u001b[0m \u001b[0;34m=\u001b[0m \u001b[0m_getext\u001b[0m\u001b[0;34m(\u001b[0m\u001b[0mfilename\u001b[0m\u001b[0;34m,\u001b[0m \u001b[0mmode\u001b[0m\u001b[0;34m,\u001b[0m \u001b[0;34m*\u001b[0m\u001b[0margs\u001b[0m\u001b[0;34m,\u001b[0m \u001b[0;34m**\u001b[0m\u001b[0mkwargs\u001b[0m\u001b[0;34m)\u001b[0m\u001b[0;34m\u001b[0m\u001b[0;34m\u001b[0m\u001b[0m\n\u001b[1;32m    195\u001b[0m     \u001b[0;32mtry\u001b[0m\u001b[0;34m:\u001b[0m\u001b[0;34m\u001b[0m\u001b[0;34m\u001b[0m\u001b[0m\n\u001b[0;32m--> 196\u001b[0;31m         \u001b[0mhdu\u001b[0m \u001b[0;34m=\u001b[0m \u001b[0mhdulist\u001b[0m\u001b[0;34m[\u001b[0m\u001b[0mextidx\u001b[0m\u001b[0;34m]\u001b[0m\u001b[0;34m\u001b[0m\u001b[0;34m\u001b[0m\u001b[0m\n\u001b[0m\u001b[1;32m    197\u001b[0m         \u001b[0mdata\u001b[0m \u001b[0;34m=\u001b[0m \u001b[0mhdu\u001b[0m\u001b[0;34m.\u001b[0m\u001b[0mdata\u001b[0m\u001b[0;34m\u001b[0m\u001b[0;34m\u001b[0m\u001b[0m\n\u001b[1;32m    198\u001b[0m         \u001b[0;32mif\u001b[0m \u001b[0mdata\u001b[0m \u001b[0;32mis\u001b[0m \u001b[0;32mNone\u001b[0m \u001b[0;32mand\u001b[0m \u001b[0mextidx\u001b[0m \u001b[0;34m==\u001b[0m \u001b[0;36m0\u001b[0m\u001b[0;34m:\u001b[0m\u001b[0;34m\u001b[0m\u001b[0;34m\u001b[0m\u001b[0m\n",
      "\u001b[0;32m~/opt/miniconda3/envs/astroconda/lib/python3.7/site-packages/astropy/io/fits/hdu/hdulist.py\u001b[0m in \u001b[0;36m__getitem__\u001b[0;34m(self, key)\u001b[0m\n\u001b[1;32m    314\u001b[0m             \u001b[0;31m# Raise a more helpful IndexError if the file was not fully read.\u001b[0m\u001b[0;34m\u001b[0m\u001b[0;34m\u001b[0m\u001b[0;34m\u001b[0m\u001b[0m\n\u001b[1;32m    315\u001b[0m             \u001b[0;32mif\u001b[0m \u001b[0mself\u001b[0m\u001b[0;34m.\u001b[0m\u001b[0m_read_all\u001b[0m\u001b[0;34m:\u001b[0m\u001b[0;34m\u001b[0m\u001b[0;34m\u001b[0m\u001b[0m\n\u001b[0;32m--> 316\u001b[0;31m                 \u001b[0;32mraise\u001b[0m \u001b[0me\u001b[0m\u001b[0;34m\u001b[0m\u001b[0;34m\u001b[0m\u001b[0m\n\u001b[0m\u001b[1;32m    317\u001b[0m             \u001b[0;32melse\u001b[0m\u001b[0;34m:\u001b[0m\u001b[0;34m\u001b[0m\u001b[0;34m\u001b[0m\u001b[0m\n\u001b[1;32m    318\u001b[0m                 raise IndexError('HDU not found, possibly because the index '\n",
      "\u001b[0;32m~/opt/miniconda3/envs/astroconda/lib/python3.7/site-packages/astropy/io/fits/hdu/hdulist.py\u001b[0m in \u001b[0;36m__getitem__\u001b[0;34m(self, key)\u001b[0m\n\u001b[1;32m    310\u001b[0m         \u001b[0;32mtry\u001b[0m\u001b[0;34m:\u001b[0m\u001b[0;34m\u001b[0m\u001b[0;34m\u001b[0m\u001b[0m\n\u001b[1;32m    311\u001b[0m             return self._try_while_unread_hdus(super().__getitem__,\n\u001b[0;32m--> 312\u001b[0;31m                                                self._positive_index_of(key))\n\u001b[0m\u001b[1;32m    313\u001b[0m         \u001b[0;32mexcept\u001b[0m \u001b[0mIndexError\u001b[0m \u001b[0;32mas\u001b[0m \u001b[0me\u001b[0m\u001b[0;34m:\u001b[0m\u001b[0;34m\u001b[0m\u001b[0;34m\u001b[0m\u001b[0m\n\u001b[1;32m    314\u001b[0m             \u001b[0;31m# Raise a more helpful IndexError if the file was not fully read.\u001b[0m\u001b[0;34m\u001b[0m\u001b[0;34m\u001b[0m\u001b[0;34m\u001b[0m\u001b[0m\n",
      "\u001b[0;32m~/opt/miniconda3/envs/astroconda/lib/python3.7/site-packages/astropy/io/fits/hdu/hdulist.py\u001b[0m in \u001b[0;36m_try_while_unread_hdus\u001b[0;34m(self, func, *args, **kwargs)\u001b[0m\n\u001b[1;32m   1107\u001b[0m         \u001b[0;32mwhile\u001b[0m \u001b[0;32mTrue\u001b[0m\u001b[0;34m:\u001b[0m\u001b[0;34m\u001b[0m\u001b[0;34m\u001b[0m\u001b[0m\n\u001b[1;32m   1108\u001b[0m             \u001b[0;32mtry\u001b[0m\u001b[0;34m:\u001b[0m\u001b[0;34m\u001b[0m\u001b[0;34m\u001b[0m\u001b[0m\n\u001b[0;32m-> 1109\u001b[0;31m                 \u001b[0;32mreturn\u001b[0m \u001b[0mfunc\u001b[0m\u001b[0;34m(\u001b[0m\u001b[0;34m*\u001b[0m\u001b[0margs\u001b[0m\u001b[0;34m,\u001b[0m \u001b[0;34m**\u001b[0m\u001b[0mkwargs\u001b[0m\u001b[0;34m)\u001b[0m\u001b[0;34m\u001b[0m\u001b[0;34m\u001b[0m\u001b[0m\n\u001b[0m\u001b[1;32m   1110\u001b[0m             \u001b[0;32mexcept\u001b[0m \u001b[0mException\u001b[0m\u001b[0;34m:\u001b[0m\u001b[0;34m\u001b[0m\u001b[0;34m\u001b[0m\u001b[0m\n\u001b[1;32m   1111\u001b[0m                 \u001b[0;32mif\u001b[0m \u001b[0mself\u001b[0m\u001b[0;34m.\u001b[0m\u001b[0m_read_next_hdu\u001b[0m\u001b[0;34m(\u001b[0m\u001b[0;34m)\u001b[0m\u001b[0;34m:\u001b[0m\u001b[0;34m\u001b[0m\u001b[0;34m\u001b[0m\u001b[0m\n",
      "\u001b[0;31mIndexError\u001b[0m: list index out of range"
     ]
    }
   ],
   "source": [
    "testim=glob.glob(\"*\"+kind+\".fits\")[0]\n",
    "print(testim[:-5]+\".orig.fits\")\n",
    "dq=fits.getdata(testim,3)\n",
    "origdq=fits.getdata(testim[:-5]+\".orig.fits\",3)\n",
    "fig = plt.figure(figsize=(20, 20))\n",
    "#ax1 = fig.add_subplot(1, 2, 1)\n",
    "#ax2 = fig.add_subplot(1, 2, 2)\n",
    "ax2=fig.add_subplot(111)\n",
    "#ax1.imshow(origdq, cmap='Greys_r', origin='lower')\n",
    "ax2.imshow(dq-origdq, cmap='Greys_r', origin='lower',interpolation=\"nearest\")"
   ]
  },
  {
   "cell_type": "code",
   "execution_count": null,
   "id": "5709531a",
   "metadata": {},
   "outputs": [],
   "source": []
  }
 ],
 "metadata": {
  "kernelspec": {
   "display_name": "Python 3",
   "language": "python",
   "name": "python3"
  },
  "language_info": {
   "codemirror_mode": {
    "name": "ipython",
    "version": 3
   },
   "file_extension": ".py",
   "mimetype": "text/x-python",
   "name": "python",
   "nbconvert_exporter": "python",
   "pygments_lexer": "ipython3",
   "version": "3.7.10"
  }
 },
 "nbformat": 4,
 "nbformat_minor": 5
}
